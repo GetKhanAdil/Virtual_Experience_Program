{
  "cells": [
    {
      "cell_type": "markdown",
      "metadata": {
        "id": "view-in-github",
        "colab_type": "text"
      },
      "source": [
        "<a href=\"https://colab.research.google.com/github/GetKhanAdil/Virtual_Experience_Program/blob/main/quantium_Virtual_Experince_Program.ipynb\" target=\"_parent\"><img src=\"https://colab.research.google.com/assets/colab-badge.svg\" alt=\"Open In Colab\"/></a>"
      ]
    },
    {
      "cell_type": "code",
      "execution_count": null,
      "id": "513dcb9c",
      "metadata": {
        "id": "513dcb9c"
      },
      "outputs": [],
      "source": [
        "import pandas as pd\n",
        "import numpy as np\n",
        "import warnings\n",
        "warnings.filterwarnings(\"ignore\")\n",
        "from matplotlib import pyplot as plt\n",
        "import seaborn as sns\n",
        "from datetime import timedelta"
      ]
    },
    {
      "cell_type": "code",
      "execution_count": null,
      "id": "727a9ab6",
      "metadata": {
        "id": "727a9ab6",
        "outputId": "bbd8bc28-5ded-4305-a2ad-398cd0a79386"
      },
      "outputs": [
        {
          "data": {
            "text/html": [
              "<div>\n",
              "<style scoped>\n",
              "    .dataframe tbody tr th:only-of-type {\n",
              "        vertical-align: middle;\n",
              "    }\n",
              "\n",
              "    .dataframe tbody tr th {\n",
              "        vertical-align: top;\n",
              "    }\n",
              "\n",
              "    .dataframe thead th {\n",
              "        text-align: right;\n",
              "    }\n",
              "</style>\n",
              "<table border=\"1\" class=\"dataframe\">\n",
              "  <thead>\n",
              "    <tr style=\"text-align: right;\">\n",
              "      <th></th>\n",
              "      <th>LYLTY_CARD_NBR</th>\n",
              "      <th>LIFESTAGE</th>\n",
              "      <th>PREMIUM_CUSTOMER</th>\n",
              "    </tr>\n",
              "  </thead>\n",
              "  <tbody>\n",
              "    <tr>\n",
              "      <th>0</th>\n",
              "      <td>1000</td>\n",
              "      <td>YOUNG SINGLES/COUPLES</td>\n",
              "      <td>Premium</td>\n",
              "    </tr>\n",
              "    <tr>\n",
              "      <th>1</th>\n",
              "      <td>1002</td>\n",
              "      <td>YOUNG SINGLES/COUPLES</td>\n",
              "      <td>Mainstream</td>\n",
              "    </tr>\n",
              "    <tr>\n",
              "      <th>2</th>\n",
              "      <td>1003</td>\n",
              "      <td>YOUNG FAMILIES</td>\n",
              "      <td>Budget</td>\n",
              "    </tr>\n",
              "    <tr>\n",
              "      <th>3</th>\n",
              "      <td>1004</td>\n",
              "      <td>OLDER SINGLES/COUPLES</td>\n",
              "      <td>Mainstream</td>\n",
              "    </tr>\n",
              "    <tr>\n",
              "      <th>4</th>\n",
              "      <td>1005</td>\n",
              "      <td>MIDAGE SINGLES/COUPLES</td>\n",
              "      <td>Mainstream</td>\n",
              "    </tr>\n",
              "  </tbody>\n",
              "</table>\n",
              "</div>"
            ],
            "text/plain": [
              "   LYLTY_CARD_NBR               LIFESTAGE PREMIUM_CUSTOMER\n",
              "0            1000   YOUNG SINGLES/COUPLES          Premium\n",
              "1            1002   YOUNG SINGLES/COUPLES       Mainstream\n",
              "2            1003          YOUNG FAMILIES           Budget\n",
              "3            1004   OLDER SINGLES/COUPLES       Mainstream\n",
              "4            1005  MIDAGE SINGLES/COUPLES       Mainstream"
            ]
          },
          "execution_count": 2,
          "metadata": {},
          "output_type": "execute_result"
        }
      ],
      "source": [
        "purchase=pd.read_csv(\"QVI_purchase_behaviour.csv\")\n",
        "purchase.head()"
      ]
    },
    {
      "cell_type": "code",
      "execution_count": null,
      "id": "85c4e161",
      "metadata": {
        "id": "85c4e161"
      },
      "outputs": [],
      "source": []
    },
    {
      "cell_type": "markdown",
      "id": "05104a90",
      "metadata": {
        "id": "05104a90"
      },
      "source": [
        "# checking for missing values"
      ]
    },
    {
      "cell_type": "code",
      "execution_count": null,
      "id": "b3ddf123",
      "metadata": {
        "scrolled": true,
        "id": "b3ddf123",
        "outputId": "78b5485d-ba59-46de-cd72-84f9bbddf8fc"
      },
      "outputs": [
        {
          "data": {
            "text/plain": [
              "LYLTY_CARD_NBR      0\n",
              "LIFESTAGE           0\n",
              "PREMIUM_CUSTOMER    0\n",
              "dtype: int64"
            ]
          },
          "execution_count": 3,
          "metadata": {},
          "output_type": "execute_result"
        }
      ],
      "source": [
        "purchase.isna().sum()"
      ]
    },
    {
      "cell_type": "markdown",
      "id": "e43480bf",
      "metadata": {
        "id": "e43480bf"
      },
      "source": [
        "No Missing Values"
      ]
    },
    {
      "cell_type": "markdown",
      "id": "222d9c14",
      "metadata": {
        "id": "222d9c14"
      },
      "source": [
        "# "
      ]
    },
    {
      "cell_type": "markdown",
      "id": "9c0f54e9",
      "metadata": {
        "id": "9c0f54e9"
      },
      "source": [
        "### doesnot contain null value"
      ]
    },
    {
      "cell_type": "markdown",
      "id": "d84e2960",
      "metadata": {
        "id": "d84e2960"
      },
      "source": [
        "# "
      ]
    },
    {
      "cell_type": "code",
      "execution_count": null,
      "id": "77e367e0",
      "metadata": {
        "id": "77e367e0",
        "outputId": "3cfaf806-1716-4240-ce87-8112ee7d6b9a"
      },
      "outputs": [
        {
          "data": {
            "text/plain": [
              "Mainstream    29245\n",
              "Budget        24470\n",
              "Premium       18922\n",
              "Name: PREMIUM_CUSTOMER, dtype: int64"
            ]
          },
          "execution_count": 4,
          "metadata": {},
          "output_type": "execute_result"
        }
      ],
      "source": [
        "purchase.PREMIUM_CUSTOMER.value_counts()"
      ]
    },
    {
      "cell_type": "code",
      "execution_count": null,
      "id": "9927bc10",
      "metadata": {
        "id": "9927bc10",
        "outputId": "69adbc56-5185-4409-f3ff-471ee63e2e58"
      },
      "outputs": [
        {
          "data": {
            "image/png": "[encoded data removed]",
            "text/plain": [
              "<Figure size 750x500 with 1 Axes>"
            ]
          },
          "metadata": {},
          "output_type": "display_data"
        }
      ],
      "source": [
        "plt.figure(dpi=125)\n",
        "plt.title(\"Customer Distribution\")\n",
        "plt.pie(purchase.PREMIUM_CUSTOMER.value_counts(),labels=purchase.PREMIUM_CUSTOMER.value_counts().index,\n",
        "        autopct='%.1f%%',shadow=True,\n",
        "        explode=[0.05,0,.2],startangle=45)\n",
        "plt.show()"
      ]
    },
    {
      "cell_type": "markdown",
      "id": "46a58a28",
      "metadata": {
        "id": "46a58a28"
      },
      "source": [
        "### 26.1% are Premium Member"
      ]
    },
    {
      "cell_type": "markdown",
      "id": "75e7c86c",
      "metadata": {
        "id": "75e7c86c"
      },
      "source": [
        "# "
      ]
    },
    {
      "cell_type": "code",
      "execution_count": null,
      "id": "fa333ee0",
      "metadata": {
        "id": "fa333ee0",
        "outputId": "92de854f-fdfb-4554-8531-a4d6faa1792e"
      },
      "outputs": [
        {
          "data": {
            "text/plain": [
              "RETIREES                  14805\n",
              "OLDER SINGLES/COUPLES     14609\n",
              "YOUNG SINGLES/COUPLES     14441\n",
              "OLDER FAMILIES             9780\n",
              "YOUNG FAMILIES             9178\n",
              "MIDAGE SINGLES/COUPLES     7275\n",
              "NEW FAMILIES               2549\n",
              "Name: LIFESTAGE, dtype: int64"
            ]
          },
          "execution_count": 6,
          "metadata": {},
          "output_type": "execute_result"
        }
      ],
      "source": [
        "purchase.LIFESTAGE.value_counts()"
      ]
    },
    {
      "cell_type": "code",
      "execution_count": null,
      "id": "1ae090a8",
      "metadata": {
        "id": "1ae090a8",
        "outputId": "9ffb1126-6598-454b-caa6-bca94050a463"
      },
      "outputs": [
        {
          "data": {
            "image/png": "[encoded data removed]",
            "text/plain": [
              "<Figure size 750x500 with 1 Axes>"
            ]
          },
          "metadata": {},
          "output_type": "display_data"
        }
      ],
      "source": [
        "plt.figure(dpi=125)\n",
        "plt.title(\"Customer Distribution\")\n",
        "plt.pie(purchase.LIFESTAGE.value_counts().sort_values(),labels=purchase.LIFESTAGE.value_counts().sort_values().index,\n",
        "        autopct='%.1f%%',shadow=True,\n",
        "        explode=[0.5,.1,.1,.1,.1,.1,.1],startangle=0,)\n",
        "plt.show()"
      ]
    },
    {
      "cell_type": "code",
      "execution_count": null,
      "id": "3b63016d",
      "metadata": {
        "id": "3b63016d",
        "outputId": "f1a0f15b-0782-49f3-d7b1-023e86a755e1"
      },
      "outputs": [
        {
          "data": {
            "image/png": "[encoded data removed]",
            "text/plain": [
              "<Figure size 1080x720 with 1 Axes>"
            ]
          },
          "metadata": {
            "needs_background": "light"
          },
          "output_type": "display_data"
        }
      ],
      "source": [
        "plt.figure(figsize=[15,10])\n",
        "ax=sns.countplot(x='LIFESTAGE',data=purchase.sort_values(by=\"PREMIUM_CUSTOMER\",ascending=False),hue='PREMIUM_CUSTOMER',palette='CMRmap_r')\n",
        "plt.xticks(rotation=320)\n",
        "for p in ax.patches:\n",
        "    ax.annotate('{:.1f}'.format(p.get_height()), (p.get_x(), p.get_height()+100))\n",
        "plt.show()"
      ]
    },
    {
      "cell_type": "markdown",
      "id": "35dbf121",
      "metadata": {
        "id": "35dbf121"
      },
      "source": [
        "# "
      ]
    },
    {
      "cell_type": "markdown",
      "id": "4a41fad3",
      "metadata": {
        "id": "4a41fad3"
      },
      "source": [
        "# reading transaction file"
      ]
    },
    {
      "cell_type": "markdown",
      "id": "72eee88a",
      "metadata": {
        "id": "72eee88a"
      },
      "source": [
        "# "
      ]
    },
    {
      "cell_type": "code",
      "execution_count": null,
      "id": "9014350a",
      "metadata": {
        "id": "9014350a"
      },
      "outputs": [],
      "source": [
        "transac=pd.read_csv(\"QVI_transaction_data.csv\")"
      ]
    },
    {
      "cell_type": "code",
      "execution_count": null,
      "id": "fea03f07",
      "metadata": {
        "id": "fea03f07",
        "outputId": "b7ebe540-fe76-40c6-a443-72fccc27d082"
      },
      "outputs": [
        {
          "data": {
            "text/html": [
              "<div>\n",
              "<style scoped>\n",
              "    .dataframe tbody tr th:only-of-type {\n",
              "        vertical-align: middle;\n",
              "    }\n",
              "\n",
              "    .dataframe tbody tr th {\n",
              "        vertical-align: top;\n",
              "    }\n",
              "\n",
              "    .dataframe thead th {\n",
              "        text-align: right;\n",
              "    }\n",
              "</style>\n",
              "<table border=\"1\" class=\"dataframe\">\n",
              "  <thead>\n",
              "    <tr style=\"text-align: right;\">\n",
              "      <th></th>\n",
              "      <th>DATE</th>\n",
              "      <th>STORE_NBR</th>\n",
              "      <th>LYLTY_CARD_NBR</th>\n",
              "      <th>TXN_ID</th>\n",
              "      <th>PROD_NBR</th>\n",
              "      <th>PROD_NAME</th>\n",
              "      <th>PROD_QTY</th>\n",
              "      <th>TOT_SALES</th>\n",
              "    </tr>\n",
              "  </thead>\n",
              "  <tbody>\n",
              "    <tr>\n",
              "      <th>124845</th>\n",
              "      <td>43374</td>\n",
              "      <td>107</td>\n",
              "      <td>107024</td>\n",
              "      <td>108462</td>\n",
              "      <td>45</td>\n",
              "      <td>Smiths Thinly Cut   Roast Chicken 175g</td>\n",
              "      <td>2</td>\n",
              "      <td>6.0</td>\n",
              "    </tr>\n",
              "  </tbody>\n",
              "</table>\n",
              "</div>"
            ],
            "text/plain": [
              "         DATE  STORE_NBR  LYLTY_CARD_NBR  TXN_ID  PROD_NBR  \\\n",
              "124845  43374        107          107024  108462        45   \n",
              "\n",
              "                                     PROD_NAME  PROD_QTY  TOT_SALES  \n",
              "124845  Smiths Thinly Cut   Roast Chicken 175g         2        6.0  "
            ]
          },
          "execution_count": 10,
          "metadata": {},
          "output_type": "execute_result"
        }
      ],
      "source": [
        "transac[transac.duplicated()]"
      ]
    },
    {
      "cell_type": "code",
      "execution_count": null,
      "id": "98dd7571",
      "metadata": {
        "id": "98dd7571"
      },
      "outputs": [],
      "source": [
        "transac.drop_duplicates(inplace=True)"
      ]
    },
    {
      "cell_type": "code",
      "execution_count": null,
      "id": "81244ae0",
      "metadata": {
        "id": "81244ae0",
        "outputId": "258947b9-6b55-49d1-d676-7752adc5b5a0"
      },
      "outputs": [
        {
          "data": {
            "text/html": [
              "<div>\n",
              "<style scoped>\n",
              "    .dataframe tbody tr th:only-of-type {\n",
              "        vertical-align: middle;\n",
              "    }\n",
              "\n",
              "    .dataframe tbody tr th {\n",
              "        vertical-align: top;\n",
              "    }\n",
              "\n",
              "    .dataframe thead th {\n",
              "        text-align: right;\n",
              "    }\n",
              "</style>\n",
              "<table border=\"1\" class=\"dataframe\">\n",
              "  <thead>\n",
              "    <tr style=\"text-align: right;\">\n",
              "      <th></th>\n",
              "      <th>DATE</th>\n",
              "      <th>STORE_NBR</th>\n",
              "      <th>LYLTY_CARD_NBR</th>\n",
              "      <th>TXN_ID</th>\n",
              "      <th>PROD_NBR</th>\n",
              "      <th>PROD_NAME</th>\n",
              "      <th>PROD_QTY</th>\n",
              "      <th>TOT_SALES</th>\n",
              "    </tr>\n",
              "  </thead>\n",
              "  <tbody>\n",
              "    <tr>\n",
              "      <th>0</th>\n",
              "      <td>43390</td>\n",
              "      <td>1</td>\n",
              "      <td>1000</td>\n",
              "      <td>1</td>\n",
              "      <td>5</td>\n",
              "      <td>Natural Chip        Compny SeaSalt175g</td>\n",
              "      <td>2</td>\n",
              "      <td>6.0</td>\n",
              "    </tr>\n",
              "    <tr>\n",
              "      <th>1</th>\n",
              "      <td>43599</td>\n",
              "      <td>1</td>\n",
              "      <td>1307</td>\n",
              "      <td>348</td>\n",
              "      <td>66</td>\n",
              "      <td>CCs Nacho Cheese    175g</td>\n",
              "      <td>3</td>\n",
              "      <td>6.3</td>\n",
              "    </tr>\n",
              "    <tr>\n",
              "      <th>2</th>\n",
              "      <td>43605</td>\n",
              "      <td>1</td>\n",
              "      <td>1343</td>\n",
              "      <td>383</td>\n",
              "      <td>61</td>\n",
              "      <td>Smiths Crinkle Cut  Chips Chicken 170g</td>\n",
              "      <td>2</td>\n",
              "      <td>2.9</td>\n",
              "    </tr>\n",
              "    <tr>\n",
              "      <th>3</th>\n",
              "      <td>43329</td>\n",
              "      <td>2</td>\n",
              "      <td>2373</td>\n",
              "      <td>974</td>\n",
              "      <td>69</td>\n",
              "      <td>Smiths Chip Thinly  S/Cream&amp;Onion 175g</td>\n",
              "      <td>5</td>\n",
              "      <td>15.0</td>\n",
              "    </tr>\n",
              "    <tr>\n",
              "      <th>4</th>\n",
              "      <td>43330</td>\n",
              "      <td>2</td>\n",
              "      <td>2426</td>\n",
              "      <td>1038</td>\n",
              "      <td>108</td>\n",
              "      <td>Kettle Tortilla ChpsHny&amp;Jlpno Chili 150g</td>\n",
              "      <td>3</td>\n",
              "      <td>13.8</td>\n",
              "    </tr>\n",
              "  </tbody>\n",
              "</table>\n",
              "</div>"
            ],
            "text/plain": [
              "    DATE  STORE_NBR  LYLTY_CARD_NBR  TXN_ID  PROD_NBR  \\\n",
              "0  43390          1            1000       1         5   \n",
              "1  43599          1            1307     348        66   \n",
              "2  43605          1            1343     383        61   \n",
              "3  43329          2            2373     974        69   \n",
              "4  43330          2            2426    1038       108   \n",
              "\n",
              "                                  PROD_NAME  PROD_QTY  TOT_SALES  \n",
              "0    Natural Chip        Compny SeaSalt175g         2        6.0  \n",
              "1                  CCs Nacho Cheese    175g         3        6.3  \n",
              "2    Smiths Crinkle Cut  Chips Chicken 170g         2        2.9  \n",
              "3    Smiths Chip Thinly  S/Cream&Onion 175g         5       15.0  \n",
              "4  Kettle Tortilla ChpsHny&Jlpno Chili 150g         3       13.8  "
            ]
          },
          "execution_count": 12,
          "metadata": {},
          "output_type": "execute_result"
        }
      ],
      "source": [
        "transac.head()"
      ]
    },
    {
      "cell_type": "code",
      "execution_count": null,
      "id": "dc2ec292",
      "metadata": {
        "id": "dc2ec292",
        "outputId": "034ad08a-97c0-4c82-ff0a-75e8305ca311"
      },
      "outputs": [
        {
          "name": "stdout",
          "output_type": "stream",
          "text": [
            "2018-10-17 00:00:00\n"
          ]
        }
      ],
      "source": [
        "excel_date = '43390'\n",
        "excel_date = int(excel_date)\n",
        "python_date = pd.to_datetime('1900-01-01') + timedelta(excel_date-2)\n",
        "\n",
        "print(python_date)"
      ]
    },
    {
      "cell_type": "code",
      "execution_count": null,
      "id": "90d5e0ba",
      "metadata": {
        "id": "90d5e0ba"
      },
      "outputs": [],
      "source": [
        "def date(DATE):\n",
        "    excel_date = int(DATE)\n",
        "    return (pd.to_datetime('1900-01-01') + timedelta(excel_date-2))\n",
        "    "
      ]
    },
    {
      "cell_type": "code",
      "execution_count": null,
      "id": "469306e7",
      "metadata": {
        "id": "469306e7"
      },
      "outputs": [],
      "source": [
        "transac[\"date\"]=transac.apply(lambda x:date(x['DATE']),axis=1)"
      ]
    },
    {
      "cell_type": "code",
      "execution_count": null,
      "id": "ad6fac3d",
      "metadata": {
        "id": "ad6fac3d",
        "outputId": "ece5b53e-f494-45bb-8b25-d22a5a216023"
      },
      "outputs": [
        {
          "name": "stdout",
          "output_type": "stream",
          "text": [
            "<class 'pandas.core.frame.DataFrame'>\n",
            "Int64Index: 264835 entries, 0 to 264835\n",
            "Data columns (total 9 columns):\n",
            " #   Column          Non-Null Count   Dtype         \n",
            "---  ------          --------------   -----         \n",
            " 0   DATE            264835 non-null  int64         \n",
            " 1   STORE_NBR       264835 non-null  int64         \n",
            " 2   LYLTY_CARD_NBR  264835 non-null  int64         \n",
            " 3   TXN_ID          264835 non-null  int64         \n",
            " 4   PROD_NBR        264835 non-null  int64         \n",
            " 5   PROD_NAME       264835 non-null  object        \n",
            " 6   PROD_QTY        264835 non-null  int64         \n",
            " 7   TOT_SALES       264835 non-null  float64       \n",
            " 8   date            264835 non-null  datetime64[ns]\n",
            "dtypes: datetime64[ns](1), float64(1), int64(6), object(1)\n",
            "memory usage: 20.2+ MB\n"
          ]
        }
      ],
      "source": [
        "transac.info()"
      ]
    },
    {
      "cell_type": "code",
      "execution_count": null,
      "id": "5fed463b",
      "metadata": {
        "id": "5fed463b"
      },
      "outputs": [],
      "source": [
        "transac=transac.drop(columns=\"DATE\",axis=1)"
      ]
    },
    {
      "cell_type": "code",
      "execution_count": null,
      "id": "01b10b7a",
      "metadata": {
        "id": "01b10b7a",
        "outputId": "b76d3844-09b3-43e5-d981-ce8ca79bf803"
      },
      "outputs": [
        {
          "data": {
            "text/html": [
              "<div>\n",
              "<style scoped>\n",
              "    .dataframe tbody tr th:only-of-type {\n",
              "        vertical-align: middle;\n",
              "    }\n",
              "\n",
              "    .dataframe tbody tr th {\n",
              "        vertical-align: top;\n",
              "    }\n",
              "\n",
              "    .dataframe thead th {\n",
              "        text-align: right;\n",
              "    }\n",
              "</style>\n",
              "<table border=\"1\" class=\"dataframe\">\n",
              "  <thead>\n",
              "    <tr style=\"text-align: right;\">\n",
              "      <th></th>\n",
              "      <th>STORE_NBR</th>\n",
              "      <th>LYLTY_CARD_NBR</th>\n",
              "      <th>TXN_ID</th>\n",
              "      <th>PROD_NBR</th>\n",
              "      <th>PROD_NAME</th>\n",
              "      <th>PROD_QTY</th>\n",
              "      <th>TOT_SALES</th>\n",
              "      <th>date</th>\n",
              "    </tr>\n",
              "  </thead>\n",
              "  <tbody>\n",
              "    <tr>\n",
              "      <th>0</th>\n",
              "      <td>1</td>\n",
              "      <td>1000</td>\n",
              "      <td>1</td>\n",
              "      <td>5</td>\n",
              "      <td>Natural Chip        Compny SeaSalt175g</td>\n",
              "      <td>2</td>\n",
              "      <td>6.0</td>\n",
              "      <td>2018-10-17</td>\n",
              "    </tr>\n",
              "    <tr>\n",
              "      <th>1</th>\n",
              "      <td>1</td>\n",
              "      <td>1307</td>\n",
              "      <td>348</td>\n",
              "      <td>66</td>\n",
              "      <td>CCs Nacho Cheese    175g</td>\n",
              "      <td>3</td>\n",
              "      <td>6.3</td>\n",
              "      <td>2019-05-14</td>\n",
              "    </tr>\n",
              "    <tr>\n",
              "      <th>2</th>\n",
              "      <td>1</td>\n",
              "      <td>1343</td>\n",
              "      <td>383</td>\n",
              "      <td>61</td>\n",
              "      <td>Smiths Crinkle Cut  Chips Chicken 170g</td>\n",
              "      <td>2</td>\n",
              "      <td>2.9</td>\n",
              "      <td>2019-05-20</td>\n",
              "    </tr>\n",
              "    <tr>\n",
              "      <th>3</th>\n",
              "      <td>2</td>\n",
              "      <td>2373</td>\n",
              "      <td>974</td>\n",
              "      <td>69</td>\n",
              "      <td>Smiths Chip Thinly  S/Cream&amp;Onion 175g</td>\n",
              "      <td>5</td>\n",
              "      <td>15.0</td>\n",
              "      <td>2018-08-17</td>\n",
              "    </tr>\n",
              "    <tr>\n",
              "      <th>4</th>\n",
              "      <td>2</td>\n",
              "      <td>2426</td>\n",
              "      <td>1038</td>\n",
              "      <td>108</td>\n",
              "      <td>Kettle Tortilla ChpsHny&amp;Jlpno Chili 150g</td>\n",
              "      <td>3</td>\n",
              "      <td>13.8</td>\n",
              "      <td>2018-08-18</td>\n",
              "    </tr>\n",
              "  </tbody>\n",
              "</table>\n",
              "</div>"
            ],
            "text/plain": [
              "   STORE_NBR  LYLTY_CARD_NBR  TXN_ID  PROD_NBR  \\\n",
              "0          1            1000       1         5   \n",
              "1          1            1307     348        66   \n",
              "2          1            1343     383        61   \n",
              "3          2            2373     974        69   \n",
              "4          2            2426    1038       108   \n",
              "\n",
              "                                  PROD_NAME  PROD_QTY  TOT_SALES       date  \n",
              "0    Natural Chip        Compny SeaSalt175g         2        6.0 2018-10-17  \n",
              "1                  CCs Nacho Cheese    175g         3        6.3 2019-05-14  \n",
              "2    Smiths Crinkle Cut  Chips Chicken 170g         2        2.9 2019-05-20  \n",
              "3    Smiths Chip Thinly  S/Cream&Onion 175g         5       15.0 2018-08-17  \n",
              "4  Kettle Tortilla ChpsHny&Jlpno Chili 150g         3       13.8 2018-08-18  "
            ]
          },
          "execution_count": 18,
          "metadata": {},
          "output_type": "execute_result"
        }
      ],
      "source": [
        "transac.head()"
      ]
    },
    {
      "cell_type": "code",
      "execution_count": null,
      "id": "3225ecc1",
      "metadata": {
        "id": "3225ecc1",
        "outputId": "eb87396f-a1f3-4a3c-b81e-1c934ac40fd8"
      },
      "outputs": [
        {
          "data": {
            "text/html": [
              "<div>\n",
              "<style scoped>\n",
              "    .dataframe tbody tr th:only-of-type {\n",
              "        vertical-align: middle;\n",
              "    }\n",
              "\n",
              "    .dataframe tbody tr th {\n",
              "        vertical-align: top;\n",
              "    }\n",
              "\n",
              "    .dataframe thead th {\n",
              "        text-align: right;\n",
              "    }\n",
              "</style>\n",
              "<table border=\"1\" class=\"dataframe\">\n",
              "  <thead>\n",
              "    <tr style=\"text-align: right;\">\n",
              "      <th></th>\n",
              "      <th>STORE_NBR</th>\n",
              "      <th>LYLTY_CARD_NBR</th>\n",
              "      <th>TXN_ID</th>\n",
              "      <th>PROD_NBR</th>\n",
              "      <th>PROD_QTY</th>\n",
              "      <th>TOT_SALES</th>\n",
              "    </tr>\n",
              "  </thead>\n",
              "  <tbody>\n",
              "    <tr>\n",
              "      <th>count</th>\n",
              "      <td>264835.000000</td>\n",
              "      <td>2.648350e+05</td>\n",
              "      <td>2.648350e+05</td>\n",
              "      <td>264835.000000</td>\n",
              "      <td>264835.000000</td>\n",
              "      <td>264835.000000</td>\n",
              "    </tr>\n",
              "    <tr>\n",
              "      <th>mean</th>\n",
              "      <td>135.080216</td>\n",
              "      <td>1.355496e+05</td>\n",
              "      <td>1.351584e+05</td>\n",
              "      <td>56.583201</td>\n",
              "      <td>1.907308</td>\n",
              "      <td>7.304205</td>\n",
              "    </tr>\n",
              "    <tr>\n",
              "      <th>std</th>\n",
              "      <td>76.784306</td>\n",
              "      <td>8.058011e+04</td>\n",
              "      <td>7.813316e+04</td>\n",
              "      <td>32.826692</td>\n",
              "      <td>0.643655</td>\n",
              "      <td>3.083231</td>\n",
              "    </tr>\n",
              "    <tr>\n",
              "      <th>min</th>\n",
              "      <td>1.000000</td>\n",
              "      <td>1.000000e+03</td>\n",
              "      <td>1.000000e+00</td>\n",
              "      <td>1.000000</td>\n",
              "      <td>1.000000</td>\n",
              "      <td>1.500000</td>\n",
              "    </tr>\n",
              "    <tr>\n",
              "      <th>25%</th>\n",
              "      <td>70.000000</td>\n",
              "      <td>7.002100e+04</td>\n",
              "      <td>6.760100e+04</td>\n",
              "      <td>28.000000</td>\n",
              "      <td>2.000000</td>\n",
              "      <td>5.400000</td>\n",
              "    </tr>\n",
              "    <tr>\n",
              "      <th>50%</th>\n",
              "      <td>130.000000</td>\n",
              "      <td>1.303580e+05</td>\n",
              "      <td>1.351380e+05</td>\n",
              "      <td>56.000000</td>\n",
              "      <td>2.000000</td>\n",
              "      <td>7.400000</td>\n",
              "    </tr>\n",
              "    <tr>\n",
              "      <th>75%</th>\n",
              "      <td>203.000000</td>\n",
              "      <td>2.030945e+05</td>\n",
              "      <td>2.027015e+05</td>\n",
              "      <td>85.000000</td>\n",
              "      <td>2.000000</td>\n",
              "      <td>9.200000</td>\n",
              "    </tr>\n",
              "    <tr>\n",
              "      <th>max</th>\n",
              "      <td>272.000000</td>\n",
              "      <td>2.373711e+06</td>\n",
              "      <td>2.415841e+06</td>\n",
              "      <td>114.000000</td>\n",
              "      <td>200.000000</td>\n",
              "      <td>650.000000</td>\n",
              "    </tr>\n",
              "  </tbody>\n",
              "</table>\n",
              "</div>"
            ],
            "text/plain": [
              "           STORE_NBR  LYLTY_CARD_NBR        TXN_ID       PROD_NBR  \\\n",
              "count  264835.000000    2.648350e+05  2.648350e+05  264835.000000   \n",
              "mean      135.080216    1.355496e+05  1.351584e+05      56.583201   \n",
              "std        76.784306    8.058011e+04  7.813316e+04      32.826692   \n",
              "min         1.000000    1.000000e+03  1.000000e+00       1.000000   \n",
              "25%        70.000000    7.002100e+04  6.760100e+04      28.000000   \n",
              "50%       130.000000    1.303580e+05  1.351380e+05      56.000000   \n",
              "75%       203.000000    2.030945e+05  2.027015e+05      85.000000   \n",
              "max       272.000000    2.373711e+06  2.415841e+06     114.000000   \n",
              "\n",
              "            PROD_QTY      TOT_SALES  \n",
              "count  264835.000000  264835.000000  \n",
              "mean        1.907308       7.304205  \n",
              "std         0.643655       3.083231  \n",
              "min         1.000000       1.500000  \n",
              "25%         2.000000       5.400000  \n",
              "50%         2.000000       7.400000  \n",
              "75%         2.000000       9.200000  \n",
              "max       200.000000     650.000000  "
            ]
          },
          "execution_count": 19,
          "metadata": {},
          "output_type": "execute_result"
        }
      ],
      "source": [
        "transac.describe()"
      ]
    },
    {
      "cell_type": "code",
      "execution_count": null,
      "id": "942d6996",
      "metadata": {
        "id": "942d6996",
        "outputId": "ead55ce0-0403-4db9-d0ba-a3876ff5df28"
      },
      "outputs": [
        {
          "data": {
            "text/html": [
              "<div>\n",
              "<style scoped>\n",
              "    .dataframe tbody tr th:only-of-type {\n",
              "        vertical-align: middle;\n",
              "    }\n",
              "\n",
              "    .dataframe tbody tr th {\n",
              "        vertical-align: top;\n",
              "    }\n",
              "\n",
              "    .dataframe thead th {\n",
              "        text-align: right;\n",
              "    }\n",
              "</style>\n",
              "<table border=\"1\" class=\"dataframe\">\n",
              "  <thead>\n",
              "    <tr style=\"text-align: right;\">\n",
              "      <th></th>\n",
              "      <th>STORE_NBR</th>\n",
              "      <th>LYLTY_CARD_NBR</th>\n",
              "      <th>TXN_ID</th>\n",
              "      <th>PROD_NBR</th>\n",
              "      <th>PROD_NAME</th>\n",
              "      <th>PROD_QTY</th>\n",
              "      <th>TOT_SALES</th>\n",
              "      <th>date</th>\n",
              "    </tr>\n",
              "  </thead>\n",
              "  <tbody>\n",
              "    <tr>\n",
              "      <th>69762</th>\n",
              "      <td>226</td>\n",
              "      <td>226000</td>\n",
              "      <td>226201</td>\n",
              "      <td>4</td>\n",
              "      <td>Dorito Corn Chp     Supreme 380g</td>\n",
              "      <td>200</td>\n",
              "      <td>650.0</td>\n",
              "      <td>2018-08-19</td>\n",
              "    </tr>\n",
              "    <tr>\n",
              "      <th>69763</th>\n",
              "      <td>226</td>\n",
              "      <td>226000</td>\n",
              "      <td>226210</td>\n",
              "      <td>4</td>\n",
              "      <td>Dorito Corn Chp     Supreme 380g</td>\n",
              "      <td>200</td>\n",
              "      <td>650.0</td>\n",
              "      <td>2019-05-20</td>\n",
              "    </tr>\n",
              "  </tbody>\n",
              "</table>\n",
              "</div>"
            ],
            "text/plain": [
              "       STORE_NBR  LYLTY_CARD_NBR  TXN_ID  PROD_NBR  \\\n",
              "69762        226          226000  226201         4   \n",
              "69763        226          226000  226210         4   \n",
              "\n",
              "                              PROD_NAME  PROD_QTY  TOT_SALES       date  \n",
              "69762  Dorito Corn Chp     Supreme 380g       200      650.0 2018-08-19  \n",
              "69763  Dorito Corn Chp     Supreme 380g       200      650.0 2019-05-20  "
            ]
          },
          "execution_count": 20,
          "metadata": {},
          "output_type": "execute_result"
        }
      ],
      "source": [
        "transac[(transac.PROD_QTY > 5)]"
      ]
    },
    {
      "cell_type": "markdown",
      "id": "1f1c8d96",
      "metadata": {
        "id": "1f1c8d96"
      },
      "source": [
        "# Here we Find A outlier-\n",
        "### A same card no. 226000 placed a bulk order from a same store no. 226  with a Quantity of 200\n",
        "### so its is not a regular consumer he/she is a shopkeeper who purchase for there shop\n",
        "### so we are delete this card number so that we can do proper analysis"
      ]
    },
    {
      "cell_type": "code",
      "execution_count": null,
      "id": "c4b66df5",
      "metadata": {
        "id": "c4b66df5"
      },
      "outputs": [],
      "source": [
        "new_tran=transac[~(transac.PROD_QTY > 5)]"
      ]
    },
    {
      "cell_type": "code",
      "execution_count": null,
      "id": "5c0f81e9",
      "metadata": {
        "id": "5c0f81e9",
        "outputId": "c2c14906-ede3-4571-90bd-d60ac63f7721"
      },
      "outputs": [
        {
          "data": {
            "text/html": [
              "<div>\n",
              "<style scoped>\n",
              "    .dataframe tbody tr th:only-of-type {\n",
              "        vertical-align: middle;\n",
              "    }\n",
              "\n",
              "    .dataframe tbody tr th {\n",
              "        vertical-align: top;\n",
              "    }\n",
              "\n",
              "    .dataframe thead th {\n",
              "        text-align: right;\n",
              "    }\n",
              "</style>\n",
              "<table border=\"1\" class=\"dataframe\">\n",
              "  <thead>\n",
              "    <tr style=\"text-align: right;\">\n",
              "      <th></th>\n",
              "      <th>STORE_NBR</th>\n",
              "      <th>LYLTY_CARD_NBR</th>\n",
              "      <th>TXN_ID</th>\n",
              "      <th>PROD_NBR</th>\n",
              "      <th>PROD_NAME</th>\n",
              "      <th>PROD_QTY</th>\n",
              "      <th>TOT_SALES</th>\n",
              "      <th>date</th>\n",
              "    </tr>\n",
              "  </thead>\n",
              "  <tbody>\n",
              "    <tr>\n",
              "      <th>0</th>\n",
              "      <td>1</td>\n",
              "      <td>1000</td>\n",
              "      <td>1</td>\n",
              "      <td>5</td>\n",
              "      <td>Natural Chip        Compny SeaSalt175g</td>\n",
              "      <td>2</td>\n",
              "      <td>6.0</td>\n",
              "      <td>2018-10-17</td>\n",
              "    </tr>\n",
              "    <tr>\n",
              "      <th>1</th>\n",
              "      <td>1</td>\n",
              "      <td>1307</td>\n",
              "      <td>348</td>\n",
              "      <td>66</td>\n",
              "      <td>CCs Nacho Cheese    175g</td>\n",
              "      <td>3</td>\n",
              "      <td>6.3</td>\n",
              "      <td>2019-05-14</td>\n",
              "    </tr>\n",
              "    <tr>\n",
              "      <th>2</th>\n",
              "      <td>1</td>\n",
              "      <td>1343</td>\n",
              "      <td>383</td>\n",
              "      <td>61</td>\n",
              "      <td>Smiths Crinkle Cut  Chips Chicken 170g</td>\n",
              "      <td>2</td>\n",
              "      <td>2.9</td>\n",
              "      <td>2019-05-20</td>\n",
              "    </tr>\n",
              "    <tr>\n",
              "      <th>3</th>\n",
              "      <td>2</td>\n",
              "      <td>2373</td>\n",
              "      <td>974</td>\n",
              "      <td>69</td>\n",
              "      <td>Smiths Chip Thinly  S/Cream&amp;Onion 175g</td>\n",
              "      <td>5</td>\n",
              "      <td>15.0</td>\n",
              "      <td>2018-08-17</td>\n",
              "    </tr>\n",
              "    <tr>\n",
              "      <th>4</th>\n",
              "      <td>2</td>\n",
              "      <td>2426</td>\n",
              "      <td>1038</td>\n",
              "      <td>108</td>\n",
              "      <td>Kettle Tortilla ChpsHny&amp;Jlpno Chili 150g</td>\n",
              "      <td>3</td>\n",
              "      <td>13.8</td>\n",
              "      <td>2018-08-18</td>\n",
              "    </tr>\n",
              "    <tr>\n",
              "      <th>...</th>\n",
              "      <td>...</td>\n",
              "      <td>...</td>\n",
              "      <td>...</td>\n",
              "      <td>...</td>\n",
              "      <td>...</td>\n",
              "      <td>...</td>\n",
              "      <td>...</td>\n",
              "      <td>...</td>\n",
              "    </tr>\n",
              "    <tr>\n",
              "      <th>264831</th>\n",
              "      <td>272</td>\n",
              "      <td>272319</td>\n",
              "      <td>270088</td>\n",
              "      <td>89</td>\n",
              "      <td>Kettle Sweet Chilli And Sour Cream 175g</td>\n",
              "      <td>2</td>\n",
              "      <td>10.8</td>\n",
              "      <td>2019-03-09</td>\n",
              "    </tr>\n",
              "    <tr>\n",
              "      <th>264832</th>\n",
              "      <td>272</td>\n",
              "      <td>272358</td>\n",
              "      <td>270154</td>\n",
              "      <td>74</td>\n",
              "      <td>Tostitos Splash Of  Lime 175g</td>\n",
              "      <td>1</td>\n",
              "      <td>4.4</td>\n",
              "      <td>2018-08-13</td>\n",
              "    </tr>\n",
              "    <tr>\n",
              "      <th>264833</th>\n",
              "      <td>272</td>\n",
              "      <td>272379</td>\n",
              "      <td>270187</td>\n",
              "      <td>51</td>\n",
              "      <td>Doritos Mexicana    170g</td>\n",
              "      <td>2</td>\n",
              "      <td>8.8</td>\n",
              "      <td>2018-11-06</td>\n",
              "    </tr>\n",
              "    <tr>\n",
              "      <th>264834</th>\n",
              "      <td>272</td>\n",
              "      <td>272379</td>\n",
              "      <td>270188</td>\n",
              "      <td>42</td>\n",
              "      <td>Doritos Corn Chip Mexican Jalapeno 150g</td>\n",
              "      <td>2</td>\n",
              "      <td>7.8</td>\n",
              "      <td>2018-12-27</td>\n",
              "    </tr>\n",
              "    <tr>\n",
              "      <th>264835</th>\n",
              "      <td>272</td>\n",
              "      <td>272380</td>\n",
              "      <td>270189</td>\n",
              "      <td>74</td>\n",
              "      <td>Tostitos Splash Of  Lime 175g</td>\n",
              "      <td>2</td>\n",
              "      <td>8.8</td>\n",
              "      <td>2018-09-22</td>\n",
              "    </tr>\n",
              "  </tbody>\n",
              "</table>\n",
              "<p>264833 rows × 8 columns</p>\n",
              "</div>"
            ],
            "text/plain": [
              "        STORE_NBR  LYLTY_CARD_NBR  TXN_ID  PROD_NBR  \\\n",
              "0               1            1000       1         5   \n",
              "1               1            1307     348        66   \n",
              "2               1            1343     383        61   \n",
              "3               2            2373     974        69   \n",
              "4               2            2426    1038       108   \n",
              "...           ...             ...     ...       ...   \n",
              "264831        272          272319  270088        89   \n",
              "264832        272          272358  270154        74   \n",
              "264833        272          272379  270187        51   \n",
              "264834        272          272379  270188        42   \n",
              "264835        272          272380  270189        74   \n",
              "\n",
              "                                       PROD_NAME  PROD_QTY  TOT_SALES  \\\n",
              "0         Natural Chip        Compny SeaSalt175g         2        6.0   \n",
              "1                       CCs Nacho Cheese    175g         3        6.3   \n",
              "2         Smiths Crinkle Cut  Chips Chicken 170g         2        2.9   \n",
              "3         Smiths Chip Thinly  S/Cream&Onion 175g         5       15.0   \n",
              "4       Kettle Tortilla ChpsHny&Jlpno Chili 150g         3       13.8   \n",
              "...                                          ...       ...        ...   \n",
              "264831   Kettle Sweet Chilli And Sour Cream 175g         2       10.8   \n",
              "264832             Tostitos Splash Of  Lime 175g         1        4.4   \n",
              "264833                  Doritos Mexicana    170g         2        8.8   \n",
              "264834   Doritos Corn Chip Mexican Jalapeno 150g         2        7.8   \n",
              "264835             Tostitos Splash Of  Lime 175g         2        8.8   \n",
              "\n",
              "             date  \n",
              "0      2018-10-17  \n",
              "1      2019-05-14  \n",
              "2      2019-05-20  \n",
              "3      2018-08-17  \n",
              "4      2018-08-18  \n",
              "...           ...  \n",
              "264831 2019-03-09  \n",
              "264832 2018-08-13  \n",
              "264833 2018-11-06  \n",
              "264834 2018-12-27  \n",
              "264835 2018-09-22  \n",
              "\n",
              "[264833 rows x 8 columns]"
            ]
          },
          "execution_count": 22,
          "metadata": {},
          "output_type": "execute_result"
        }
      ],
      "source": [
        "new_tran"
      ]
    },
    {
      "cell_type": "code",
      "execution_count": null,
      "id": "b059ebf4",
      "metadata": {
        "id": "b059ebf4",
        "outputId": "f247c573-e81f-418e-9cb4-ddf4a06f7ae6"
      },
      "outputs": [
        {
          "data": {
            "text/html": [
              "<div>\n",
              "<style scoped>\n",
              "    .dataframe tbody tr th:only-of-type {\n",
              "        vertical-align: middle;\n",
              "    }\n",
              "\n",
              "    .dataframe tbody tr th {\n",
              "        vertical-align: top;\n",
              "    }\n",
              "\n",
              "    .dataframe thead th {\n",
              "        text-align: right;\n",
              "    }\n",
              "</style>\n",
              "<table border=\"1\" class=\"dataframe\">\n",
              "  <thead>\n",
              "    <tr style=\"text-align: right;\">\n",
              "      <th></th>\n",
              "      <th>STORE_NBR</th>\n",
              "      <th>LYLTY_CARD_NBR</th>\n",
              "      <th>TXN_ID</th>\n",
              "      <th>PROD_NBR</th>\n",
              "      <th>PROD_QTY</th>\n",
              "      <th>TOT_SALES</th>\n",
              "    </tr>\n",
              "  </thead>\n",
              "  <tbody>\n",
              "    <tr>\n",
              "      <th>count</th>\n",
              "      <td>264833.000000</td>\n",
              "      <td>2.648330e+05</td>\n",
              "      <td>2.648330e+05</td>\n",
              "      <td>264833.000000</td>\n",
              "      <td>264833.000000</td>\n",
              "      <td>264833.000000</td>\n",
              "    </tr>\n",
              "    <tr>\n",
              "      <th>mean</th>\n",
              "      <td>135.079529</td>\n",
              "      <td>1.355489e+05</td>\n",
              "      <td>1.351577e+05</td>\n",
              "      <td>56.583598</td>\n",
              "      <td>1.905812</td>\n",
              "      <td>7.299351</td>\n",
              "    </tr>\n",
              "    <tr>\n",
              "      <th>std</th>\n",
              "      <td>76.784189</td>\n",
              "      <td>8.058003e+04</td>\n",
              "      <td>7.813305e+04</td>\n",
              "      <td>32.826498</td>\n",
              "      <td>0.343437</td>\n",
              "      <td>2.527244</td>\n",
              "    </tr>\n",
              "    <tr>\n",
              "      <th>min</th>\n",
              "      <td>1.000000</td>\n",
              "      <td>1.000000e+03</td>\n",
              "      <td>1.000000e+00</td>\n",
              "      <td>1.000000</td>\n",
              "      <td>1.000000</td>\n",
              "      <td>1.500000</td>\n",
              "    </tr>\n",
              "    <tr>\n",
              "      <th>25%</th>\n",
              "      <td>70.000000</td>\n",
              "      <td>7.002100e+04</td>\n",
              "      <td>6.760000e+04</td>\n",
              "      <td>28.000000</td>\n",
              "      <td>2.000000</td>\n",
              "      <td>5.400000</td>\n",
              "    </tr>\n",
              "    <tr>\n",
              "      <th>50%</th>\n",
              "      <td>130.000000</td>\n",
              "      <td>1.303570e+05</td>\n",
              "      <td>1.351370e+05</td>\n",
              "      <td>56.000000</td>\n",
              "      <td>2.000000</td>\n",
              "      <td>7.400000</td>\n",
              "    </tr>\n",
              "    <tr>\n",
              "      <th>75%</th>\n",
              "      <td>203.000000</td>\n",
              "      <td>2.030940e+05</td>\n",
              "      <td>2.027000e+05</td>\n",
              "      <td>85.000000</td>\n",
              "      <td>2.000000</td>\n",
              "      <td>9.200000</td>\n",
              "    </tr>\n",
              "    <tr>\n",
              "      <th>max</th>\n",
              "      <td>272.000000</td>\n",
              "      <td>2.373711e+06</td>\n",
              "      <td>2.415841e+06</td>\n",
              "      <td>114.000000</td>\n",
              "      <td>5.000000</td>\n",
              "      <td>29.500000</td>\n",
              "    </tr>\n",
              "  </tbody>\n",
              "</table>\n",
              "</div>"
            ],
            "text/plain": [
              "           STORE_NBR  LYLTY_CARD_NBR        TXN_ID       PROD_NBR  \\\n",
              "count  264833.000000    2.648330e+05  2.648330e+05  264833.000000   \n",
              "mean      135.079529    1.355489e+05  1.351577e+05      56.583598   \n",
              "std        76.784189    8.058003e+04  7.813305e+04      32.826498   \n",
              "min         1.000000    1.000000e+03  1.000000e+00       1.000000   \n",
              "25%        70.000000    7.002100e+04  6.760000e+04      28.000000   \n",
              "50%       130.000000    1.303570e+05  1.351370e+05      56.000000   \n",
              "75%       203.000000    2.030940e+05  2.027000e+05      85.000000   \n",
              "max       272.000000    2.373711e+06  2.415841e+06     114.000000   \n",
              "\n",
              "            PROD_QTY      TOT_SALES  \n",
              "count  264833.000000  264833.000000  \n",
              "mean        1.905812       7.299351  \n",
              "std         0.343437       2.527244  \n",
              "min         1.000000       1.500000  \n",
              "25%         2.000000       5.400000  \n",
              "50%         2.000000       7.400000  \n",
              "75%         2.000000       9.200000  \n",
              "max         5.000000      29.500000  "
            ]
          },
          "execution_count": 23,
          "metadata": {},
          "output_type": "execute_result"
        }
      ],
      "source": [
        "new_tran.describe()"
      ]
    },
    {
      "cell_type": "code",
      "execution_count": null,
      "id": "25a69bce",
      "metadata": {
        "id": "25a69bce"
      },
      "outputs": [],
      "source": []
    },
    {
      "cell_type": "code",
      "execution_count": null,
      "id": "7763c2f5",
      "metadata": {
        "id": "7763c2f5",
        "outputId": "9a53b457-5e77-4b1a-bea9-7ece2741063d"
      },
      "outputs": [
        {
          "data": {
            "text/html": [
              "<div>\n",
              "<style scoped>\n",
              "    .dataframe tbody tr th:only-of-type {\n",
              "        vertical-align: middle;\n",
              "    }\n",
              "\n",
              "    .dataframe tbody tr th {\n",
              "        vertical-align: top;\n",
              "    }\n",
              "\n",
              "    .dataframe thead th {\n",
              "        text-align: right;\n",
              "    }\n",
              "</style>\n",
              "<table border=\"1\" class=\"dataframe\">\n",
              "  <thead>\n",
              "    <tr style=\"text-align: right;\">\n",
              "      <th></th>\n",
              "      <th>STORE_NBR</th>\n",
              "      <th>LYLTY_CARD_NBR</th>\n",
              "      <th>TXN_ID</th>\n",
              "      <th>PROD_NBR</th>\n",
              "      <th>PROD_NAME</th>\n",
              "      <th>PROD_QTY</th>\n",
              "      <th>TOT_SALES</th>\n",
              "      <th>date</th>\n",
              "    </tr>\n",
              "  </thead>\n",
              "  <tbody>\n",
              "    <tr>\n",
              "      <th>55558</th>\n",
              "      <td>190</td>\n",
              "      <td>190113</td>\n",
              "      <td>190914</td>\n",
              "      <td>14</td>\n",
              "      <td>Smiths Crnkle Chip  Orgnl Big Bag 380g</td>\n",
              "      <td>5</td>\n",
              "      <td>29.5</td>\n",
              "      <td>2019-05-14</td>\n",
              "    </tr>\n",
              "    <tr>\n",
              "      <th>5179</th>\n",
              "      <td>94</td>\n",
              "      <td>94148</td>\n",
              "      <td>93390</td>\n",
              "      <td>14</td>\n",
              "      <td>Smiths Crnkle Chip  Orgnl Big Bag 380g</td>\n",
              "      <td>5</td>\n",
              "      <td>29.5</td>\n",
              "      <td>2018-08-15</td>\n",
              "    </tr>\n",
              "    <tr>\n",
              "      <th>117850</th>\n",
              "      <td>194</td>\n",
              "      <td>194308</td>\n",
              "      <td>194516</td>\n",
              "      <td>14</td>\n",
              "      <td>Smiths Crnkle Chip  Orgnl Big Bag 380g</td>\n",
              "      <td>5</td>\n",
              "      <td>29.5</td>\n",
              "      <td>2019-05-19</td>\n",
              "    </tr>\n",
              "    <tr>\n",
              "      <th>150683</th>\n",
              "      <td>118</td>\n",
              "      <td>118021</td>\n",
              "      <td>120799</td>\n",
              "      <td>14</td>\n",
              "      <td>Smiths Crnkle Chip  Orgnl Big Bag 380g</td>\n",
              "      <td>5</td>\n",
              "      <td>29.5</td>\n",
              "      <td>2019-05-20</td>\n",
              "    </tr>\n",
              "    <tr>\n",
              "      <th>184969</th>\n",
              "      <td>44</td>\n",
              "      <td>44350</td>\n",
              "      <td>40394</td>\n",
              "      <td>14</td>\n",
              "      <td>Smiths Crnkle Chip  Orgnl Big Bag 380g</td>\n",
              "      <td>5</td>\n",
              "      <td>29.5</td>\n",
              "      <td>2019-05-20</td>\n",
              "    </tr>\n",
              "    <tr>\n",
              "      <th>...</th>\n",
              "      <td>...</td>\n",
              "      <td>...</td>\n",
              "      <td>...</td>\n",
              "      <td>...</td>\n",
              "      <td>...</td>\n",
              "      <td>...</td>\n",
              "      <td>...</td>\n",
              "      <td>...</td>\n",
              "    </tr>\n",
              "    <tr>\n",
              "      <th>204061</th>\n",
              "      <td>41</td>\n",
              "      <td>41280</td>\n",
              "      <td>38218</td>\n",
              "      <td>35</td>\n",
              "      <td>Woolworths Mild     Salsa 300g</td>\n",
              "      <td>1</td>\n",
              "      <td>1.5</td>\n",
              "      <td>2019-05-16</td>\n",
              "    </tr>\n",
              "    <tr>\n",
              "      <th>172293</th>\n",
              "      <td>265</td>\n",
              "      <td>265335</td>\n",
              "      <td>263676</td>\n",
              "      <td>35</td>\n",
              "      <td>Woolworths Mild     Salsa 300g</td>\n",
              "      <td>1</td>\n",
              "      <td>1.5</td>\n",
              "      <td>2018-08-14</td>\n",
              "    </tr>\n",
              "    <tr>\n",
              "      <th>149440</th>\n",
              "      <td>254</td>\n",
              "      <td>254180</td>\n",
              "      <td>254267</td>\n",
              "      <td>76</td>\n",
              "      <td>Woolworths Medium   Salsa 300g</td>\n",
              "      <td>1</td>\n",
              "      <td>1.5</td>\n",
              "      <td>2019-01-18</td>\n",
              "    </tr>\n",
              "    <tr>\n",
              "      <th>185478</th>\n",
              "      <td>241</td>\n",
              "      <td>241014</td>\n",
              "      <td>244643</td>\n",
              "      <td>76</td>\n",
              "      <td>Woolworths Medium   Salsa 300g</td>\n",
              "      <td>1</td>\n",
              "      <td>1.5</td>\n",
              "      <td>2019-05-20</td>\n",
              "    </tr>\n",
              "    <tr>\n",
              "      <th>83918</th>\n",
              "      <td>44</td>\n",
              "      <td>44024</td>\n",
              "      <td>40361</td>\n",
              "      <td>35</td>\n",
              "      <td>Woolworths Mild     Salsa 300g</td>\n",
              "      <td>1</td>\n",
              "      <td>1.5</td>\n",
              "      <td>2019-03-01</td>\n",
              "    </tr>\n",
              "  </tbody>\n",
              "</table>\n",
              "<p>264833 rows × 8 columns</p>\n",
              "</div>"
            ],
            "text/plain": [
              "        STORE_NBR  LYLTY_CARD_NBR  TXN_ID  PROD_NBR  \\\n",
              "55558         190          190113  190914        14   \n",
              "5179           94           94148   93390        14   \n",
              "117850        194          194308  194516        14   \n",
              "150683        118          118021  120799        14   \n",
              "184969         44           44350   40394        14   \n",
              "...           ...             ...     ...       ...   \n",
              "204061         41           41280   38218        35   \n",
              "172293        265          265335  263676        35   \n",
              "149440        254          254180  254267        76   \n",
              "185478        241          241014  244643        76   \n",
              "83918          44           44024   40361        35   \n",
              "\n",
              "                                     PROD_NAME  PROD_QTY  TOT_SALES       date  \n",
              "55558   Smiths Crnkle Chip  Orgnl Big Bag 380g         5       29.5 2019-05-14  \n",
              "5179    Smiths Crnkle Chip  Orgnl Big Bag 380g         5       29.5 2018-08-15  \n",
              "117850  Smiths Crnkle Chip  Orgnl Big Bag 380g         5       29.5 2019-05-19  \n",
              "150683  Smiths Crnkle Chip  Orgnl Big Bag 380g         5       29.5 2019-05-20  \n",
              "184969  Smiths Crnkle Chip  Orgnl Big Bag 380g         5       29.5 2019-05-20  \n",
              "...                                        ...       ...        ...        ...  \n",
              "204061          Woolworths Mild     Salsa 300g         1        1.5 2019-05-16  \n",
              "172293          Woolworths Mild     Salsa 300g         1        1.5 2018-08-14  \n",
              "149440          Woolworths Medium   Salsa 300g         1        1.5 2019-01-18  \n",
              "185478          Woolworths Medium   Salsa 300g         1        1.5 2019-05-20  \n",
              "83918           Woolworths Mild     Salsa 300g         1        1.5 2019-03-01  \n",
              "\n",
              "[264833 rows x 8 columns]"
            ]
          },
          "execution_count": 24,
          "metadata": {},
          "output_type": "execute_result"
        }
      ],
      "source": [
        "new_tran.sort_values(by=\"TOT_SALES\",ascending=False)"
      ]
    },
    {
      "cell_type": "code",
      "execution_count": null,
      "id": "68bb4ac6",
      "metadata": {
        "id": "68bb4ac6",
        "outputId": "e0acc8a0-a213-4b1a-bd4f-50327aaaf325"
      },
      "outputs": [
        {
          "data": {
            "text/html": [
              "<div>\n",
              "<style scoped>\n",
              "    .dataframe tbody tr th:only-of-type {\n",
              "        vertical-align: middle;\n",
              "    }\n",
              "\n",
              "    .dataframe tbody tr th {\n",
              "        vertical-align: top;\n",
              "    }\n",
              "\n",
              "    .dataframe thead th {\n",
              "        text-align: right;\n",
              "    }\n",
              "</style>\n",
              "<table border=\"1\" class=\"dataframe\">\n",
              "  <thead>\n",
              "    <tr style=\"text-align: right;\">\n",
              "      <th></th>\n",
              "      <th>STORE_NBR</th>\n",
              "      <th>LYLTY_CARD_NBR</th>\n",
              "      <th>TXN_ID</th>\n",
              "      <th>PROD_NBR</th>\n",
              "      <th>PROD_NAME</th>\n",
              "      <th>PROD_QTY</th>\n",
              "      <th>TOT_SALES</th>\n",
              "      <th>date</th>\n",
              "    </tr>\n",
              "  </thead>\n",
              "  <tbody>\n",
              "    <tr>\n",
              "      <th>3</th>\n",
              "      <td>2</td>\n",
              "      <td>2373</td>\n",
              "      <td>974</td>\n",
              "      <td>69</td>\n",
              "      <td>Smiths Chip Thinly  S/Cream&amp;Onion 175g</td>\n",
              "      <td>5</td>\n",
              "      <td>15.0</td>\n",
              "      <td>2018-08-17</td>\n",
              "    </tr>\n",
              "    <tr>\n",
              "      <th>4</th>\n",
              "      <td>2</td>\n",
              "      <td>2426</td>\n",
              "      <td>1038</td>\n",
              "      <td>108</td>\n",
              "      <td>Kettle Tortilla ChpsHny&amp;Jlpno Chili 150g</td>\n",
              "      <td>3</td>\n",
              "      <td>13.8</td>\n",
              "      <td>2018-08-18</td>\n",
              "    </tr>\n",
              "    <tr>\n",
              "      <th>11</th>\n",
              "      <td>8</td>\n",
              "      <td>8294</td>\n",
              "      <td>8221</td>\n",
              "      <td>114</td>\n",
              "      <td>Kettle Sensations   Siracha Lime 150g</td>\n",
              "      <td>5</td>\n",
              "      <td>23.0</td>\n",
              "      <td>2018-08-20</td>\n",
              "    </tr>\n",
              "    <tr>\n",
              "      <th>31</th>\n",
              "      <td>43</td>\n",
              "      <td>43227</td>\n",
              "      <td>40186</td>\n",
              "      <td>26</td>\n",
              "      <td>Pringles Sweet&amp;Spcy BBQ 134g</td>\n",
              "      <td>4</td>\n",
              "      <td>14.8</td>\n",
              "      <td>2019-05-15</td>\n",
              "    </tr>\n",
              "    <tr>\n",
              "      <th>56</th>\n",
              "      <td>74</td>\n",
              "      <td>74336</td>\n",
              "      <td>73182</td>\n",
              "      <td>84</td>\n",
              "      <td>GrnWves Plus Btroot &amp; Chilli Jam 180g</td>\n",
              "      <td>5</td>\n",
              "      <td>15.5</td>\n",
              "      <td>2019-05-16</td>\n",
              "    </tr>\n",
              "    <tr>\n",
              "      <th>...</th>\n",
              "      <td>...</td>\n",
              "      <td>...</td>\n",
              "      <td>...</td>\n",
              "      <td>...</td>\n",
              "      <td>...</td>\n",
              "      <td>...</td>\n",
              "      <td>...</td>\n",
              "      <td>...</td>\n",
              "    </tr>\n",
              "    <tr>\n",
              "      <th>264797</th>\n",
              "      <td>270</td>\n",
              "      <td>270079</td>\n",
              "      <td>267146</td>\n",
              "      <td>20</td>\n",
              "      <td>Doritos Cheese      Supreme 330g</td>\n",
              "      <td>2</td>\n",
              "      <td>11.4</td>\n",
              "      <td>2018-09-02</td>\n",
              "    </tr>\n",
              "    <tr>\n",
              "      <th>264807</th>\n",
              "      <td>271</td>\n",
              "      <td>271013</td>\n",
              "      <td>268302</td>\n",
              "      <td>4</td>\n",
              "      <td>Dorito Corn Chp     Supreme 380g</td>\n",
              "      <td>2</td>\n",
              "      <td>13.0</td>\n",
              "      <td>2019-01-19</td>\n",
              "    </tr>\n",
              "    <tr>\n",
              "      <th>264819</th>\n",
              "      <td>272</td>\n",
              "      <td>272053</td>\n",
              "      <td>269703</td>\n",
              "      <td>46</td>\n",
              "      <td>Kettle Original 175g</td>\n",
              "      <td>2</td>\n",
              "      <td>10.8</td>\n",
              "      <td>2019-06-15</td>\n",
              "    </tr>\n",
              "    <tr>\n",
              "      <th>264821</th>\n",
              "      <td>272</td>\n",
              "      <td>272105</td>\n",
              "      <td>269792</td>\n",
              "      <td>32</td>\n",
              "      <td>Kettle Sea Salt     And Vinegar 175g</td>\n",
              "      <td>2</td>\n",
              "      <td>10.8</td>\n",
              "      <td>2019-05-29</td>\n",
              "    </tr>\n",
              "    <tr>\n",
              "      <th>264831</th>\n",
              "      <td>272</td>\n",
              "      <td>272319</td>\n",
              "      <td>270088</td>\n",
              "      <td>89</td>\n",
              "      <td>Kettle Sweet Chilli And Sour Cream 175g</td>\n",
              "      <td>2</td>\n",
              "      <td>10.8</td>\n",
              "      <td>2019-03-09</td>\n",
              "    </tr>\n",
              "  </tbody>\n",
              "</table>\n",
              "<p>43524 rows × 8 columns</p>\n",
              "</div>"
            ],
            "text/plain": [
              "        STORE_NBR  LYLTY_CARD_NBR  TXN_ID  PROD_NBR  \\\n",
              "3               2            2373     974        69   \n",
              "4               2            2426    1038       108   \n",
              "11              8            8294    8221       114   \n",
              "31             43           43227   40186        26   \n",
              "56             74           74336   73182        84   \n",
              "...           ...             ...     ...       ...   \n",
              "264797        270          270079  267146        20   \n",
              "264807        271          271013  268302         4   \n",
              "264819        272          272053  269703        46   \n",
              "264821        272          272105  269792        32   \n",
              "264831        272          272319  270088        89   \n",
              "\n",
              "                                       PROD_NAME  PROD_QTY  TOT_SALES  \\\n",
              "3         Smiths Chip Thinly  S/Cream&Onion 175g         5       15.0   \n",
              "4       Kettle Tortilla ChpsHny&Jlpno Chili 150g         3       13.8   \n",
              "11         Kettle Sensations   Siracha Lime 150g         5       23.0   \n",
              "31                  Pringles Sweet&Spcy BBQ 134g         4       14.8   \n",
              "56         GrnWves Plus Btroot & Chilli Jam 180g         5       15.5   \n",
              "...                                          ...       ...        ...   \n",
              "264797          Doritos Cheese      Supreme 330g         2       11.4   \n",
              "264807          Dorito Corn Chp     Supreme 380g         2       13.0   \n",
              "264819                      Kettle Original 175g         2       10.8   \n",
              "264821      Kettle Sea Salt     And Vinegar 175g         2       10.8   \n",
              "264831   Kettle Sweet Chilli And Sour Cream 175g         2       10.8   \n",
              "\n",
              "             date  \n",
              "3      2018-08-17  \n",
              "4      2018-08-18  \n",
              "11     2018-08-20  \n",
              "31     2019-05-15  \n",
              "56     2019-05-16  \n",
              "...           ...  \n",
              "264797 2018-09-02  \n",
              "264807 2019-01-19  \n",
              "264819 2019-06-15  \n",
              "264821 2019-05-29  \n",
              "264831 2019-03-09  \n",
              "\n",
              "[43524 rows x 8 columns]"
            ]
          },
          "execution_count": 25,
          "metadata": {},
          "output_type": "execute_result"
        }
      ],
      "source": [
        "new_tran[new_tran.TOT_SALES>10]"
      ]
    },
    {
      "cell_type": "code",
      "execution_count": null,
      "id": "bce41e02",
      "metadata": {
        "id": "bce41e02"
      },
      "outputs": [],
      "source": [
        "txn_date=pd.pivot_table(index=\"date\",values=\"TXN_ID\",aggfunc=\"count\",data=new_tran)"
      ]
    },
    {
      "cell_type": "code",
      "execution_count": null,
      "id": "9c783c47",
      "metadata": {
        "id": "9c783c47",
        "outputId": "57c2b635-1c1d-492a-95e9-eca95be677e5"
      },
      "outputs": [
        {
          "data": {
            "text/html": [
              "<div>\n",
              "<style scoped>\n",
              "    .dataframe tbody tr th:only-of-type {\n",
              "        vertical-align: middle;\n",
              "    }\n",
              "\n",
              "    .dataframe tbody tr th {\n",
              "        vertical-align: top;\n",
              "    }\n",
              "\n",
              "    .dataframe thead th {\n",
              "        text-align: right;\n",
              "    }\n",
              "</style>\n",
              "<table border=\"1\" class=\"dataframe\">\n",
              "  <thead>\n",
              "    <tr style=\"text-align: right;\">\n",
              "      <th></th>\n",
              "      <th>TXN_ID</th>\n",
              "    </tr>\n",
              "    <tr>\n",
              "      <th>date</th>\n",
              "      <th></th>\n",
              "    </tr>\n",
              "  </thead>\n",
              "  <tbody>\n",
              "    <tr>\n",
              "      <th>2018-07-01</th>\n",
              "      <td>724</td>\n",
              "    </tr>\n",
              "    <tr>\n",
              "      <th>2018-07-02</th>\n",
              "      <td>711</td>\n",
              "    </tr>\n",
              "    <tr>\n",
              "      <th>2018-07-03</th>\n",
              "      <td>722</td>\n",
              "    </tr>\n",
              "    <tr>\n",
              "      <th>2018-07-04</th>\n",
              "      <td>714</td>\n",
              "    </tr>\n",
              "    <tr>\n",
              "      <th>2018-07-05</th>\n",
              "      <td>712</td>\n",
              "    </tr>\n",
              "    <tr>\n",
              "      <th>...</th>\n",
              "      <td>...</td>\n",
              "    </tr>\n",
              "    <tr>\n",
              "      <th>2019-06-26</th>\n",
              "      <td>723</td>\n",
              "    </tr>\n",
              "    <tr>\n",
              "      <th>2019-06-27</th>\n",
              "      <td>709</td>\n",
              "    </tr>\n",
              "    <tr>\n",
              "      <th>2019-06-28</th>\n",
              "      <td>730</td>\n",
              "    </tr>\n",
              "    <tr>\n",
              "      <th>2019-06-29</th>\n",
              "      <td>745</td>\n",
              "    </tr>\n",
              "    <tr>\n",
              "      <th>2019-06-30</th>\n",
              "      <td>744</td>\n",
              "    </tr>\n",
              "  </tbody>\n",
              "</table>\n",
              "<p>364 rows × 1 columns</p>\n",
              "</div>"
            ],
            "text/plain": [
              "            TXN_ID\n",
              "date              \n",
              "2018-07-01     724\n",
              "2018-07-02     711\n",
              "2018-07-03     722\n",
              "2018-07-04     714\n",
              "2018-07-05     712\n",
              "...            ...\n",
              "2019-06-26     723\n",
              "2019-06-27     709\n",
              "2019-06-28     730\n",
              "2019-06-29     745\n",
              "2019-06-30     744\n",
              "\n",
              "[364 rows x 1 columns]"
            ]
          },
          "execution_count": 27,
          "metadata": {},
          "output_type": "execute_result"
        }
      ],
      "source": [
        "txn_date"
      ]
    },
    {
      "cell_type": "code",
      "execution_count": null,
      "id": "800138c0",
      "metadata": {
        "id": "800138c0"
      },
      "outputs": [],
      "source": [
        "txn_date_1=pd.DataFrame(txn_date)"
      ]
    },
    {
      "cell_type": "code",
      "execution_count": null,
      "id": "50e6218e",
      "metadata": {
        "id": "50e6218e",
        "outputId": "679c429d-e3da-4bfb-af7a-e714df0a02b7"
      },
      "outputs": [
        {
          "data": {
            "text/plain": [
              "date\n",
              "2018-12-24    939\n",
              "2018-12-23    917\n",
              "2018-12-22    915\n",
              "2018-12-19    906\n",
              "2018-12-18    862\n",
              "             ... \n",
              "2018-12-12    664\n",
              "2019-06-24    662\n",
              "2019-06-13    659\n",
              "2018-10-18    658\n",
              "2018-11-25    648\n",
              "Name: TXN_ID, Length: 364, dtype: int64"
            ]
          },
          "execution_count": 29,
          "metadata": {},
          "output_type": "execute_result"
        }
      ],
      "source": [
        "txn_date_1.TXN_ID.sort_values(ascending=False)"
      ]
    },
    {
      "cell_type": "code",
      "execution_count": null,
      "id": "6a7112a8",
      "metadata": {
        "id": "6a7112a8",
        "outputId": "8e685f35-bf95-42f6-ca46-e6de4d82835d"
      },
      "outputs": [
        {
          "data": {
            "text/plain": [
              "<AxesSubplot:xlabel='date'>"
            ]
          },
          "execution_count": 30,
          "metadata": {},
          "output_type": "execute_result"
        },
        {
          "data": {
            "image/png": "[encoded data removed]",
            "text/plain": [
              "<Figure size 1440x720 with 1 Axes>"
            ]
          },
          "metadata": {
            "needs_background": "light"
          },
          "output_type": "display_data"
        }
      ],
      "source": [
        "pd.pivot_table(index=\"date\",values=\"TXN_ID\",aggfunc=\"count\",data=new_tran).plot(figsize=[20,10])"
      ]
    },
    {
      "cell_type": "markdown",
      "id": "1bc0edc3",
      "metadata": {
        "id": "1bc0edc3"
      },
      "source": [
        "# From the following Diagram we can see there is a jump on the sale before the 25-Dec "
      ]
    },
    {
      "cell_type": "markdown",
      "id": "6cec3ff7",
      "metadata": {
        "id": "6cec3ff7"
      },
      "source": [
        "# "
      ]
    },
    {
      "cell_type": "code",
      "execution_count": null,
      "id": "adb1c150",
      "metadata": {
        "scrolled": false,
        "id": "adb1c150",
        "outputId": "42444a42-d04f-404b-c29c-d83ae9d4eadd"
      },
      "outputs": [
        {
          "data": {
            "text/html": [
              "<div>\n",
              "<style scoped>\n",
              "    .dataframe tbody tr th:only-of-type {\n",
              "        vertical-align: middle;\n",
              "    }\n",
              "\n",
              "    .dataframe tbody tr th {\n",
              "        vertical-align: top;\n",
              "    }\n",
              "\n",
              "    .dataframe thead th {\n",
              "        text-align: right;\n",
              "    }\n",
              "</style>\n",
              "<table border=\"1\" class=\"dataframe\">\n",
              "  <thead>\n",
              "    <tr style=\"text-align: right;\">\n",
              "      <th></th>\n",
              "      <th>STORE_NBR</th>\n",
              "      <th>LYLTY_CARD_NBR</th>\n",
              "      <th>TXN_ID</th>\n",
              "      <th>PROD_NBR</th>\n",
              "      <th>PROD_NAME</th>\n",
              "      <th>PROD_QTY</th>\n",
              "      <th>TOT_SALES</th>\n",
              "      <th>date</th>\n",
              "    </tr>\n",
              "  </thead>\n",
              "  <tbody>\n",
              "    <tr>\n",
              "      <th>0</th>\n",
              "      <td>1</td>\n",
              "      <td>1000</td>\n",
              "      <td>1</td>\n",
              "      <td>5</td>\n",
              "      <td>Natural Chip        Compny SeaSalt175g</td>\n",
              "      <td>2</td>\n",
              "      <td>6.0</td>\n",
              "      <td>2018-10-17</td>\n",
              "    </tr>\n",
              "    <tr>\n",
              "      <th>1</th>\n",
              "      <td>1</td>\n",
              "      <td>1307</td>\n",
              "      <td>348</td>\n",
              "      <td>66</td>\n",
              "      <td>CCs Nacho Cheese    175g</td>\n",
              "      <td>3</td>\n",
              "      <td>6.3</td>\n",
              "      <td>2019-05-14</td>\n",
              "    </tr>\n",
              "    <tr>\n",
              "      <th>2</th>\n",
              "      <td>1</td>\n",
              "      <td>1343</td>\n",
              "      <td>383</td>\n",
              "      <td>61</td>\n",
              "      <td>Smiths Crinkle Cut  Chips Chicken 170g</td>\n",
              "      <td>2</td>\n",
              "      <td>2.9</td>\n",
              "      <td>2019-05-20</td>\n",
              "    </tr>\n",
              "    <tr>\n",
              "      <th>3</th>\n",
              "      <td>2</td>\n",
              "      <td>2373</td>\n",
              "      <td>974</td>\n",
              "      <td>69</td>\n",
              "      <td>Smiths Chip Thinly  S/Cream&amp;Onion 175g</td>\n",
              "      <td>5</td>\n",
              "      <td>15.0</td>\n",
              "      <td>2018-08-17</td>\n",
              "    </tr>\n",
              "    <tr>\n",
              "      <th>4</th>\n",
              "      <td>2</td>\n",
              "      <td>2426</td>\n",
              "      <td>1038</td>\n",
              "      <td>108</td>\n",
              "      <td>Kettle Tortilla ChpsHny&amp;Jlpno Chili 150g</td>\n",
              "      <td>3</td>\n",
              "      <td>13.8</td>\n",
              "      <td>2018-08-18</td>\n",
              "    </tr>\n",
              "  </tbody>\n",
              "</table>\n",
              "</div>"
            ],
            "text/plain": [
              "   STORE_NBR  LYLTY_CARD_NBR  TXN_ID  PROD_NBR  \\\n",
              "0          1            1000       1         5   \n",
              "1          1            1307     348        66   \n",
              "2          1            1343     383        61   \n",
              "3          2            2373     974        69   \n",
              "4          2            2426    1038       108   \n",
              "\n",
              "                                  PROD_NAME  PROD_QTY  TOT_SALES       date  \n",
              "0    Natural Chip        Compny SeaSalt175g         2        6.0 2018-10-17  \n",
              "1                  CCs Nacho Cheese    175g         3        6.3 2019-05-14  \n",
              "2    Smiths Crinkle Cut  Chips Chicken 170g         2        2.9 2019-05-20  \n",
              "3    Smiths Chip Thinly  S/Cream&Onion 175g         5       15.0 2018-08-17  \n",
              "4  Kettle Tortilla ChpsHny&Jlpno Chili 150g         3       13.8 2018-08-18  "
            ]
          },
          "execution_count": 31,
          "metadata": {},
          "output_type": "execute_result"
        }
      ],
      "source": [
        "chips=new_tran[~(new_tran.PROD_NAME==\"Woolworths Medium   Salsa 300g\")]\n",
        "chips.head()"
      ]
    },
    {
      "cell_type": "markdown",
      "id": "79ccdbbb",
      "metadata": {
        "id": "79ccdbbb"
      },
      "source": [
        "we only want chips so we are removing all other products"
      ]
    },
    {
      "cell_type": "code",
      "execution_count": null,
      "id": "9889cd12",
      "metadata": {
        "id": "9889cd12",
        "outputId": "7a7fdb24-700c-4df9-85ca-7b6870076c3c"
      },
      "outputs": [
        {
          "data": {
            "text/plain": [
              "263403"
            ]
          },
          "execution_count": 32,
          "metadata": {},
          "output_type": "execute_result"
        }
      ],
      "source": [
        "len(chips)"
      ]
    },
    {
      "cell_type": "code",
      "execution_count": null,
      "id": "ade692c5",
      "metadata": {
        "id": "ade692c5",
        "outputId": "b279caa6-9304-4aa7-f56d-580172f14588"
      },
      "outputs": [
        {
          "data": {
            "text/plain": [
              "Kettle Mozzarella   Basil & Pesto 175g      3304\n",
              "Kettle Tortilla ChpsHny&Jlpno Chili 150g    3296\n",
              "Cobs Popd Swt/Chlli &Sr/Cream Chips 110g    3269\n",
              "Tyrrells Crisps     Ched & Chives 165g      3268\n",
              "Cobs Popd Sea Salt  Chips 110g              3265\n",
              "                                            ... \n",
              "Sunbites Whlegrn    Crisps Frch/Onin 90g    1432\n",
              "RRD Pc Sea Salt     165g                    1431\n",
              "NCC Sour Cream &    Garden Chives 175g      1419\n",
              "French Fries Potato Chips 175g              1418\n",
              "WW Crinkle Cut      Original 175g           1410\n",
              "Name: PROD_NAME, Length: 113, dtype: int64"
            ]
          },
          "execution_count": 33,
          "metadata": {},
          "output_type": "execute_result"
        }
      ],
      "source": [
        "chips.PROD_NAME.value_counts(ascending=False)"
      ]
    },
    {
      "cell_type": "code",
      "execution_count": null,
      "id": "b84cbe1f",
      "metadata": {
        "id": "b84cbe1f",
        "outputId": "9dc7b113-c227-468f-fc4b-5f4b37e96e0f"
      },
      "outputs": [
        {
          "data": {
            "text/html": [
              "<div>\n",
              "<style scoped>\n",
              "    .dataframe tbody tr th:only-of-type {\n",
              "        vertical-align: middle;\n",
              "    }\n",
              "\n",
              "    .dataframe tbody tr th {\n",
              "        vertical-align: top;\n",
              "    }\n",
              "\n",
              "    .dataframe thead th {\n",
              "        text-align: right;\n",
              "    }\n",
              "</style>\n",
              "<table border=\"1\" class=\"dataframe\">\n",
              "  <thead>\n",
              "    <tr style=\"text-align: right;\">\n",
              "      <th></th>\n",
              "      <th>TXN_ID</th>\n",
              "    </tr>\n",
              "    <tr>\n",
              "      <th>PROD_NAME</th>\n",
              "      <th></th>\n",
              "    </tr>\n",
              "  </thead>\n",
              "  <tbody>\n",
              "    <tr>\n",
              "      <th>Burger Rings 220g</th>\n",
              "      <td>1564</td>\n",
              "    </tr>\n",
              "    <tr>\n",
              "      <th>CCs Nacho Cheese    175g</th>\n",
              "      <td>1498</td>\n",
              "    </tr>\n",
              "    <tr>\n",
              "      <th>CCs Original 175g</th>\n",
              "      <td>1514</td>\n",
              "    </tr>\n",
              "    <tr>\n",
              "      <th>CCs Tasty Cheese    175g</th>\n",
              "      <td>1539</td>\n",
              "    </tr>\n",
              "    <tr>\n",
              "      <th>Cheetos Chs &amp; Bacon Balls 190g</th>\n",
              "      <td>1479</td>\n",
              "    </tr>\n",
              "    <tr>\n",
              "      <th>...</th>\n",
              "      <td>...</td>\n",
              "    </tr>\n",
              "    <tr>\n",
              "      <th>WW Original Stacked Chips 160g</th>\n",
              "      <td>1487</td>\n",
              "    </tr>\n",
              "    <tr>\n",
              "      <th>WW Sour Cream &amp;OnionStacked Chips 160g</th>\n",
              "      <td>1483</td>\n",
              "    </tr>\n",
              "    <tr>\n",
              "      <th>WW Supreme Cheese   Corn Chips 200g</th>\n",
              "      <td>1509</td>\n",
              "    </tr>\n",
              "    <tr>\n",
              "      <th>Woolworths Cheese   Rings 190g</th>\n",
              "      <td>1516</td>\n",
              "    </tr>\n",
              "    <tr>\n",
              "      <th>Woolworths Mild     Salsa 300g</th>\n",
              "      <td>1491</td>\n",
              "    </tr>\n",
              "  </tbody>\n",
              "</table>\n",
              "<p>113 rows × 1 columns</p>\n",
              "</div>"
            ],
            "text/plain": [
              "                                        TXN_ID\n",
              "PROD_NAME                                     \n",
              "Burger Rings 220g                         1564\n",
              "CCs Nacho Cheese    175g                  1498\n",
              "CCs Original 175g                         1514\n",
              "CCs Tasty Cheese    175g                  1539\n",
              "Cheetos Chs & Bacon Balls 190g            1479\n",
              "...                                        ...\n",
              "WW Original Stacked Chips 160g            1487\n",
              "WW Sour Cream &OnionStacked Chips 160g    1483\n",
              "WW Supreme Cheese   Corn Chips 200g       1509\n",
              "Woolworths Cheese   Rings 190g            1516\n",
              "Woolworths Mild     Salsa 300g            1491\n",
              "\n",
              "[113 rows x 1 columns]"
            ]
          },
          "execution_count": 34,
          "metadata": {},
          "output_type": "execute_result"
        }
      ],
      "source": [
        "pd.pivot_table(index=\"PROD_NAME\",values=\"TXN_ID\",aggfunc=\"count\",data=chips)"
      ]
    },
    {
      "cell_type": "code",
      "execution_count": null,
      "id": "222eedbd",
      "metadata": {
        "id": "222eedbd"
      },
      "outputs": [],
      "source": []
    },
    {
      "cell_type": "markdown",
      "id": "72d2febc",
      "metadata": {
        "id": "72d2febc"
      },
      "source": [
        "# Merging Both Files"
      ]
    },
    {
      "cell_type": "code",
      "execution_count": null,
      "id": "6b21cc01",
      "metadata": {
        "id": "6b21cc01"
      },
      "outputs": [],
      "source": [
        "merge=pd.merge(purchase, chips, on='LYLTY_CARD_NBR', how='inner')"
      ]
    },
    {
      "cell_type": "code",
      "execution_count": null,
      "id": "d6707b48",
      "metadata": {
        "id": "d6707b48",
        "outputId": "0fe86fb7-d91c-4d14-d2a8-50169ecc327a"
      },
      "outputs": [
        {
          "data": {
            "text/html": [
              "<div>\n",
              "<style scoped>\n",
              "    .dataframe tbody tr th:only-of-type {\n",
              "        vertical-align: middle;\n",
              "    }\n",
              "\n",
              "    .dataframe tbody tr th {\n",
              "        vertical-align: top;\n",
              "    }\n",
              "\n",
              "    .dataframe thead th {\n",
              "        text-align: right;\n",
              "    }\n",
              "</style>\n",
              "<table border=\"1\" class=\"dataframe\">\n",
              "  <thead>\n",
              "    <tr style=\"text-align: right;\">\n",
              "      <th></th>\n",
              "      <th>LYLTY_CARD_NBR</th>\n",
              "      <th>LIFESTAGE</th>\n",
              "      <th>PREMIUM_CUSTOMER</th>\n",
              "      <th>STORE_NBR</th>\n",
              "      <th>TXN_ID</th>\n",
              "      <th>PROD_NBR</th>\n",
              "      <th>PROD_NAME</th>\n",
              "      <th>PROD_QTY</th>\n",
              "      <th>TOT_SALES</th>\n",
              "      <th>date</th>\n",
              "    </tr>\n",
              "  </thead>\n",
              "  <tbody>\n",
              "    <tr>\n",
              "      <th>0</th>\n",
              "      <td>1000</td>\n",
              "      <td>YOUNG SINGLES/COUPLES</td>\n",
              "      <td>Premium</td>\n",
              "      <td>1</td>\n",
              "      <td>1</td>\n",
              "      <td>5</td>\n",
              "      <td>Natural Chip        Compny SeaSalt175g</td>\n",
              "      <td>2</td>\n",
              "      <td>6.0</td>\n",
              "      <td>2018-10-17</td>\n",
              "    </tr>\n",
              "    <tr>\n",
              "      <th>1</th>\n",
              "      <td>1002</td>\n",
              "      <td>YOUNG SINGLES/COUPLES</td>\n",
              "      <td>Mainstream</td>\n",
              "      <td>1</td>\n",
              "      <td>2</td>\n",
              "      <td>58</td>\n",
              "      <td>Red Rock Deli Chikn&amp;Garlic Aioli 150g</td>\n",
              "      <td>1</td>\n",
              "      <td>2.7</td>\n",
              "      <td>2018-09-16</td>\n",
              "    </tr>\n",
              "    <tr>\n",
              "      <th>2</th>\n",
              "      <td>1003</td>\n",
              "      <td>YOUNG FAMILIES</td>\n",
              "      <td>Budget</td>\n",
              "      <td>1</td>\n",
              "      <td>3</td>\n",
              "      <td>52</td>\n",
              "      <td>Grain Waves Sour    Cream&amp;Chives 210G</td>\n",
              "      <td>1</td>\n",
              "      <td>3.6</td>\n",
              "      <td>2019-03-07</td>\n",
              "    </tr>\n",
              "    <tr>\n",
              "      <th>3</th>\n",
              "      <td>1003</td>\n",
              "      <td>YOUNG FAMILIES</td>\n",
              "      <td>Budget</td>\n",
              "      <td>1</td>\n",
              "      <td>4</td>\n",
              "      <td>106</td>\n",
              "      <td>Natural ChipCo      Hony Soy Chckn175g</td>\n",
              "      <td>1</td>\n",
              "      <td>3.0</td>\n",
              "      <td>2019-03-08</td>\n",
              "    </tr>\n",
              "    <tr>\n",
              "      <th>4</th>\n",
              "      <td>1004</td>\n",
              "      <td>OLDER SINGLES/COUPLES</td>\n",
              "      <td>Mainstream</td>\n",
              "      <td>1</td>\n",
              "      <td>5</td>\n",
              "      <td>96</td>\n",
              "      <td>WW Original Stacked Chips 160g</td>\n",
              "      <td>1</td>\n",
              "      <td>1.9</td>\n",
              "      <td>2018-11-02</td>\n",
              "    </tr>\n",
              "    <tr>\n",
              "      <th>...</th>\n",
              "      <td>...</td>\n",
              "      <td>...</td>\n",
              "      <td>...</td>\n",
              "      <td>...</td>\n",
              "      <td>...</td>\n",
              "      <td>...</td>\n",
              "      <td>...</td>\n",
              "      <td>...</td>\n",
              "      <td>...</td>\n",
              "      <td>...</td>\n",
              "    </tr>\n",
              "    <tr>\n",
              "      <th>263398</th>\n",
              "      <td>2370701</td>\n",
              "      <td>YOUNG FAMILIES</td>\n",
              "      <td>Mainstream</td>\n",
              "      <td>88</td>\n",
              "      <td>240378</td>\n",
              "      <td>24</td>\n",
              "      <td>Grain Waves         Sweet Chilli 210g</td>\n",
              "      <td>2</td>\n",
              "      <td>7.2</td>\n",
              "      <td>2018-12-08</td>\n",
              "    </tr>\n",
              "    <tr>\n",
              "      <th>263399</th>\n",
              "      <td>2370751</td>\n",
              "      <td>YOUNG FAMILIES</td>\n",
              "      <td>Premium</td>\n",
              "      <td>88</td>\n",
              "      <td>240394</td>\n",
              "      <td>60</td>\n",
              "      <td>Kettle Tortilla ChpsFeta&amp;Garlic 150g</td>\n",
              "      <td>2</td>\n",
              "      <td>9.2</td>\n",
              "      <td>2018-10-01</td>\n",
              "    </tr>\n",
              "    <tr>\n",
              "      <th>263400</th>\n",
              "      <td>2370961</td>\n",
              "      <td>OLDER FAMILIES</td>\n",
              "      <td>Budget</td>\n",
              "      <td>88</td>\n",
              "      <td>240480</td>\n",
              "      <td>70</td>\n",
              "      <td>Tyrrells Crisps     Lightly Salted 165g</td>\n",
              "      <td>2</td>\n",
              "      <td>8.4</td>\n",
              "      <td>2018-10-24</td>\n",
              "    </tr>\n",
              "    <tr>\n",
              "      <th>263401</th>\n",
              "      <td>2370961</td>\n",
              "      <td>OLDER FAMILIES</td>\n",
              "      <td>Budget</td>\n",
              "      <td>88</td>\n",
              "      <td>240481</td>\n",
              "      <td>65</td>\n",
              "      <td>Old El Paso Salsa   Dip Chnky Tom Ht300g</td>\n",
              "      <td>2</td>\n",
              "      <td>10.2</td>\n",
              "      <td>2018-10-27</td>\n",
              "    </tr>\n",
              "    <tr>\n",
              "      <th>263402</th>\n",
              "      <td>2373711</td>\n",
              "      <td>YOUNG SINGLES/COUPLES</td>\n",
              "      <td>Mainstream</td>\n",
              "      <td>88</td>\n",
              "      <td>241815</td>\n",
              "      <td>16</td>\n",
              "      <td>Smiths Crinkle Chips Salt &amp; Vinegar 330g</td>\n",
              "      <td>2</td>\n",
              "      <td>11.4</td>\n",
              "      <td>2018-12-14</td>\n",
              "    </tr>\n",
              "  </tbody>\n",
              "</table>\n",
              "<p>263403 rows × 10 columns</p>\n",
              "</div>"
            ],
            "text/plain": [
              "        LYLTY_CARD_NBR              LIFESTAGE PREMIUM_CUSTOMER  STORE_NBR  \\\n",
              "0                 1000  YOUNG SINGLES/COUPLES          Premium          1   \n",
              "1                 1002  YOUNG SINGLES/COUPLES       Mainstream          1   \n",
              "2                 1003         YOUNG FAMILIES           Budget          1   \n",
              "3                 1003         YOUNG FAMILIES           Budget          1   \n",
              "4                 1004  OLDER SINGLES/COUPLES       Mainstream          1   \n",
              "...                ...                    ...              ...        ...   \n",
              "263398         2370701         YOUNG FAMILIES       Mainstream         88   \n",
              "263399         2370751         YOUNG FAMILIES          Premium         88   \n",
              "263400         2370961         OLDER FAMILIES           Budget         88   \n",
              "263401         2370961         OLDER FAMILIES           Budget         88   \n",
              "263402         2373711  YOUNG SINGLES/COUPLES       Mainstream         88   \n",
              "\n",
              "        TXN_ID  PROD_NBR                                 PROD_NAME  PROD_QTY  \\\n",
              "0            1         5    Natural Chip        Compny SeaSalt175g         2   \n",
              "1            2        58     Red Rock Deli Chikn&Garlic Aioli 150g         1   \n",
              "2            3        52     Grain Waves Sour    Cream&Chives 210G         1   \n",
              "3            4       106    Natural ChipCo      Hony Soy Chckn175g         1   \n",
              "4            5        96            WW Original Stacked Chips 160g         1   \n",
              "...        ...       ...                                       ...       ...   \n",
              "263398  240378        24     Grain Waves         Sweet Chilli 210g         2   \n",
              "263399  240394        60      Kettle Tortilla ChpsFeta&Garlic 150g         2   \n",
              "263400  240480        70   Tyrrells Crisps     Lightly Salted 165g         2   \n",
              "263401  240481        65  Old El Paso Salsa   Dip Chnky Tom Ht300g         2   \n",
              "263402  241815        16  Smiths Crinkle Chips Salt & Vinegar 330g         2   \n",
              "\n",
              "        TOT_SALES       date  \n",
              "0             6.0 2018-10-17  \n",
              "1             2.7 2018-09-16  \n",
              "2             3.6 2019-03-07  \n",
              "3             3.0 2019-03-08  \n",
              "4             1.9 2018-11-02  \n",
              "...           ...        ...  \n",
              "263398        7.2 2018-12-08  \n",
              "263399        9.2 2018-10-01  \n",
              "263400        8.4 2018-10-24  \n",
              "263401       10.2 2018-10-27  \n",
              "263402       11.4 2018-12-14  \n",
              "\n",
              "[263403 rows x 10 columns]"
            ]
          },
          "execution_count": 36,
          "metadata": {},
          "output_type": "execute_result"
        }
      ],
      "source": [
        "merge"
      ]
    },
    {
      "cell_type": "code",
      "execution_count": null,
      "id": "e4ba9b9d",
      "metadata": {
        "id": "e4ba9b9d",
        "outputId": "2691aa7a-1e74-45d7-8089-7c789adba503"
      },
      "outputs": [
        {
          "data": {
            "text/plain": [
              "LYLTY_CARD_NBR      0\n",
              "LIFESTAGE           0\n",
              "PREMIUM_CUSTOMER    0\n",
              "STORE_NBR           0\n",
              "TXN_ID              0\n",
              "PROD_NBR            0\n",
              "PROD_NAME           0\n",
              "PROD_QTY            0\n",
              "TOT_SALES           0\n",
              "date                0\n",
              "dtype: int64"
            ]
          },
          "execution_count": 37,
          "metadata": {},
          "output_type": "execute_result"
        }
      ],
      "source": [
        "merge.isna().sum()"
      ]
    },
    {
      "cell_type": "code",
      "execution_count": null,
      "id": "0a33cf4a",
      "metadata": {
        "id": "0a33cf4a"
      },
      "outputs": [],
      "source": []
    },
    {
      "cell_type": "code",
      "execution_count": null,
      "id": "75cd03ac",
      "metadata": {
        "id": "75cd03ac",
        "outputId": "7c58382a-40d5-4238-88b4-80619eb5d691"
      },
      "outputs": [
        {
          "data": {
            "image/png": "[encoded data removed]",
            "text/plain": [
              "<Figure size 1080x720 with 1 Axes>"
            ]
          },
          "metadata": {
            "needs_background": "light"
          },
          "output_type": "display_data"
        }
      ],
      "source": [
        "plt.figure(figsize=[15,10])\n",
        "sns.barplot(x=\"PROD_QTY\",y=\"TOT_SALES\",data=merge,hue=\"PREMIUM_CUSTOMER\")\n",
        "plt.show()"
      ]
    },
    {
      "cell_type": "code",
      "execution_count": null,
      "id": "dd4f9e14",
      "metadata": {
        "id": "dd4f9e14",
        "outputId": "b4e008b6-466b-42b5-9763-37543a329424"
      },
      "outputs": [
        {
          "data": {
            "text/plain": [
              "array(['Natural Chip        Compny SeaSalt175g',\n",
              "       'Red Rock Deli Chikn&Garlic Aioli 150g',\n",
              "       'Grain Waves Sour    Cream&Chives 210G',\n",
              "       'Natural ChipCo      Hony Soy Chckn175g',\n",
              "       'WW Original Stacked Chips 160g', 'Cheetos Puffs 165g',\n",
              "       'Infuzions SourCream&Herbs Veg Strws 110g',\n",
              "       'RRD SR Slow Rst     Pork Belly 150g',\n",
              "       'Doritos Cheese      Supreme 330g', 'Doritos Mexicana    170g',\n",
              "       'Old El Paso Salsa   Dip Tomato Med 300g',\n",
              "       'GrnWves Plus Btroot & Chilli Jam 180g',\n",
              "       'Smiths Crinkle Cut  Chips Barbecue 170g',\n",
              "       'Kettle Sensations   Camembert & Fig 150g',\n",
              "       'Doritos Corn Chip Southern Chicken 150g',\n",
              "       'CCs Tasty Cheese    175g', 'Tostitos Splash Of  Lime 175g',\n",
              "       'Kettle 135g Swt Pot Sea Salt', 'RRD Salt & Vinegar  165g',\n",
              "       'Infuzions Mango     Chutny Papadums 70g',\n",
              "       'Smiths Crinkle Cut  Snag&Sauce 150g',\n",
              "       'Smiths Crinkle      Original 330g',\n",
              "       'RRD Sweet Chilli &  Sour Cream 165g',\n",
              "       'Smiths Chip Thinly  S/Cream&Onion 175g',\n",
              "       'Smiths Crinkle Chips Salt & Vinegar 330g',\n",
              "       'Red Rock Deli SR    Salsa & Mzzrlla 150g',\n",
              "       'Cobs Popd Sea Salt  Chips 110g',\n",
              "       'Natural ChipCo Sea  Salt & Vinegr 175g',\n",
              "       'Natural Chip Co     Tmato Hrb&Spce 175g', 'Burger Rings 220g',\n",
              "       'Woolworths Cheese   Rings 190g',\n",
              "       'Smiths Thinly       Swt Chli&S/Cream175G',\n",
              "       'Thins Chips Seasonedchicken 175g',\n",
              "       'Smiths Thinly Cut   Roast Chicken 175g',\n",
              "       'Tyrrells Crisps     Ched & Chives 165g',\n",
              "       'Doritos Corn Chips  Cheese Supreme 170g',\n",
              "       'Smiths Chip Thinly  Cut Original 175g',\n",
              "       'Smiths Crinkle Cut  Chips Original 170g',\n",
              "       'Thins Chips Light&  Tangy 175g',\n",
              "       'Doritos Corn Chips  Original 170g',\n",
              "       'Kettle Sensations   Siracha Lime 150g',\n",
              "       'Smiths Crinkle Cut  Salt & Vinegar 170g',\n",
              "       'Smith Crinkle Cut   Bolognese 150g', 'Cheezels Cheese 330g',\n",
              "       'Kettle Chilli 175g', 'Tyrrells Crisps     Lightly Salted 165g',\n",
              "       'Twisties Cheese     270g', 'WW Crinkle Cut      Chicken 175g',\n",
              "       'RRD Chilli&         Coconut 150g',\n",
              "       'Infuzions BBQ Rib   Prawn Crackers 110g',\n",
              "       'Sunbites Whlegrn    Crisps Frch/Onin 90g',\n",
              "       'Doritos Salsa       Medium 300g',\n",
              "       'Kettle Tortilla ChpsFeta&Garlic 150g',\n",
              "       'Smiths Crinkle Cut  French OnionDip 150g',\n",
              "       'WW D/Style Chip     Sea Salt 200g',\n",
              "       'Smiths Chip Thinly  CutSalt/Vinegr175g',\n",
              "       'Kettle Sensations   BBQ&Maple 150g',\n",
              "       'Old El Paso Salsa   Dip Tomato Mild 300g',\n",
              "       'Tostitos Smoked     Chipotle 175g', 'RRD Lime & Pepper   165g',\n",
              "       'CCs Nacho Cheese    175g', 'Snbts Whlgrn Crisps Cheddr&Mstrd 90g',\n",
              "       'Kettle Tortilla ChpsBtroot&Ricotta 150g',\n",
              "       'Pringles Sthrn FriedChicken 134g',\n",
              "       'Pringles Chicken    Salt Crips 134g',\n",
              "       'French Fries Potato Chips 175g',\n",
              "       'Kettle Mozzarella   Basil & Pesto 175g', 'CCs Original 175g',\n",
              "       'Tostitos Lightly    Salted 175g',\n",
              "       'Smiths Crnkle Chip  Orgnl Big Bag 380g',\n",
              "       'Smiths Crinkle Cut  Chips Chicken 170g',\n",
              "       'Smiths Crinkle Cut  Chips Chs&Onion170g', 'Twisties Chicken270g',\n",
              "       'Red Rock Deli Sp    Salt & Truffle 150G',\n",
              "       'RRD Pc Sea Salt     165g', 'WW Supreme Cheese   Corn Chips 200g',\n",
              "       'WW Original Corn    Chips 200g', 'Woolworths Mild     Salsa 300g',\n",
              "       'Cheezels Cheese Box 125g', 'Doritos Salsa Mild  300g',\n",
              "       'Cobs Popd Swt/Chlli &Sr/Cream Chips 110g',\n",
              "       'Infzns Crn Crnchers Tangy Gcamole 110g',\n",
              "       'WW Sour Cream &OnionStacked Chips 160g',\n",
              "       'Pringles Mystery    Flavour 134g', 'Pringles Barbeque   134g',\n",
              "       'Grain Waves         Sweet Chilli 210g',\n",
              "       'Pringles Sweet&Spcy BBQ 134g', 'Kettle Original 175g',\n",
              "       'Infuzions Thai SweetChili PotatoMix 110g',\n",
              "       'Old El Paso Salsa   Dip Chnky Tom Ht300g',\n",
              "       'Smiths Crinkle Cut  Tomato Salsa 150g',\n",
              "       'Cheetos Chs & Bacon Balls 190g',\n",
              "       'Kettle Sweet Chilli And Sour Cream 175g',\n",
              "       'Doritos Corn Chips  Nacho Cheese 170g',\n",
              "       'Cobs Popd Sour Crm  &Chives Chips 110g',\n",
              "       'Red Rock Deli Thai  Chilli&Lime 150g',\n",
              "       'Twisties Cheese     Burger 250g',\n",
              "       'Kettle Sea Salt     And Vinegar 175g',\n",
              "       'WW Crinkle Cut      Original 175g',\n",
              "       'Dorito Corn Chp     Supreme 380g',\n",
              "       'Doritos Corn Chip Mexican Jalapeno 150g',\n",
              "       'Pringles SourCream  Onion 134g',\n",
              "       'Kettle Tortilla ChpsHny&Jlpno Chili 150g',\n",
              "       'RRD Steak &         Chimuchurri 150g',\n",
              "       'Thins Chips Salt &  Vinegar 175g',\n",
              "       'Thins Chips         Originl saltd 175g',\n",
              "       'RRD Honey Soy       Chicken 165g',\n",
              "       'Kettle Honey Soy    Chicken 175g',\n",
              "       'NCC Sour Cream &    Garden Chives 175g',\n",
              "       'Pringles Original   Crisps 134g',\n",
              "       'Smith Crinkle Cut   Mac N Cheese 150g',\n",
              "       'Thins Potato Chips  Hot & Spicy 175g', 'Pringles Slt Vingar 134g'],\n",
              "      dtype=object)"
            ]
          },
          "execution_count": 39,
          "metadata": {},
          "output_type": "execute_result"
        }
      ],
      "source": [
        "merge.PROD_NAME.unique()"
      ]
    },
    {
      "cell_type": "markdown",
      "id": "f6e6e03a",
      "metadata": {
        "id": "f6e6e03a"
      },
      "source": [
        "# Creating New Coloumn for Brand Name"
      ]
    },
    {
      "cell_type": "code",
      "execution_count": null,
      "id": "7f598502",
      "metadata": {
        "id": "7f598502"
      },
      "outputs": [],
      "source": [
        "def split(PROD_NAME):\n",
        "    a=str(PROD_NAME)\n",
        "    return a.split()[0]"
      ]
    },
    {
      "cell_type": "code",
      "execution_count": null,
      "id": "1e113d02",
      "metadata": {
        "id": "1e113d02"
      },
      "outputs": [],
      "source": [
        "merge[\"Brand\"]=merge.apply(lambda x:split(x['PROD_NAME']),axis=1)"
      ]
    },
    {
      "cell_type": "markdown",
      "id": "ce31f516",
      "metadata": {
        "id": "ce31f516"
      },
      "source": [
        "### Some Brand has same name with Difrrent spelling , So correccting these Spellings"
      ]
    },
    {
      "cell_type": "code",
      "execution_count": null,
      "id": "5c62dc6c",
      "metadata": {
        "id": "5c62dc6c"
      },
      "outputs": [],
      "source": [
        "merge.Brand.replace({\"RRD\":\"Red\"},inplace=True)"
      ]
    },
    {
      "cell_type": "code",
      "execution_count": null,
      "id": "2a7af8bd",
      "metadata": {
        "id": "2a7af8bd"
      },
      "outputs": [],
      "source": [
        "merge.Brand.replace({\"WW\":\"Woolworths\"},inplace=True)"
      ]
    },
    {
      "cell_type": "code",
      "execution_count": null,
      "id": "97f9aaf9",
      "metadata": {
        "id": "97f9aaf9"
      },
      "outputs": [],
      "source": []
    },
    {
      "cell_type": "code",
      "execution_count": null,
      "id": "83178e47",
      "metadata": {
        "id": "83178e47",
        "outputId": "a586f7ae-004d-4269-b24f-d50b81fd7b01"
      },
      "outputs": [
        {
          "data": {
            "text/html": [
              "<div>\n",
              "<style scoped>\n",
              "    .dataframe tbody tr th:only-of-type {\n",
              "        vertical-align: middle;\n",
              "    }\n",
              "\n",
              "    .dataframe tbody tr th {\n",
              "        vertical-align: top;\n",
              "    }\n",
              "\n",
              "    .dataframe thead th {\n",
              "        text-align: right;\n",
              "    }\n",
              "</style>\n",
              "<table border=\"1\" class=\"dataframe\">\n",
              "  <thead>\n",
              "    <tr style=\"text-align: right;\">\n",
              "      <th></th>\n",
              "      <th>LYLTY_CARD_NBR</th>\n",
              "      <th>LIFESTAGE</th>\n",
              "      <th>PREMIUM_CUSTOMER</th>\n",
              "      <th>STORE_NBR</th>\n",
              "      <th>TXN_ID</th>\n",
              "      <th>PROD_NBR</th>\n",
              "      <th>PROD_NAME</th>\n",
              "      <th>PROD_QTY</th>\n",
              "      <th>TOT_SALES</th>\n",
              "      <th>date</th>\n",
              "      <th>Brand</th>\n",
              "    </tr>\n",
              "  </thead>\n",
              "  <tbody>\n",
              "    <tr>\n",
              "      <th>0</th>\n",
              "      <td>1000</td>\n",
              "      <td>YOUNG SINGLES/COUPLES</td>\n",
              "      <td>Premium</td>\n",
              "      <td>1</td>\n",
              "      <td>1</td>\n",
              "      <td>5</td>\n",
              "      <td>Natural Chip        Compny SeaSalt175g</td>\n",
              "      <td>2</td>\n",
              "      <td>6.0</td>\n",
              "      <td>2018-10-17</td>\n",
              "      <td>Natural</td>\n",
              "    </tr>\n",
              "    <tr>\n",
              "      <th>1</th>\n",
              "      <td>1002</td>\n",
              "      <td>YOUNG SINGLES/COUPLES</td>\n",
              "      <td>Mainstream</td>\n",
              "      <td>1</td>\n",
              "      <td>2</td>\n",
              "      <td>58</td>\n",
              "      <td>Red Rock Deli Chikn&amp;Garlic Aioli 150g</td>\n",
              "      <td>1</td>\n",
              "      <td>2.7</td>\n",
              "      <td>2018-09-16</td>\n",
              "      <td>Red</td>\n",
              "    </tr>\n",
              "    <tr>\n",
              "      <th>2</th>\n",
              "      <td>1003</td>\n",
              "      <td>YOUNG FAMILIES</td>\n",
              "      <td>Budget</td>\n",
              "      <td>1</td>\n",
              "      <td>3</td>\n",
              "      <td>52</td>\n",
              "      <td>Grain Waves Sour    Cream&amp;Chives 210G</td>\n",
              "      <td>1</td>\n",
              "      <td>3.6</td>\n",
              "      <td>2019-03-07</td>\n",
              "      <td>Grain</td>\n",
              "    </tr>\n",
              "    <tr>\n",
              "      <th>3</th>\n",
              "      <td>1003</td>\n",
              "      <td>YOUNG FAMILIES</td>\n",
              "      <td>Budget</td>\n",
              "      <td>1</td>\n",
              "      <td>4</td>\n",
              "      <td>106</td>\n",
              "      <td>Natural ChipCo      Hony Soy Chckn175g</td>\n",
              "      <td>1</td>\n",
              "      <td>3.0</td>\n",
              "      <td>2019-03-08</td>\n",
              "      <td>Natural</td>\n",
              "    </tr>\n",
              "    <tr>\n",
              "      <th>4</th>\n",
              "      <td>1004</td>\n",
              "      <td>OLDER SINGLES/COUPLES</td>\n",
              "      <td>Mainstream</td>\n",
              "      <td>1</td>\n",
              "      <td>5</td>\n",
              "      <td>96</td>\n",
              "      <td>WW Original Stacked Chips 160g</td>\n",
              "      <td>1</td>\n",
              "      <td>1.9</td>\n",
              "      <td>2018-11-02</td>\n",
              "      <td>Woolworths</td>\n",
              "    </tr>\n",
              "  </tbody>\n",
              "</table>\n",
              "</div>"
            ],
            "text/plain": [
              "   LYLTY_CARD_NBR              LIFESTAGE PREMIUM_CUSTOMER  STORE_NBR  TXN_ID  \\\n",
              "0            1000  YOUNG SINGLES/COUPLES          Premium          1       1   \n",
              "1            1002  YOUNG SINGLES/COUPLES       Mainstream          1       2   \n",
              "2            1003         YOUNG FAMILIES           Budget          1       3   \n",
              "3            1003         YOUNG FAMILIES           Budget          1       4   \n",
              "4            1004  OLDER SINGLES/COUPLES       Mainstream          1       5   \n",
              "\n",
              "   PROD_NBR                               PROD_NAME  PROD_QTY  TOT_SALES  \\\n",
              "0         5  Natural Chip        Compny SeaSalt175g         2        6.0   \n",
              "1        58   Red Rock Deli Chikn&Garlic Aioli 150g         1        2.7   \n",
              "2        52   Grain Waves Sour    Cream&Chives 210G         1        3.6   \n",
              "3       106  Natural ChipCo      Hony Soy Chckn175g         1        3.0   \n",
              "4        96          WW Original Stacked Chips 160g         1        1.9   \n",
              "\n",
              "        date       Brand  \n",
              "0 2018-10-17     Natural  \n",
              "1 2018-09-16         Red  \n",
              "2 2019-03-07       Grain  \n",
              "3 2019-03-08     Natural  \n",
              "4 2018-11-02  Woolworths  "
            ]
          },
          "execution_count": 50,
          "metadata": {},
          "output_type": "execute_result"
        }
      ],
      "source": [
        "merge.head()"
      ]
    },
    {
      "cell_type": "markdown",
      "id": "427be714",
      "metadata": {
        "id": "427be714"
      },
      "source": [
        "# "
      ]
    },
    {
      "cell_type": "markdown",
      "id": "3425a08e",
      "metadata": {
        "id": "3425a08e"
      },
      "source": [
        "# Creating Coloumn for Size"
      ]
    },
    {
      "cell_type": "code",
      "execution_count": null,
      "id": "b4e4079e",
      "metadata": {
        "id": "b4e4079e"
      },
      "outputs": [],
      "source": [
        "def split(PROD_NAME):\n",
        "    a=str(PROD_NAME)\n",
        "    return a[-4:-1:1]"
      ]
    },
    {
      "cell_type": "code",
      "execution_count": null,
      "id": "177eb2dc",
      "metadata": {
        "id": "177eb2dc"
      },
      "outputs": [],
      "source": [
        "merge[\"Quantity_gm\"]=merge.apply(lambda x:split(x['PROD_NAME']),axis=1)"
      ]
    },
    {
      "cell_type": "code",
      "execution_count": null,
      "id": "37a187e8",
      "metadata": {
        "id": "37a187e8"
      },
      "outputs": [],
      "source": [
        "merge.Quantity_gm.replace({\"Sal\":135},inplace=True)"
      ]
    },
    {
      "cell_type": "markdown",
      "id": "ee22d5c6",
      "metadata": {
        "id": "ee22d5c6"
      },
      "source": [
        "# "
      ]
    },
    {
      "cell_type": "markdown",
      "id": "9ce31ff3",
      "metadata": {
        "id": "9ce31ff3"
      },
      "source": [
        "# "
      ]
    },
    {
      "cell_type": "markdown",
      "id": "b0c4c94b",
      "metadata": {
        "id": "b0c4c94b"
      },
      "source": [
        "# creating new coloumn for Average sales"
      ]
    },
    {
      "cell_type": "code",
      "execution_count": null,
      "id": "5c5b3d24",
      "metadata": {
        "id": "5c5b3d24"
      },
      "outputs": [],
      "source": [
        "merge[\"average_sales\"]=merge.TOT_SALES/merge.PROD_QTY"
      ]
    },
    {
      "cell_type": "code",
      "execution_count": null,
      "id": "78266ee1",
      "metadata": {
        "id": "78266ee1",
        "outputId": "df8b9ab6-bfa6-428b-dd78-6d7ea9b0e47a"
      },
      "outputs": [
        {
          "data": {
            "text/html": [
              "<div>\n",
              "<style scoped>\n",
              "    .dataframe tbody tr th:only-of-type {\n",
              "        vertical-align: middle;\n",
              "    }\n",
              "\n",
              "    .dataframe tbody tr th {\n",
              "        vertical-align: top;\n",
              "    }\n",
              "\n",
              "    .dataframe thead th {\n",
              "        text-align: right;\n",
              "    }\n",
              "</style>\n",
              "<table border=\"1\" class=\"dataframe\">\n",
              "  <thead>\n",
              "    <tr style=\"text-align: right;\">\n",
              "      <th></th>\n",
              "      <th>LYLTY_CARD_NBR</th>\n",
              "      <th>LIFESTAGE</th>\n",
              "      <th>PREMIUM_CUSTOMER</th>\n",
              "      <th>STORE_NBR</th>\n",
              "      <th>TXN_ID</th>\n",
              "      <th>PROD_NBR</th>\n",
              "      <th>PROD_NAME</th>\n",
              "      <th>PROD_QTY</th>\n",
              "      <th>TOT_SALES</th>\n",
              "      <th>date</th>\n",
              "      <th>Brand</th>\n",
              "      <th>Quantity_gm</th>\n",
              "      <th>average_sales</th>\n",
              "    </tr>\n",
              "  </thead>\n",
              "  <tbody>\n",
              "    <tr>\n",
              "      <th>0</th>\n",
              "      <td>1000</td>\n",
              "      <td>YOUNG SINGLES/COUPLES</td>\n",
              "      <td>Premium</td>\n",
              "      <td>1</td>\n",
              "      <td>1</td>\n",
              "      <td>5</td>\n",
              "      <td>Natural Chip        Compny SeaSalt175g</td>\n",
              "      <td>2</td>\n",
              "      <td>6.0</td>\n",
              "      <td>2018-10-17</td>\n",
              "      <td>Natural</td>\n",
              "      <td>175</td>\n",
              "      <td>3.0</td>\n",
              "    </tr>\n",
              "    <tr>\n",
              "      <th>1</th>\n",
              "      <td>1002</td>\n",
              "      <td>YOUNG SINGLES/COUPLES</td>\n",
              "      <td>Mainstream</td>\n",
              "      <td>1</td>\n",
              "      <td>2</td>\n",
              "      <td>58</td>\n",
              "      <td>Red Rock Deli Chikn&amp;Garlic Aioli 150g</td>\n",
              "      <td>1</td>\n",
              "      <td>2.7</td>\n",
              "      <td>2018-09-16</td>\n",
              "      <td>Red</td>\n",
              "      <td>150</td>\n",
              "      <td>2.7</td>\n",
              "    </tr>\n",
              "    <tr>\n",
              "      <th>2</th>\n",
              "      <td>1003</td>\n",
              "      <td>YOUNG FAMILIES</td>\n",
              "      <td>Budget</td>\n",
              "      <td>1</td>\n",
              "      <td>3</td>\n",
              "      <td>52</td>\n",
              "      <td>Grain Waves Sour    Cream&amp;Chives 210G</td>\n",
              "      <td>1</td>\n",
              "      <td>3.6</td>\n",
              "      <td>2019-03-07</td>\n",
              "      <td>Grain</td>\n",
              "      <td>210</td>\n",
              "      <td>3.6</td>\n",
              "    </tr>\n",
              "    <tr>\n",
              "      <th>3</th>\n",
              "      <td>1003</td>\n",
              "      <td>YOUNG FAMILIES</td>\n",
              "      <td>Budget</td>\n",
              "      <td>1</td>\n",
              "      <td>4</td>\n",
              "      <td>106</td>\n",
              "      <td>Natural ChipCo      Hony Soy Chckn175g</td>\n",
              "      <td>1</td>\n",
              "      <td>3.0</td>\n",
              "      <td>2019-03-08</td>\n",
              "      <td>Natural</td>\n",
              "      <td>175</td>\n",
              "      <td>3.0</td>\n",
              "    </tr>\n",
              "    <tr>\n",
              "      <th>4</th>\n",
              "      <td>1004</td>\n",
              "      <td>OLDER SINGLES/COUPLES</td>\n",
              "      <td>Mainstream</td>\n",
              "      <td>1</td>\n",
              "      <td>5</td>\n",
              "      <td>96</td>\n",
              "      <td>WW Original Stacked Chips 160g</td>\n",
              "      <td>1</td>\n",
              "      <td>1.9</td>\n",
              "      <td>2018-11-02</td>\n",
              "      <td>Woolworths</td>\n",
              "      <td>160</td>\n",
              "      <td>1.9</td>\n",
              "    </tr>\n",
              "  </tbody>\n",
              "</table>\n",
              "</div>"
            ],
            "text/plain": [
              "   LYLTY_CARD_NBR              LIFESTAGE PREMIUM_CUSTOMER  STORE_NBR  TXN_ID  \\\n",
              "0            1000  YOUNG SINGLES/COUPLES          Premium          1       1   \n",
              "1            1002  YOUNG SINGLES/COUPLES       Mainstream          1       2   \n",
              "2            1003         YOUNG FAMILIES           Budget          1       3   \n",
              "3            1003         YOUNG FAMILIES           Budget          1       4   \n",
              "4            1004  OLDER SINGLES/COUPLES       Mainstream          1       5   \n",
              "\n",
              "   PROD_NBR                               PROD_NAME  PROD_QTY  TOT_SALES  \\\n",
              "0         5  Natural Chip        Compny SeaSalt175g         2        6.0   \n",
              "1        58   Red Rock Deli Chikn&Garlic Aioli 150g         1        2.7   \n",
              "2        52   Grain Waves Sour    Cream&Chives 210G         1        3.6   \n",
              "3       106  Natural ChipCo      Hony Soy Chckn175g         1        3.0   \n",
              "4        96          WW Original Stacked Chips 160g         1        1.9   \n",
              "\n",
              "        date       Brand Quantity_gm  average_sales  \n",
              "0 2018-10-17     Natural         175            3.0  \n",
              "1 2018-09-16         Red         150            2.7  \n",
              "2 2019-03-07       Grain         210            3.6  \n",
              "3 2019-03-08     Natural         175            3.0  \n",
              "4 2018-11-02  Woolworths         160            1.9  "
            ]
          },
          "execution_count": 56,
          "metadata": {},
          "output_type": "execute_result"
        }
      ],
      "source": [
        "merge.head()"
      ]
    },
    {
      "cell_type": "markdown",
      "id": "58d705c6",
      "metadata": {
        "id": "58d705c6"
      },
      "source": [
        "# "
      ]
    },
    {
      "cell_type": "code",
      "execution_count": null,
      "id": "f343d8ca",
      "metadata": {
        "id": "f343d8ca"
      },
      "outputs": [],
      "source": [
        "a=pd.pivot_table(index=[\"PREMIUM_CUSTOMER\",\"LIFESTAGE\"],\n",
        "                 values=['PROD_QTY','TOT_SALES'],data=merge,aggfunc=\"sum\").sort_values(by=['TOT_SALES'],ascending=False)"
      ]
    },
    {
      "cell_type": "code",
      "execution_count": null,
      "id": "5be2eb38",
      "metadata": {
        "id": "5be2eb38",
        "outputId": "79b23205-a481-4de8-e553-0bcfa9dad52f"
      },
      "outputs": [
        {
          "data": {
            "text/html": [
              "<div>\n",
              "<style scoped>\n",
              "    .dataframe tbody tr th:only-of-type {\n",
              "        vertical-align: middle;\n",
              "    }\n",
              "\n",
              "    .dataframe tbody tr th {\n",
              "        vertical-align: top;\n",
              "    }\n",
              "\n",
              "    .dataframe thead th {\n",
              "        text-align: right;\n",
              "    }\n",
              "</style>\n",
              "<table border=\"1\" class=\"dataframe\">\n",
              "  <thead>\n",
              "    <tr style=\"text-align: right;\">\n",
              "      <th></th>\n",
              "      <th></th>\n",
              "      <th>PROD_QTY</th>\n",
              "      <th>TOT_SALES</th>\n",
              "    </tr>\n",
              "    <tr>\n",
              "      <th>PREMIUM_CUSTOMER</th>\n",
              "      <th>LIFESTAGE</th>\n",
              "      <th></th>\n",
              "      <th></th>\n",
              "    </tr>\n",
              "  </thead>\n",
              "  <tbody>\n",
              "    <tr>\n",
              "      <th>Budget</th>\n",
              "      <th>OLDER FAMILIES</th>\n",
              "      <td>44782</td>\n",
              "      <td>167938.75</td>\n",
              "    </tr>\n",
              "    <tr>\n",
              "      <th rowspan=\"2\" valign=\"top\">Mainstream</th>\n",
              "      <th>YOUNG SINGLES/COUPLES</th>\n",
              "      <td>38547</td>\n",
              "      <td>157494.10</td>\n",
              "    </tr>\n",
              "    <tr>\n",
              "      <th>RETIREES</th>\n",
              "      <td>40262</td>\n",
              "      <td>155293.05</td>\n",
              "    </tr>\n",
              "    <tr>\n",
              "      <th rowspan=\"2\" valign=\"top\">Budget</th>\n",
              "      <th>YOUNG FAMILIES</th>\n",
              "      <td>36894</td>\n",
              "      <td>139020.35</td>\n",
              "    </tr>\n",
              "    <tr>\n",
              "      <th>OLDER SINGLES/COUPLES</th>\n",
              "      <td>35040</td>\n",
              "      <td>136499.80</td>\n",
              "    </tr>\n",
              "  </tbody>\n",
              "</table>\n",
              "</div>"
            ],
            "text/plain": [
              "                                        PROD_QTY  TOT_SALES\n",
              "PREMIUM_CUSTOMER LIFESTAGE                                 \n",
              "Budget           OLDER FAMILIES            44782  167938.75\n",
              "Mainstream       YOUNG SINGLES/COUPLES     38547  157494.10\n",
              "                 RETIREES                  40262  155293.05\n",
              "Budget           YOUNG FAMILIES            36894  139020.35\n",
              "                 OLDER SINGLES/COUPLES     35040  136499.80"
            ]
          },
          "execution_count": 58,
          "metadata": {},
          "output_type": "execute_result"
        }
      ],
      "source": [
        "a[:5]"
      ]
    },
    {
      "cell_type": "code",
      "execution_count": null,
      "id": "f531ae69",
      "metadata": {
        "id": "f531ae69",
        "outputId": "31317e7e-0b7b-4dfd-ed7f-a8b5ef3ae4f2"
      },
      "outputs": [
        {
          "data": {
            "text/plain": [
              "<AxesSubplot:xlabel='PREMIUM_CUSTOMER,LIFESTAGE'>"
            ]
          },
          "execution_count": 59,
          "metadata": {},
          "output_type": "execute_result"
        },
        {
          "data": {
            "image/png": "[encoded data removed]",
            "text/plain": [
              "<Figure size 1080x720 with 1 Axes>"
            ]
          },
          "metadata": {
            "needs_background": "light"
          },
          "output_type": "display_data"
        }
      ],
      "source": [
        "a.plot(kind=\"bar\",figsize=[15,10])"
      ]
    },
    {
      "cell_type": "markdown",
      "id": "28696121",
      "metadata": {
        "id": "28696121"
      },
      "source": [
        "## From above we can Say Budget Customer with OLDER FAMILIES and Mainstream\tYOUNG SINGLES/COUPLES spend most generating total sale of 167938.75 & 157494.10\n",
        "\n",
        "## and Premium\tCustomer with NEW FAMILIES spend least generating total sale of 11474.60"
      ]
    },
    {
      "cell_type": "markdown",
      "id": "8c811b96",
      "metadata": {
        "id": "8c811b96"
      },
      "source": [
        "# "
      ]
    },
    {
      "cell_type": "code",
      "execution_count": null,
      "id": "41ff6c41",
      "metadata": {
        "id": "41ff6c41",
        "outputId": "fb1d886a-2dbd-472d-9fd6-0d8afae825e1"
      },
      "outputs": [
        {
          "data": {
            "text/html": [
              "<div>\n",
              "<style scoped>\n",
              "    .dataframe tbody tr th:only-of-type {\n",
              "        vertical-align: middle;\n",
              "    }\n",
              "\n",
              "    .dataframe tbody tr th {\n",
              "        vertical-align: top;\n",
              "    }\n",
              "\n",
              "    .dataframe thead th {\n",
              "        text-align: right;\n",
              "    }\n",
              "</style>\n",
              "<table border=\"1\" class=\"dataframe\">\n",
              "  <thead>\n",
              "    <tr style=\"text-align: right;\">\n",
              "      <th></th>\n",
              "      <th>PROD_QTY</th>\n",
              "      <th>TOT_SALES</th>\n",
              "    </tr>\n",
              "    <tr>\n",
              "      <th>PREMIUM_CUSTOMER</th>\n",
              "      <th></th>\n",
              "      <th></th>\n",
              "    </tr>\n",
              "  </thead>\n",
              "  <tbody>\n",
              "    <tr>\n",
              "      <th>Mainstream</th>\n",
              "      <td>192983</td>\n",
              "      <td>749271.50</td>\n",
              "    </tr>\n",
              "    <tr>\n",
              "      <th>Budget</th>\n",
              "      <td>176922</td>\n",
              "      <td>674747.55</td>\n",
              "    </tr>\n",
              "    <tr>\n",
              "      <th>Premium</th>\n",
              "      <td>132117</td>\n",
              "      <td>505039.95</td>\n",
              "    </tr>\n",
              "  </tbody>\n",
              "</table>\n",
              "</div>"
            ],
            "text/plain": [
              "                  PROD_QTY  TOT_SALES\n",
              "PREMIUM_CUSTOMER                     \n",
              "Mainstream          192983  749271.50\n",
              "Budget              176922  674747.55\n",
              "Premium             132117  505039.95"
            ]
          },
          "execution_count": 60,
          "metadata": {},
          "output_type": "execute_result"
        }
      ],
      "source": [
        "pd.pivot_table(index=[\"PREMIUM_CUSTOMER\"],values=['PROD_QTY','TOT_SALES'],\n",
        "                 data=merge,aggfunc=\"sum\").sort_values(by=['PROD_QTY','TOT_SALES'],ascending=False)"
      ]
    },
    {
      "cell_type": "markdown",
      "id": "684a3a19",
      "metadata": {
        "id": "684a3a19"
      },
      "source": [
        "## From Above Max sales is generated by Mainstream customers"
      ]
    },
    {
      "cell_type": "markdown",
      "id": "0534e4cb",
      "metadata": {
        "id": "0534e4cb"
      },
      "source": [
        "# "
      ]
    },
    {
      "cell_type": "code",
      "execution_count": null,
      "id": "a3222745",
      "metadata": {
        "id": "a3222745",
        "outputId": "168a3734-f540-45a8-c2b3-3ef24f841134"
      },
      "outputs": [
        {
          "data": {
            "text/html": [
              "<div>\n",
              "<style scoped>\n",
              "    .dataframe tbody tr th:only-of-type {\n",
              "        vertical-align: middle;\n",
              "    }\n",
              "\n",
              "    .dataframe tbody tr th {\n",
              "        vertical-align: top;\n",
              "    }\n",
              "\n",
              "    .dataframe thead th {\n",
              "        text-align: right;\n",
              "    }\n",
              "</style>\n",
              "<table border=\"1\" class=\"dataframe\">\n",
              "  <thead>\n",
              "    <tr style=\"text-align: right;\">\n",
              "      <th></th>\n",
              "      <th>PROD_QTY</th>\n",
              "      <th>TOT_SALES</th>\n",
              "    </tr>\n",
              "    <tr>\n",
              "      <th>LIFESTAGE</th>\n",
              "      <th></th>\n",
              "      <th></th>\n",
              "    </tr>\n",
              "  </thead>\n",
              "  <tbody>\n",
              "    <tr>\n",
              "      <th>OLDER SINGLES/COUPLES</th>\n",
              "      <td>103679</td>\n",
              "      <td>401637.75</td>\n",
              "    </tr>\n",
              "    <tr>\n",
              "      <th>OLDER FAMILIES</th>\n",
              "      <td>94015</td>\n",
              "      <td>351601.70</td>\n",
              "    </tr>\n",
              "    <tr>\n",
              "      <th>RETIREES</th>\n",
              "      <td>93667</td>\n",
              "      <td>365722.40</td>\n",
              "    </tr>\n",
              "    <tr>\n",
              "      <th>YOUNG FAMILIES</th>\n",
              "      <td>84038</td>\n",
              "      <td>315375.60</td>\n",
              "    </tr>\n",
              "    <tr>\n",
              "      <th>YOUNG SINGLES/COUPLES</th>\n",
              "      <td>66344</td>\n",
              "      <td>259970.30</td>\n",
              "    </tr>\n",
              "    <tr>\n",
              "      <th>MIDAGE SINGLES/COUPLES</th>\n",
              "      <td>47467</td>\n",
              "      <td>184370.30</td>\n",
              "    </tr>\n",
              "    <tr>\n",
              "      <th>NEW FAMILIES</th>\n",
              "      <td>12812</td>\n",
              "      <td>50380.95</td>\n",
              "    </tr>\n",
              "  </tbody>\n",
              "</table>\n",
              "</div>"
            ],
            "text/plain": [
              "                        PROD_QTY  TOT_SALES\n",
              "LIFESTAGE                                  \n",
              "OLDER SINGLES/COUPLES     103679  401637.75\n",
              "OLDER FAMILIES             94015  351601.70\n",
              "RETIREES                   93667  365722.40\n",
              "YOUNG FAMILIES             84038  315375.60\n",
              "YOUNG SINGLES/COUPLES      66344  259970.30\n",
              "MIDAGE SINGLES/COUPLES     47467  184370.30\n",
              "NEW FAMILIES               12812   50380.95"
            ]
          },
          "execution_count": 61,
          "metadata": {},
          "output_type": "execute_result"
        }
      ],
      "source": [
        "pd.pivot_table(index=[\"LIFESTAGE\"],values=['PROD_QTY','TOT_SALES'],\n",
        "                 data=merge,aggfunc=\"sum\").sort_values(by=['PROD_QTY','TOT_SALES'],ascending=False)"
      ]
    },
    {
      "cell_type": "markdown",
      "id": "d26f2f77",
      "metadata": {
        "id": "d26f2f77"
      },
      "source": [
        "## From Above OLDER SINGLES/COUPLES generate max sales"
      ]
    },
    {
      "cell_type": "markdown",
      "id": "6076f440",
      "metadata": {
        "id": "6076f440"
      },
      "source": [
        "# "
      ]
    },
    {
      "cell_type": "code",
      "execution_count": null,
      "id": "5b86fb33",
      "metadata": {
        "id": "5b86fb33",
        "outputId": "e8be5613-3820-4047-f058-5becf6cdeb04"
      },
      "outputs": [
        {
          "data": {
            "text/plain": [
              "OLDER SINGLES/COUPLES     54206\n",
              "RETIREES                  49497\n",
              "OLDER FAMILIES            48293\n",
              "YOUNG FAMILIES            43325\n",
              "YOUNG SINGLES/COUPLES     36210\n",
              "MIDAGE SINGLES/COUPLES    24973\n",
              "NEW FAMILIES               6899\n",
              "Name: LIFESTAGE, dtype: int64"
            ]
          },
          "execution_count": 62,
          "metadata": {},
          "output_type": "execute_result"
        }
      ],
      "source": [
        "merge.LIFESTAGE.value_counts()"
      ]
    },
    {
      "cell_type": "code",
      "execution_count": null,
      "id": "481dcf63",
      "metadata": {
        "id": "481dcf63"
      },
      "outputs": [],
      "source": []
    },
    {
      "cell_type": "code",
      "execution_count": null,
      "id": "1bbd1d48",
      "metadata": {
        "id": "1bbd1d48",
        "outputId": "f387e9d0-d9b1-4b48-c9c4-f880a52bb747"
      },
      "outputs": [
        {
          "data": {
            "text/plain": [
              "Mainstream    101471\n",
              "Budget         92637\n",
              "Premium        69295\n",
              "Name: PREMIUM_CUSTOMER, dtype: int64"
            ]
          },
          "execution_count": 63,
          "metadata": {},
          "output_type": "execute_result"
        }
      ],
      "source": [
        "merge.PREMIUM_CUSTOMER.value_counts()"
      ]
    },
    {
      "cell_type": "code",
      "execution_count": null,
      "id": "2e83b3e6",
      "metadata": {
        "id": "2e83b3e6",
        "outputId": "8013af3d-91d4-40f1-ac98-8bbebfaca12c"
      },
      "outputs": [
        {
          "data": {
            "text/html": [
              "<div>\n",
              "<style scoped>\n",
              "    .dataframe tbody tr th:only-of-type {\n",
              "        vertical-align: middle;\n",
              "    }\n",
              "\n",
              "    .dataframe tbody tr th {\n",
              "        vertical-align: top;\n",
              "    }\n",
              "\n",
              "    .dataframe thead th {\n",
              "        text-align: right;\n",
              "    }\n",
              "</style>\n",
              "<table border=\"1\" class=\"dataframe\">\n",
              "  <thead>\n",
              "    <tr style=\"text-align: right;\">\n",
              "      <th></th>\n",
              "      <th>TOT_SALES</th>\n",
              "    </tr>\n",
              "    <tr>\n",
              "      <th>Brand</th>\n",
              "      <th></th>\n",
              "    </tr>\n",
              "  </thead>\n",
              "  <tbody>\n",
              "    <tr>\n",
              "      <th>Kettle</th>\n",
              "      <td>390239.8</td>\n",
              "    </tr>\n",
              "    <tr>\n",
              "      <th>Smiths</th>\n",
              "      <td>210070.8</td>\n",
              "    </tr>\n",
              "    <tr>\n",
              "      <th>Doritos</th>\n",
              "      <td>201538.9</td>\n",
              "    </tr>\n",
              "    <tr>\n",
              "      <th>Pringles</th>\n",
              "      <td>177655.5</td>\n",
              "    </tr>\n",
              "    <tr>\n",
              "      <th>Red</th>\n",
              "      <td>95046.0</td>\n",
              "    </tr>\n",
              "  </tbody>\n",
              "</table>\n",
              "</div>"
            ],
            "text/plain": [
              "          TOT_SALES\n",
              "Brand              \n",
              "Kettle     390239.8\n",
              "Smiths     210070.8\n",
              "Doritos    201538.9\n",
              "Pringles   177655.5\n",
              "Red         95046.0"
            ]
          },
          "execution_count": 64,
          "metadata": {},
          "output_type": "execute_result"
        }
      ],
      "source": [
        "pd.pivot_table(index=[\"Brand\"],\n",
        "                 values=['TOT_SALES'],data=merge,aggfunc=\"sum\").sort_values(by=\"TOT_SALES\",ascending=False)[:5]"
      ]
    },
    {
      "cell_type": "markdown",
      "id": "244eba4e",
      "metadata": {
        "id": "244eba4e"
      },
      "source": [
        "# Top 5 brands with Most Sum of sales"
      ]
    },
    {
      "cell_type": "markdown",
      "id": "71490d16",
      "metadata": {
        "id": "71490d16"
      },
      "source": [
        "# "
      ]
    },
    {
      "cell_type": "code",
      "execution_count": null,
      "id": "a21b50b3",
      "metadata": {
        "id": "a21b50b3",
        "outputId": "215f557e-c004-4bd6-f60b-110f9145bdb4"
      },
      "outputs": [
        {
          "data": {
            "text/html": [
              "<div>\n",
              "<style scoped>\n",
              "    .dataframe tbody tr th:only-of-type {\n",
              "        vertical-align: middle;\n",
              "    }\n",
              "\n",
              "    .dataframe tbody tr th {\n",
              "        vertical-align: top;\n",
              "    }\n",
              "\n",
              "    .dataframe thead th {\n",
              "        text-align: right;\n",
              "    }\n",
              "</style>\n",
              "<table border=\"1\" class=\"dataframe\">\n",
              "  <thead>\n",
              "    <tr style=\"text-align: right;\">\n",
              "      <th></th>\n",
              "      <th></th>\n",
              "      <th>TOT_SALES</th>\n",
              "    </tr>\n",
              "    <tr>\n",
              "      <th>Brand</th>\n",
              "      <th>Quantity_gm</th>\n",
              "      <th></th>\n",
              "    </tr>\n",
              "  </thead>\n",
              "  <tbody>\n",
              "    <tr>\n",
              "      <th>Kettle</th>\n",
              "      <th>175</th>\n",
              "      <td>196668.0</td>\n",
              "    </tr>\n",
              "    <tr>\n",
              "      <th>Pringles</th>\n",
              "      <th>134</th>\n",
              "      <td>177655.5</td>\n",
              "    </tr>\n",
              "    <tr>\n",
              "      <th>Kettle</th>\n",
              "      <th>150</th>\n",
              "      <td>167481.4</td>\n",
              "    </tr>\n",
              "    <tr>\n",
              "      <th>Doritos</th>\n",
              "      <th>170</th>\n",
              "      <td>106264.4</td>\n",
              "    </tr>\n",
              "    <tr>\n",
              "      <th>Old</th>\n",
              "      <th>300</th>\n",
              "      <td>90785.1</td>\n",
              "    </tr>\n",
              "  </tbody>\n",
              "</table>\n",
              "</div>"
            ],
            "text/plain": [
              "                      TOT_SALES\n",
              "Brand    Quantity_gm           \n",
              "Kettle   175           196668.0\n",
              "Pringles 134           177655.5\n",
              "Kettle   150           167481.4\n",
              "Doritos  170           106264.4\n",
              "Old      300            90785.1"
            ]
          },
          "execution_count": 65,
          "metadata": {},
          "output_type": "execute_result"
        }
      ],
      "source": [
        "b=pd.pivot_table(index=[\"Brand\",\"Quantity_gm\"],\n",
        "                 values=['TOT_SALES'],data=merge,aggfunc=\"sum\").sort_values(by=\"TOT_SALES\",ascending=False)\n",
        "b[:5]"
      ]
    },
    {
      "cell_type": "code",
      "execution_count": null,
      "id": "7811781c",
      "metadata": {
        "id": "7811781c",
        "outputId": "cda05e66-5d98-4d44-c203-9438e5057e62"
      },
      "outputs": [
        {
          "data": {
            "text/html": [
              "<div>\n",
              "<style scoped>\n",
              "    .dataframe tbody tr th:only-of-type {\n",
              "        vertical-align: middle;\n",
              "    }\n",
              "\n",
              "    .dataframe tbody tr th {\n",
              "        vertical-align: top;\n",
              "    }\n",
              "\n",
              "    .dataframe thead th {\n",
              "        text-align: right;\n",
              "    }\n",
              "</style>\n",
              "<table border=\"1\" class=\"dataframe\">\n",
              "  <thead>\n",
              "    <tr style=\"text-align: right;\">\n",
              "      <th></th>\n",
              "      <th>TOT_SALES</th>\n",
              "    </tr>\n",
              "    <tr>\n",
              "      <th>Quantity_gm</th>\n",
              "      <th></th>\n",
              "    </tr>\n",
              "  </thead>\n",
              "  <tbody>\n",
              "    <tr>\n",
              "      <th>175</th>\n",
              "      <td>485431.4</td>\n",
              "    </tr>\n",
              "    <tr>\n",
              "      <th>150</th>\n",
              "      <td>304288.5</td>\n",
              "    </tr>\n",
              "    <tr>\n",
              "      <th>134</th>\n",
              "      <td>177655.5</td>\n",
              "    </tr>\n",
              "    <tr>\n",
              "      <th>110</th>\n",
              "      <td>162765.4</td>\n",
              "    </tr>\n",
              "    <tr>\n",
              "      <th>170</th>\n",
              "      <td>146673.0</td>\n",
              "    </tr>\n",
              "  </tbody>\n",
              "</table>\n",
              "</div>"
            ],
            "text/plain": [
              "             TOT_SALES\n",
              "Quantity_gm           \n",
              "175           485431.4\n",
              "150           304288.5\n",
              "134           177655.5\n",
              "110           162765.4\n",
              "170           146673.0"
            ]
          },
          "execution_count": 66,
          "metadata": {},
          "output_type": "execute_result"
        }
      ],
      "source": [
        "c=pd.pivot_table(index=[\"Quantity_gm\"],\n",
        "                 values=['TOT_SALES'],data=merge,aggfunc=\"sum\").sort_values(by=\"TOT_SALES\",ascending=False)\n",
        "c[:5]"
      ]
    },
    {
      "cell_type": "code",
      "execution_count": null,
      "id": "d43aed5a",
      "metadata": {
        "id": "d43aed5a",
        "outputId": "12bb8e93-f073-422b-97da-f7cc66691b5a"
      },
      "outputs": [
        {
          "data": {
            "text/plain": [
              "<AxesSubplot:xlabel='Brand,Quantity_gm'>"
            ]
          },
          "execution_count": 67,
          "metadata": {},
          "output_type": "execute_result"
        },
        {
          "data": {
            "image/png": "[encoded data removed]",
            "text/plain": [
              "<Figure size 1080x720 with 1 Axes>"
            ]
          },
          "metadata": {
            "needs_background": "light"
          },
          "output_type": "display_data"
        }
      ],
      "source": [
        "b.plot(kind=\"bar\",figsize=[15,10],color=\"orange\")"
      ]
    },
    {
      "cell_type": "markdown",
      "id": "ce7ffa49",
      "metadata": {
        "id": "ce7ffa49"
      },
      "source": [
        "## from above we can say Kettle 175gm pack generate max sales"
      ]
    },
    {
      "cell_type": "markdown",
      "id": "d6dc5613",
      "metadata": {
        "id": "d6dc5613"
      },
      "source": [
        "# "
      ]
    },
    {
      "cell_type": "code",
      "execution_count": null,
      "id": "3199279c",
      "metadata": {
        "id": "3199279c"
      },
      "outputs": [],
      "source": [
        "group=merge.groupby([\"LIFESTAGE\",\"PREMIUM_CUSTOMER\"])"
      ]
    },
    {
      "cell_type": "code",
      "execution_count": null,
      "id": "a7420eff",
      "metadata": {
        "id": "a7420eff"
      },
      "outputs": [],
      "source": [
        "df1=group.agg({\"LYLTY_CARD_NBR\":\"count\",\n",
        "           \"STORE_NBR\":\"count\",\n",
        "           \"TXN_ID\":\"count\",\n",
        "           \"PROD_NBR\":\"count\",\n",
        "           \"PROD_QTY\":\"sum\",\n",
        "           \"TOT_SALES\":\"sum\"}\n",
        ")"
      ]
    },
    {
      "cell_type": "code",
      "execution_count": null,
      "id": "26bb0d41",
      "metadata": {
        "id": "26bb0d41"
      },
      "outputs": [],
      "source": [
        "df2=pd.DataFrame(df1)"
      ]
    },
    {
      "cell_type": "code",
      "execution_count": null,
      "id": "6d90bb5c",
      "metadata": {
        "id": "6d90bb5c",
        "outputId": "7ef6dc23-d22b-4044-c30b-54b4fbace29e"
      },
      "outputs": [
        {
          "data": {
            "text/html": [
              "<div>\n",
              "<style scoped>\n",
              "    .dataframe tbody tr th:only-of-type {\n",
              "        vertical-align: middle;\n",
              "    }\n",
              "\n",
              "    .dataframe tbody tr th {\n",
              "        vertical-align: top;\n",
              "    }\n",
              "\n",
              "    .dataframe thead th {\n",
              "        text-align: right;\n",
              "    }\n",
              "</style>\n",
              "<table border=\"1\" class=\"dataframe\">\n",
              "  <thead>\n",
              "    <tr style=\"text-align: right;\">\n",
              "      <th></th>\n",
              "      <th></th>\n",
              "      <th>LYLTY_CARD_NBR</th>\n",
              "      <th>STORE_NBR</th>\n",
              "      <th>TXN_ID</th>\n",
              "      <th>PROD_NBR</th>\n",
              "      <th>PROD_QTY</th>\n",
              "      <th>TOT_SALES</th>\n",
              "    </tr>\n",
              "    <tr>\n",
              "      <th>LIFESTAGE</th>\n",
              "      <th>PREMIUM_CUSTOMER</th>\n",
              "      <th></th>\n",
              "      <th></th>\n",
              "      <th></th>\n",
              "      <th></th>\n",
              "      <th></th>\n",
              "      <th></th>\n",
              "    </tr>\n",
              "  </thead>\n",
              "  <tbody>\n",
              "    <tr>\n",
              "      <th rowspan=\"3\" valign=\"top\">MIDAGE SINGLES/COUPLES</th>\n",
              "      <th>Budget</th>\n",
              "      <td>4991</td>\n",
              "      <td>4991</td>\n",
              "      <td>4991</td>\n",
              "      <td>4991</td>\n",
              "      <td>9446</td>\n",
              "      <td>35439.80</td>\n",
              "    </tr>\n",
              "    <tr>\n",
              "      <th>Mainstream</th>\n",
              "      <td>11824</td>\n",
              "      <td>11824</td>\n",
              "      <td>11824</td>\n",
              "      <td>11824</td>\n",
              "      <td>22603</td>\n",
              "      <td>90659.85</td>\n",
              "    </tr>\n",
              "    <tr>\n",
              "      <th>Premium</th>\n",
              "      <td>8158</td>\n",
              "      <td>8158</td>\n",
              "      <td>8158</td>\n",
              "      <td>8158</td>\n",
              "      <td>15418</td>\n",
              "      <td>58270.65</td>\n",
              "    </tr>\n",
              "    <tr>\n",
              "      <th rowspan=\"3\" valign=\"top\">NEW FAMILIES</th>\n",
              "      <th>Budget</th>\n",
              "      <td>2997</td>\n",
              "      <td>2997</td>\n",
              "      <td>2997</td>\n",
              "      <td>2997</td>\n",
              "      <td>5558</td>\n",
              "      <td>21908.95</td>\n",
              "    </tr>\n",
              "    <tr>\n",
              "      <th>Mainstream</th>\n",
              "      <td>2319</td>\n",
              "      <td>2319</td>\n",
              "      <td>2319</td>\n",
              "      <td>2319</td>\n",
              "      <td>4308</td>\n",
              "      <td>16997.40</td>\n",
              "    </tr>\n",
              "    <tr>\n",
              "      <th>Premium</th>\n",
              "      <td>1583</td>\n",
              "      <td>1583</td>\n",
              "      <td>1583</td>\n",
              "      <td>1583</td>\n",
              "      <td>2946</td>\n",
              "      <td>11474.60</td>\n",
              "    </tr>\n",
              "    <tr>\n",
              "      <th rowspan=\"3\" valign=\"top\">OLDER FAMILIES</th>\n",
              "      <th>Budget</th>\n",
              "      <td>23015</td>\n",
              "      <td>23015</td>\n",
              "      <td>23015</td>\n",
              "      <td>23015</td>\n",
              "      <td>44782</td>\n",
              "      <td>167938.75</td>\n",
              "    </tr>\n",
              "    <tr>\n",
              "      <th>Mainstream</th>\n",
              "      <td>14155</td>\n",
              "      <td>14155</td>\n",
              "      <td>14155</td>\n",
              "      <td>14155</td>\n",
              "      <td>27585</td>\n",
              "      <td>103189.05</td>\n",
              "    </tr>\n",
              "    <tr>\n",
              "      <th>Premium</th>\n",
              "      <td>11123</td>\n",
              "      <td>11123</td>\n",
              "      <td>11123</td>\n",
              "      <td>11123</td>\n",
              "      <td>21648</td>\n",
              "      <td>80473.90</td>\n",
              "    </tr>\n",
              "    <tr>\n",
              "      <th rowspan=\"3\" valign=\"top\">OLDER SINGLES/COUPLES</th>\n",
              "      <th>Budget</th>\n",
              "      <td>18312</td>\n",
              "      <td>18312</td>\n",
              "      <td>18312</td>\n",
              "      <td>18312</td>\n",
              "      <td>35040</td>\n",
              "      <td>136499.80</td>\n",
              "    </tr>\n",
              "    <tr>\n",
              "      <th>Mainstream</th>\n",
              "      <td>18223</td>\n",
              "      <td>18223</td>\n",
              "      <td>18223</td>\n",
              "      <td>18223</td>\n",
              "      <td>34812</td>\n",
              "      <td>133116.30</td>\n",
              "    </tr>\n",
              "    <tr>\n",
              "      <th>Premium</th>\n",
              "      <td>17671</td>\n",
              "      <td>17671</td>\n",
              "      <td>17671</td>\n",
              "      <td>17671</td>\n",
              "      <td>33827</td>\n",
              "      <td>132021.65</td>\n",
              "    </tr>\n",
              "    <tr>\n",
              "      <th rowspan=\"3\" valign=\"top\">RETIREES</th>\n",
              "      <th>Budget</th>\n",
              "      <td>15140</td>\n",
              "      <td>15140</td>\n",
              "      <td>15140</td>\n",
              "      <td>15140</td>\n",
              "      <td>28651</td>\n",
              "      <td>112978.30</td>\n",
              "    </tr>\n",
              "    <tr>\n",
              "      <th>Mainstream</th>\n",
              "      <td>21328</td>\n",
              "      <td>21328</td>\n",
              "      <td>21328</td>\n",
              "      <td>21328</td>\n",
              "      <td>40262</td>\n",
              "      <td>155293.05</td>\n",
              "    </tr>\n",
              "    <tr>\n",
              "      <th>Premium</th>\n",
              "      <td>13029</td>\n",
              "      <td>13029</td>\n",
              "      <td>13029</td>\n",
              "      <td>13029</td>\n",
              "      <td>24754</td>\n",
              "      <td>97451.05</td>\n",
              "    </tr>\n",
              "    <tr>\n",
              "      <th rowspan=\"3\" valign=\"top\">YOUNG FAMILIES</th>\n",
              "      <th>Budget</th>\n",
              "      <td>19011</td>\n",
              "      <td>19011</td>\n",
              "      <td>19011</td>\n",
              "      <td>19011</td>\n",
              "      <td>36894</td>\n",
              "      <td>139020.35</td>\n",
              "    </tr>\n",
              "    <tr>\n",
              "      <th>Mainstream</th>\n",
              "      <td>12815</td>\n",
              "      <td>12815</td>\n",
              "      <td>12815</td>\n",
              "      <td>12815</td>\n",
              "      <td>24866</td>\n",
              "      <td>92521.75</td>\n",
              "    </tr>\n",
              "    <tr>\n",
              "      <th>Premium</th>\n",
              "      <td>11499</td>\n",
              "      <td>11499</td>\n",
              "      <td>11499</td>\n",
              "      <td>11499</td>\n",
              "      <td>22278</td>\n",
              "      <td>83833.50</td>\n",
              "    </tr>\n",
              "    <tr>\n",
              "      <th rowspan=\"3\" valign=\"top\">YOUNG SINGLES/COUPLES</th>\n",
              "      <th>Budget</th>\n",
              "      <td>9171</td>\n",
              "      <td>9171</td>\n",
              "      <td>9171</td>\n",
              "      <td>9171</td>\n",
              "      <td>16551</td>\n",
              "      <td>60961.60</td>\n",
              "    </tr>\n",
              "    <tr>\n",
              "      <th>Mainstream</th>\n",
              "      <td>20807</td>\n",
              "      <td>20807</td>\n",
              "      <td>20807</td>\n",
              "      <td>20807</td>\n",
              "      <td>38547</td>\n",
              "      <td>157494.10</td>\n",
              "    </tr>\n",
              "    <tr>\n",
              "      <th>Premium</th>\n",
              "      <td>6232</td>\n",
              "      <td>6232</td>\n",
              "      <td>6232</td>\n",
              "      <td>6232</td>\n",
              "      <td>11246</td>\n",
              "      <td>41514.60</td>\n",
              "    </tr>\n",
              "  </tbody>\n",
              "</table>\n",
              "</div>"
            ],
            "text/plain": [
              "                                         LYLTY_CARD_NBR  STORE_NBR  TXN_ID  \\\n",
              "LIFESTAGE              PREMIUM_CUSTOMER                                      \n",
              "MIDAGE SINGLES/COUPLES Budget                      4991       4991    4991   \n",
              "                       Mainstream                 11824      11824   11824   \n",
              "                       Premium                     8158       8158    8158   \n",
              "NEW FAMILIES           Budget                      2997       2997    2997   \n",
              "                       Mainstream                  2319       2319    2319   \n",
              "                       Premium                     1583       1583    1583   \n",
              "OLDER FAMILIES         Budget                     23015      23015   23015   \n",
              "                       Mainstream                 14155      14155   14155   \n",
              "                       Premium                    11123      11123   11123   \n",
              "OLDER SINGLES/COUPLES  Budget                     18312      18312   18312   \n",
              "                       Mainstream                 18223      18223   18223   \n",
              "                       Premium                    17671      17671   17671   \n",
              "RETIREES               Budget                     15140      15140   15140   \n",
              "                       Mainstream                 21328      21328   21328   \n",
              "                       Premium                    13029      13029   13029   \n",
              "YOUNG FAMILIES         Budget                     19011      19011   19011   \n",
              "                       Mainstream                 12815      12815   12815   \n",
              "                       Premium                    11499      11499   11499   \n",
              "YOUNG SINGLES/COUPLES  Budget                      9171       9171    9171   \n",
              "                       Mainstream                 20807      20807   20807   \n",
              "                       Premium                     6232       6232    6232   \n",
              "\n",
              "                                         PROD_NBR  PROD_QTY  TOT_SALES  \n",
              "LIFESTAGE              PREMIUM_CUSTOMER                                 \n",
              "MIDAGE SINGLES/COUPLES Budget                4991      9446   35439.80  \n",
              "                       Mainstream           11824     22603   90659.85  \n",
              "                       Premium               8158     15418   58270.65  \n",
              "NEW FAMILIES           Budget                2997      5558   21908.95  \n",
              "                       Mainstream            2319      4308   16997.40  \n",
              "                       Premium               1583      2946   11474.60  \n",
              "OLDER FAMILIES         Budget               23015     44782  167938.75  \n",
              "                       Mainstream           14155     27585  103189.05  \n",
              "                       Premium              11123     21648   80473.90  \n",
              "OLDER SINGLES/COUPLES  Budget               18312     35040  136499.80  \n",
              "                       Mainstream           18223     34812  133116.30  \n",
              "                       Premium              17671     33827  132021.65  \n",
              "RETIREES               Budget               15140     28651  112978.30  \n",
              "                       Mainstream           21328     40262  155293.05  \n",
              "                       Premium              13029     24754   97451.05  \n",
              "YOUNG FAMILIES         Budget               19011     36894  139020.35  \n",
              "                       Mainstream           12815     24866   92521.75  \n",
              "                       Premium              11499     22278   83833.50  \n",
              "YOUNG SINGLES/COUPLES  Budget                9171     16551   60961.60  \n",
              "                       Mainstream           20807     38547  157494.10  \n",
              "                       Premium               6232     11246   41514.60  "
            ]
          },
          "execution_count": 71,
          "metadata": {},
          "output_type": "execute_result"
        }
      ],
      "source": [
        "df2"
      ]
    },
    {
      "cell_type": "code",
      "execution_count": null,
      "id": "09ce1e87",
      "metadata": {
        "id": "09ce1e87"
      },
      "outputs": [],
      "source": [
        "df2.reset_index(inplace=True)\n"
      ]
    },
    {
      "cell_type": "code",
      "execution_count": null,
      "id": "aef507dc",
      "metadata": {
        "id": "aef507dc",
        "outputId": "c32f6173-020d-468b-96b2-cbb403e8b15b"
      },
      "outputs": [
        {
          "data": {
            "text/html": [
              "<div>\n",
              "<style scoped>\n",
              "    .dataframe tbody tr th:only-of-type {\n",
              "        vertical-align: middle;\n",
              "    }\n",
              "\n",
              "    .dataframe tbody tr th {\n",
              "        vertical-align: top;\n",
              "    }\n",
              "\n",
              "    .dataframe thead th {\n",
              "        text-align: right;\n",
              "    }\n",
              "</style>\n",
              "<table border=\"1\" class=\"dataframe\">\n",
              "  <thead>\n",
              "    <tr style=\"text-align: right;\">\n",
              "      <th></th>\n",
              "      <th>LIFESTAGE</th>\n",
              "      <th>PREMIUM_CUSTOMER</th>\n",
              "      <th>LYLTY_CARD_NBR</th>\n",
              "      <th>STORE_NBR</th>\n",
              "      <th>TXN_ID</th>\n",
              "      <th>PROD_NBR</th>\n",
              "      <th>PROD_QTY</th>\n",
              "      <th>TOT_SALES</th>\n",
              "    </tr>\n",
              "  </thead>\n",
              "  <tbody>\n",
              "    <tr>\n",
              "      <th>0</th>\n",
              "      <td>MIDAGE SINGLES/COUPLES</td>\n",
              "      <td>Budget</td>\n",
              "      <td>4991</td>\n",
              "      <td>4991</td>\n",
              "      <td>4991</td>\n",
              "      <td>4991</td>\n",
              "      <td>9446</td>\n",
              "      <td>35439.80</td>\n",
              "    </tr>\n",
              "    <tr>\n",
              "      <th>1</th>\n",
              "      <td>MIDAGE SINGLES/COUPLES</td>\n",
              "      <td>Mainstream</td>\n",
              "      <td>11824</td>\n",
              "      <td>11824</td>\n",
              "      <td>11824</td>\n",
              "      <td>11824</td>\n",
              "      <td>22603</td>\n",
              "      <td>90659.85</td>\n",
              "    </tr>\n",
              "    <tr>\n",
              "      <th>2</th>\n",
              "      <td>MIDAGE SINGLES/COUPLES</td>\n",
              "      <td>Premium</td>\n",
              "      <td>8158</td>\n",
              "      <td>8158</td>\n",
              "      <td>8158</td>\n",
              "      <td>8158</td>\n",
              "      <td>15418</td>\n",
              "      <td>58270.65</td>\n",
              "    </tr>\n",
              "    <tr>\n",
              "      <th>3</th>\n",
              "      <td>NEW FAMILIES</td>\n",
              "      <td>Budget</td>\n",
              "      <td>2997</td>\n",
              "      <td>2997</td>\n",
              "      <td>2997</td>\n",
              "      <td>2997</td>\n",
              "      <td>5558</td>\n",
              "      <td>21908.95</td>\n",
              "    </tr>\n",
              "    <tr>\n",
              "      <th>4</th>\n",
              "      <td>NEW FAMILIES</td>\n",
              "      <td>Mainstream</td>\n",
              "      <td>2319</td>\n",
              "      <td>2319</td>\n",
              "      <td>2319</td>\n",
              "      <td>2319</td>\n",
              "      <td>4308</td>\n",
              "      <td>16997.40</td>\n",
              "    </tr>\n",
              "    <tr>\n",
              "      <th>5</th>\n",
              "      <td>NEW FAMILIES</td>\n",
              "      <td>Premium</td>\n",
              "      <td>1583</td>\n",
              "      <td>1583</td>\n",
              "      <td>1583</td>\n",
              "      <td>1583</td>\n",
              "      <td>2946</td>\n",
              "      <td>11474.60</td>\n",
              "    </tr>\n",
              "    <tr>\n",
              "      <th>6</th>\n",
              "      <td>OLDER FAMILIES</td>\n",
              "      <td>Budget</td>\n",
              "      <td>23015</td>\n",
              "      <td>23015</td>\n",
              "      <td>23015</td>\n",
              "      <td>23015</td>\n",
              "      <td>44782</td>\n",
              "      <td>167938.75</td>\n",
              "    </tr>\n",
              "    <tr>\n",
              "      <th>7</th>\n",
              "      <td>OLDER FAMILIES</td>\n",
              "      <td>Mainstream</td>\n",
              "      <td>14155</td>\n",
              "      <td>14155</td>\n",
              "      <td>14155</td>\n",
              "      <td>14155</td>\n",
              "      <td>27585</td>\n",
              "      <td>103189.05</td>\n",
              "    </tr>\n",
              "    <tr>\n",
              "      <th>8</th>\n",
              "      <td>OLDER FAMILIES</td>\n",
              "      <td>Premium</td>\n",
              "      <td>11123</td>\n",
              "      <td>11123</td>\n",
              "      <td>11123</td>\n",
              "      <td>11123</td>\n",
              "      <td>21648</td>\n",
              "      <td>80473.90</td>\n",
              "    </tr>\n",
              "    <tr>\n",
              "      <th>9</th>\n",
              "      <td>OLDER SINGLES/COUPLES</td>\n",
              "      <td>Budget</td>\n",
              "      <td>18312</td>\n",
              "      <td>18312</td>\n",
              "      <td>18312</td>\n",
              "      <td>18312</td>\n",
              "      <td>35040</td>\n",
              "      <td>136499.80</td>\n",
              "    </tr>\n",
              "    <tr>\n",
              "      <th>10</th>\n",
              "      <td>OLDER SINGLES/COUPLES</td>\n",
              "      <td>Mainstream</td>\n",
              "      <td>18223</td>\n",
              "      <td>18223</td>\n",
              "      <td>18223</td>\n",
              "      <td>18223</td>\n",
              "      <td>34812</td>\n",
              "      <td>133116.30</td>\n",
              "    </tr>\n",
              "    <tr>\n",
              "      <th>11</th>\n",
              "      <td>OLDER SINGLES/COUPLES</td>\n",
              "      <td>Premium</td>\n",
              "      <td>17671</td>\n",
              "      <td>17671</td>\n",
              "      <td>17671</td>\n",
              "      <td>17671</td>\n",
              "      <td>33827</td>\n",
              "      <td>132021.65</td>\n",
              "    </tr>\n",
              "    <tr>\n",
              "      <th>12</th>\n",
              "      <td>RETIREES</td>\n",
              "      <td>Budget</td>\n",
              "      <td>15140</td>\n",
              "      <td>15140</td>\n",
              "      <td>15140</td>\n",
              "      <td>15140</td>\n",
              "      <td>28651</td>\n",
              "      <td>112978.30</td>\n",
              "    </tr>\n",
              "    <tr>\n",
              "      <th>13</th>\n",
              "      <td>RETIREES</td>\n",
              "      <td>Mainstream</td>\n",
              "      <td>21328</td>\n",
              "      <td>21328</td>\n",
              "      <td>21328</td>\n",
              "      <td>21328</td>\n",
              "      <td>40262</td>\n",
              "      <td>155293.05</td>\n",
              "    </tr>\n",
              "    <tr>\n",
              "      <th>14</th>\n",
              "      <td>RETIREES</td>\n",
              "      <td>Premium</td>\n",
              "      <td>13029</td>\n",
              "      <td>13029</td>\n",
              "      <td>13029</td>\n",
              "      <td>13029</td>\n",
              "      <td>24754</td>\n",
              "      <td>97451.05</td>\n",
              "    </tr>\n",
              "    <tr>\n",
              "      <th>15</th>\n",
              "      <td>YOUNG FAMILIES</td>\n",
              "      <td>Budget</td>\n",
              "      <td>19011</td>\n",
              "      <td>19011</td>\n",
              "      <td>19011</td>\n",
              "      <td>19011</td>\n",
              "      <td>36894</td>\n",
              "      <td>139020.35</td>\n",
              "    </tr>\n",
              "    <tr>\n",
              "      <th>16</th>\n",
              "      <td>YOUNG FAMILIES</td>\n",
              "      <td>Mainstream</td>\n",
              "      <td>12815</td>\n",
              "      <td>12815</td>\n",
              "      <td>12815</td>\n",
              "      <td>12815</td>\n",
              "      <td>24866</td>\n",
              "      <td>92521.75</td>\n",
              "    </tr>\n",
              "    <tr>\n",
              "      <th>17</th>\n",
              "      <td>YOUNG FAMILIES</td>\n",
              "      <td>Premium</td>\n",
              "      <td>11499</td>\n",
              "      <td>11499</td>\n",
              "      <td>11499</td>\n",
              "      <td>11499</td>\n",
              "      <td>22278</td>\n",
              "      <td>83833.50</td>\n",
              "    </tr>\n",
              "    <tr>\n",
              "      <th>18</th>\n",
              "      <td>YOUNG SINGLES/COUPLES</td>\n",
              "      <td>Budget</td>\n",
              "      <td>9171</td>\n",
              "      <td>9171</td>\n",
              "      <td>9171</td>\n",
              "      <td>9171</td>\n",
              "      <td>16551</td>\n",
              "      <td>60961.60</td>\n",
              "    </tr>\n",
              "    <tr>\n",
              "      <th>19</th>\n",
              "      <td>YOUNG SINGLES/COUPLES</td>\n",
              "      <td>Mainstream</td>\n",
              "      <td>20807</td>\n",
              "      <td>20807</td>\n",
              "      <td>20807</td>\n",
              "      <td>20807</td>\n",
              "      <td>38547</td>\n",
              "      <td>157494.10</td>\n",
              "    </tr>\n",
              "    <tr>\n",
              "      <th>20</th>\n",
              "      <td>YOUNG SINGLES/COUPLES</td>\n",
              "      <td>Premium</td>\n",
              "      <td>6232</td>\n",
              "      <td>6232</td>\n",
              "      <td>6232</td>\n",
              "      <td>6232</td>\n",
              "      <td>11246</td>\n",
              "      <td>41514.60</td>\n",
              "    </tr>\n",
              "  </tbody>\n",
              "</table>\n",
              "</div>"
            ],
            "text/plain": [
              "                 LIFESTAGE PREMIUM_CUSTOMER  LYLTY_CARD_NBR  STORE_NBR  \\\n",
              "0   MIDAGE SINGLES/COUPLES           Budget            4991       4991   \n",
              "1   MIDAGE SINGLES/COUPLES       Mainstream           11824      11824   \n",
              "2   MIDAGE SINGLES/COUPLES          Premium            8158       8158   \n",
              "3             NEW FAMILIES           Budget            2997       2997   \n",
              "4             NEW FAMILIES       Mainstream            2319       2319   \n",
              "5             NEW FAMILIES          Premium            1583       1583   \n",
              "6           OLDER FAMILIES           Budget           23015      23015   \n",
              "7           OLDER FAMILIES       Mainstream           14155      14155   \n",
              "8           OLDER FAMILIES          Premium           11123      11123   \n",
              "9    OLDER SINGLES/COUPLES           Budget           18312      18312   \n",
              "10   OLDER SINGLES/COUPLES       Mainstream           18223      18223   \n",
              "11   OLDER SINGLES/COUPLES          Premium           17671      17671   \n",
              "12                RETIREES           Budget           15140      15140   \n",
              "13                RETIREES       Mainstream           21328      21328   \n",
              "14                RETIREES          Premium           13029      13029   \n",
              "15          YOUNG FAMILIES           Budget           19011      19011   \n",
              "16          YOUNG FAMILIES       Mainstream           12815      12815   \n",
              "17          YOUNG FAMILIES          Premium           11499      11499   \n",
              "18   YOUNG SINGLES/COUPLES           Budget            9171       9171   \n",
              "19   YOUNG SINGLES/COUPLES       Mainstream           20807      20807   \n",
              "20   YOUNG SINGLES/COUPLES          Premium            6232       6232   \n",
              "\n",
              "    TXN_ID  PROD_NBR  PROD_QTY  TOT_SALES  \n",
              "0     4991      4991      9446   35439.80  \n",
              "1    11824     11824     22603   90659.85  \n",
              "2     8158      8158     15418   58270.65  \n",
              "3     2997      2997      5558   21908.95  \n",
              "4     2319      2319      4308   16997.40  \n",
              "5     1583      1583      2946   11474.60  \n",
              "6    23015     23015     44782  167938.75  \n",
              "7    14155     14155     27585  103189.05  \n",
              "8    11123     11123     21648   80473.90  \n",
              "9    18312     18312     35040  136499.80  \n",
              "10   18223     18223     34812  133116.30  \n",
              "11   17671     17671     33827  132021.65  \n",
              "12   15140     15140     28651  112978.30  \n",
              "13   21328     21328     40262  155293.05  \n",
              "14   13029     13029     24754   97451.05  \n",
              "15   19011     19011     36894  139020.35  \n",
              "16   12815     12815     24866   92521.75  \n",
              "17   11499     11499     22278   83833.50  \n",
              "18    9171      9171     16551   60961.60  \n",
              "19   20807     20807     38547  157494.10  \n",
              "20    6232      6232     11246   41514.60  "
            ]
          },
          "execution_count": 73,
          "metadata": {},
          "output_type": "execute_result"
        }
      ],
      "source": [
        "df2"
      ]
    },
    {
      "cell_type": "code",
      "execution_count": null,
      "id": "00c9a25a",
      "metadata": {
        "id": "00c9a25a"
      },
      "outputs": [],
      "source": [
        "df2[\"average_sales\"]=(df2.TOT_SALES/df2.PROD_QTY).round(2)"
      ]
    },
    {
      "cell_type": "code",
      "execution_count": null,
      "id": "2c8f258d",
      "metadata": {
        "id": "2c8f258d"
      },
      "outputs": [],
      "source": [
        "df2[\"average_unit\"]=(df2.PROD_QTY/df2.TXN_ID).round(2)"
      ]
    },
    {
      "cell_type": "code",
      "execution_count": null,
      "id": "896ff445",
      "metadata": {
        "id": "896ff445",
        "outputId": "e650377b-6ed7-498d-b928-9c556c94cb71"
      },
      "outputs": [
        {
          "data": {
            "text/html": [
              "<div>\n",
              "<style scoped>\n",
              "    .dataframe tbody tr th:only-of-type {\n",
              "        vertical-align: middle;\n",
              "    }\n",
              "\n",
              "    .dataframe tbody tr th {\n",
              "        vertical-align: top;\n",
              "    }\n",
              "\n",
              "    .dataframe thead th {\n",
              "        text-align: right;\n",
              "    }\n",
              "</style>\n",
              "<table border=\"1\" class=\"dataframe\">\n",
              "  <thead>\n",
              "    <tr style=\"text-align: right;\">\n",
              "      <th></th>\n",
              "      <th>LIFESTAGE</th>\n",
              "      <th>PREMIUM_CUSTOMER</th>\n",
              "      <th>LYLTY_CARD_NBR</th>\n",
              "      <th>STORE_NBR</th>\n",
              "      <th>TXN_ID</th>\n",
              "      <th>PROD_NBR</th>\n",
              "      <th>PROD_QTY</th>\n",
              "      <th>TOT_SALES</th>\n",
              "      <th>average_sales</th>\n",
              "      <th>average_unit</th>\n",
              "    </tr>\n",
              "  </thead>\n",
              "  <tbody>\n",
              "    <tr>\n",
              "      <th>0</th>\n",
              "      <td>MIDAGE SINGLES/COUPLES</td>\n",
              "      <td>Budget</td>\n",
              "      <td>4991</td>\n",
              "      <td>4991</td>\n",
              "      <td>4991</td>\n",
              "      <td>4991</td>\n",
              "      <td>9446</td>\n",
              "      <td>35439.80</td>\n",
              "      <td>3.75</td>\n",
              "      <td>1.89</td>\n",
              "    </tr>\n",
              "    <tr>\n",
              "      <th>1</th>\n",
              "      <td>MIDAGE SINGLES/COUPLES</td>\n",
              "      <td>Mainstream</td>\n",
              "      <td>11824</td>\n",
              "      <td>11824</td>\n",
              "      <td>11824</td>\n",
              "      <td>11824</td>\n",
              "      <td>22603</td>\n",
              "      <td>90659.85</td>\n",
              "      <td>4.01</td>\n",
              "      <td>1.91</td>\n",
              "    </tr>\n",
              "    <tr>\n",
              "      <th>2</th>\n",
              "      <td>MIDAGE SINGLES/COUPLES</td>\n",
              "      <td>Premium</td>\n",
              "      <td>8158</td>\n",
              "      <td>8158</td>\n",
              "      <td>8158</td>\n",
              "      <td>8158</td>\n",
              "      <td>15418</td>\n",
              "      <td>58270.65</td>\n",
              "      <td>3.78</td>\n",
              "      <td>1.89</td>\n",
              "    </tr>\n",
              "    <tr>\n",
              "      <th>3</th>\n",
              "      <td>NEW FAMILIES</td>\n",
              "      <td>Budget</td>\n",
              "      <td>2997</td>\n",
              "      <td>2997</td>\n",
              "      <td>2997</td>\n",
              "      <td>2997</td>\n",
              "      <td>5558</td>\n",
              "      <td>21908.95</td>\n",
              "      <td>3.94</td>\n",
              "      <td>1.85</td>\n",
              "    </tr>\n",
              "    <tr>\n",
              "      <th>4</th>\n",
              "      <td>NEW FAMILIES</td>\n",
              "      <td>Mainstream</td>\n",
              "      <td>2319</td>\n",
              "      <td>2319</td>\n",
              "      <td>2319</td>\n",
              "      <td>2319</td>\n",
              "      <td>4308</td>\n",
              "      <td>16997.40</td>\n",
              "      <td>3.95</td>\n",
              "      <td>1.86</td>\n",
              "    </tr>\n",
              "    <tr>\n",
              "      <th>5</th>\n",
              "      <td>NEW FAMILIES</td>\n",
              "      <td>Premium</td>\n",
              "      <td>1583</td>\n",
              "      <td>1583</td>\n",
              "      <td>1583</td>\n",
              "      <td>1583</td>\n",
              "      <td>2946</td>\n",
              "      <td>11474.60</td>\n",
              "      <td>3.89</td>\n",
              "      <td>1.86</td>\n",
              "    </tr>\n",
              "    <tr>\n",
              "      <th>6</th>\n",
              "      <td>OLDER FAMILIES</td>\n",
              "      <td>Budget</td>\n",
              "      <td>23015</td>\n",
              "      <td>23015</td>\n",
              "      <td>23015</td>\n",
              "      <td>23015</td>\n",
              "      <td>44782</td>\n",
              "      <td>167938.75</td>\n",
              "      <td>3.75</td>\n",
              "      <td>1.95</td>\n",
              "    </tr>\n",
              "    <tr>\n",
              "      <th>7</th>\n",
              "      <td>OLDER FAMILIES</td>\n",
              "      <td>Mainstream</td>\n",
              "      <td>14155</td>\n",
              "      <td>14155</td>\n",
              "      <td>14155</td>\n",
              "      <td>14155</td>\n",
              "      <td>27585</td>\n",
              "      <td>103189.05</td>\n",
              "      <td>3.74</td>\n",
              "      <td>1.95</td>\n",
              "    </tr>\n",
              "    <tr>\n",
              "      <th>8</th>\n",
              "      <td>OLDER FAMILIES</td>\n",
              "      <td>Premium</td>\n",
              "      <td>11123</td>\n",
              "      <td>11123</td>\n",
              "      <td>11123</td>\n",
              "      <td>11123</td>\n",
              "      <td>21648</td>\n",
              "      <td>80473.90</td>\n",
              "      <td>3.72</td>\n",
              "      <td>1.95</td>\n",
              "    </tr>\n",
              "    <tr>\n",
              "      <th>9</th>\n",
              "      <td>OLDER SINGLES/COUPLES</td>\n",
              "      <td>Budget</td>\n",
              "      <td>18312</td>\n",
              "      <td>18312</td>\n",
              "      <td>18312</td>\n",
              "      <td>18312</td>\n",
              "      <td>35040</td>\n",
              "      <td>136499.80</td>\n",
              "      <td>3.90</td>\n",
              "      <td>1.91</td>\n",
              "    </tr>\n",
              "    <tr>\n",
              "      <th>10</th>\n",
              "      <td>OLDER SINGLES/COUPLES</td>\n",
              "      <td>Mainstream</td>\n",
              "      <td>18223</td>\n",
              "      <td>18223</td>\n",
              "      <td>18223</td>\n",
              "      <td>18223</td>\n",
              "      <td>34812</td>\n",
              "      <td>133116.30</td>\n",
              "      <td>3.82</td>\n",
              "      <td>1.91</td>\n",
              "    </tr>\n",
              "    <tr>\n",
              "      <th>11</th>\n",
              "      <td>OLDER SINGLES/COUPLES</td>\n",
              "      <td>Premium</td>\n",
              "      <td>17671</td>\n",
              "      <td>17671</td>\n",
              "      <td>17671</td>\n",
              "      <td>17671</td>\n",
              "      <td>33827</td>\n",
              "      <td>132021.65</td>\n",
              "      <td>3.90</td>\n",
              "      <td>1.91</td>\n",
              "    </tr>\n",
              "    <tr>\n",
              "      <th>12</th>\n",
              "      <td>RETIREES</td>\n",
              "      <td>Budget</td>\n",
              "      <td>15140</td>\n",
              "      <td>15140</td>\n",
              "      <td>15140</td>\n",
              "      <td>15140</td>\n",
              "      <td>28651</td>\n",
              "      <td>112978.30</td>\n",
              "      <td>3.94</td>\n",
              "      <td>1.89</td>\n",
              "    </tr>\n",
              "    <tr>\n",
              "      <th>13</th>\n",
              "      <td>RETIREES</td>\n",
              "      <td>Mainstream</td>\n",
              "      <td>21328</td>\n",
              "      <td>21328</td>\n",
              "      <td>21328</td>\n",
              "      <td>21328</td>\n",
              "      <td>40262</td>\n",
              "      <td>155293.05</td>\n",
              "      <td>3.86</td>\n",
              "      <td>1.89</td>\n",
              "    </tr>\n",
              "    <tr>\n",
              "      <th>14</th>\n",
              "      <td>RETIREES</td>\n",
              "      <td>Premium</td>\n",
              "      <td>13029</td>\n",
              "      <td>13029</td>\n",
              "      <td>13029</td>\n",
              "      <td>13029</td>\n",
              "      <td>24754</td>\n",
              "      <td>97451.05</td>\n",
              "      <td>3.94</td>\n",
              "      <td>1.90</td>\n",
              "    </tr>\n",
              "    <tr>\n",
              "      <th>15</th>\n",
              "      <td>YOUNG FAMILIES</td>\n",
              "      <td>Budget</td>\n",
              "      <td>19011</td>\n",
              "      <td>19011</td>\n",
              "      <td>19011</td>\n",
              "      <td>19011</td>\n",
              "      <td>36894</td>\n",
              "      <td>139020.35</td>\n",
              "      <td>3.77</td>\n",
              "      <td>1.94</td>\n",
              "    </tr>\n",
              "    <tr>\n",
              "      <th>16</th>\n",
              "      <td>YOUNG FAMILIES</td>\n",
              "      <td>Mainstream</td>\n",
              "      <td>12815</td>\n",
              "      <td>12815</td>\n",
              "      <td>12815</td>\n",
              "      <td>12815</td>\n",
              "      <td>24866</td>\n",
              "      <td>92521.75</td>\n",
              "      <td>3.72</td>\n",
              "      <td>1.94</td>\n",
              "    </tr>\n",
              "    <tr>\n",
              "      <th>17</th>\n",
              "      <td>YOUNG FAMILIES</td>\n",
              "      <td>Premium</td>\n",
              "      <td>11499</td>\n",
              "      <td>11499</td>\n",
              "      <td>11499</td>\n",
              "      <td>11499</td>\n",
              "      <td>22278</td>\n",
              "      <td>83833.50</td>\n",
              "      <td>3.76</td>\n",
              "      <td>1.94</td>\n",
              "    </tr>\n",
              "    <tr>\n",
              "      <th>18</th>\n",
              "      <td>YOUNG SINGLES/COUPLES</td>\n",
              "      <td>Budget</td>\n",
              "      <td>9171</td>\n",
              "      <td>9171</td>\n",
              "      <td>9171</td>\n",
              "      <td>9171</td>\n",
              "      <td>16551</td>\n",
              "      <td>60961.60</td>\n",
              "      <td>3.68</td>\n",
              "      <td>1.80</td>\n",
              "    </tr>\n",
              "    <tr>\n",
              "      <th>19</th>\n",
              "      <td>YOUNG SINGLES/COUPLES</td>\n",
              "      <td>Mainstream</td>\n",
              "      <td>20807</td>\n",
              "      <td>20807</td>\n",
              "      <td>20807</td>\n",
              "      <td>20807</td>\n",
              "      <td>38547</td>\n",
              "      <td>157494.10</td>\n",
              "      <td>4.09</td>\n",
              "      <td>1.85</td>\n",
              "    </tr>\n",
              "    <tr>\n",
              "      <th>20</th>\n",
              "      <td>YOUNG SINGLES/COUPLES</td>\n",
              "      <td>Premium</td>\n",
              "      <td>6232</td>\n",
              "      <td>6232</td>\n",
              "      <td>6232</td>\n",
              "      <td>6232</td>\n",
              "      <td>11246</td>\n",
              "      <td>41514.60</td>\n",
              "      <td>3.69</td>\n",
              "      <td>1.80</td>\n",
              "    </tr>\n",
              "  </tbody>\n",
              "</table>\n",
              "</div>"
            ],
            "text/plain": [
              "                 LIFESTAGE PREMIUM_CUSTOMER  LYLTY_CARD_NBR  STORE_NBR  \\\n",
              "0   MIDAGE SINGLES/COUPLES           Budget            4991       4991   \n",
              "1   MIDAGE SINGLES/COUPLES       Mainstream           11824      11824   \n",
              "2   MIDAGE SINGLES/COUPLES          Premium            8158       8158   \n",
              "3             NEW FAMILIES           Budget            2997       2997   \n",
              "4             NEW FAMILIES       Mainstream            2319       2319   \n",
              "5             NEW FAMILIES          Premium            1583       1583   \n",
              "6           OLDER FAMILIES           Budget           23015      23015   \n",
              "7           OLDER FAMILIES       Mainstream           14155      14155   \n",
              "8           OLDER FAMILIES          Premium           11123      11123   \n",
              "9    OLDER SINGLES/COUPLES           Budget           18312      18312   \n",
              "10   OLDER SINGLES/COUPLES       Mainstream           18223      18223   \n",
              "11   OLDER SINGLES/COUPLES          Premium           17671      17671   \n",
              "12                RETIREES           Budget           15140      15140   \n",
              "13                RETIREES       Mainstream           21328      21328   \n",
              "14                RETIREES          Premium           13029      13029   \n",
              "15          YOUNG FAMILIES           Budget           19011      19011   \n",
              "16          YOUNG FAMILIES       Mainstream           12815      12815   \n",
              "17          YOUNG FAMILIES          Premium           11499      11499   \n",
              "18   YOUNG SINGLES/COUPLES           Budget            9171       9171   \n",
              "19   YOUNG SINGLES/COUPLES       Mainstream           20807      20807   \n",
              "20   YOUNG SINGLES/COUPLES          Premium            6232       6232   \n",
              "\n",
              "    TXN_ID  PROD_NBR  PROD_QTY  TOT_SALES  average_sales  average_unit  \n",
              "0     4991      4991      9446   35439.80           3.75          1.89  \n",
              "1    11824     11824     22603   90659.85           4.01          1.91  \n",
              "2     8158      8158     15418   58270.65           3.78          1.89  \n",
              "3     2997      2997      5558   21908.95           3.94          1.85  \n",
              "4     2319      2319      4308   16997.40           3.95          1.86  \n",
              "5     1583      1583      2946   11474.60           3.89          1.86  \n",
              "6    23015     23015     44782  167938.75           3.75          1.95  \n",
              "7    14155     14155     27585  103189.05           3.74          1.95  \n",
              "8    11123     11123     21648   80473.90           3.72          1.95  \n",
              "9    18312     18312     35040  136499.80           3.90          1.91  \n",
              "10   18223     18223     34812  133116.30           3.82          1.91  \n",
              "11   17671     17671     33827  132021.65           3.90          1.91  \n",
              "12   15140     15140     28651  112978.30           3.94          1.89  \n",
              "13   21328     21328     40262  155293.05           3.86          1.89  \n",
              "14   13029     13029     24754   97451.05           3.94          1.90  \n",
              "15   19011     19011     36894  139020.35           3.77          1.94  \n",
              "16   12815     12815     24866   92521.75           3.72          1.94  \n",
              "17   11499     11499     22278   83833.50           3.76          1.94  \n",
              "18    9171      9171     16551   60961.60           3.68          1.80  \n",
              "19   20807     20807     38547  157494.10           4.09          1.85  \n",
              "20    6232      6232     11246   41514.60           3.69          1.80  "
            ]
          },
          "execution_count": 76,
          "metadata": {},
          "output_type": "execute_result"
        }
      ],
      "source": [
        "df2"
      ]
    },
    {
      "cell_type": "code",
      "execution_count": null,
      "id": "a0b7237c",
      "metadata": {
        "id": "a0b7237c"
      },
      "outputs": [],
      "source": [
        "df3=df2.drop(columns=[\"LYLTY_CARD_NBR\",\"STORE_NBR\",\"PROD_NBR\"],axis=1)\n"
      ]
    },
    {
      "cell_type": "code",
      "execution_count": null,
      "id": "7c4482e4",
      "metadata": {
        "id": "7c4482e4"
      },
      "outputs": [],
      "source": [
        "df3.rename(columns={\"TXN_ID\":\"TXN_ID_COUNT\"},inplace=True)"
      ]
    },
    {
      "cell_type": "code",
      "execution_count": null,
      "id": "a40ecf14",
      "metadata": {
        "id": "a40ecf14",
        "outputId": "bb4f6759-e33c-45b6-8499-65cfbbffd254"
      },
      "outputs": [
        {
          "data": {
            "text/html": [
              "<div>\n",
              "<style scoped>\n",
              "    .dataframe tbody tr th:only-of-type {\n",
              "        vertical-align: middle;\n",
              "    }\n",
              "\n",
              "    .dataframe tbody tr th {\n",
              "        vertical-align: top;\n",
              "    }\n",
              "\n",
              "    .dataframe thead th {\n",
              "        text-align: right;\n",
              "    }\n",
              "</style>\n",
              "<table border=\"1\" class=\"dataframe\">\n",
              "  <thead>\n",
              "    <tr style=\"text-align: right;\">\n",
              "      <th></th>\n",
              "      <th>LIFESTAGE</th>\n",
              "      <th>PREMIUM_CUSTOMER</th>\n",
              "      <th>TXN_ID_COUNT</th>\n",
              "      <th>PROD_QTY</th>\n",
              "      <th>TOT_SALES</th>\n",
              "      <th>average_sales</th>\n",
              "      <th>average_unit</th>\n",
              "    </tr>\n",
              "  </thead>\n",
              "  <tbody>\n",
              "    <tr>\n",
              "      <th>0</th>\n",
              "      <td>MIDAGE SINGLES/COUPLES</td>\n",
              "      <td>Budget</td>\n",
              "      <td>4991</td>\n",
              "      <td>9446</td>\n",
              "      <td>35439.80</td>\n",
              "      <td>3.75</td>\n",
              "      <td>1.89</td>\n",
              "    </tr>\n",
              "    <tr>\n",
              "      <th>1</th>\n",
              "      <td>MIDAGE SINGLES/COUPLES</td>\n",
              "      <td>Mainstream</td>\n",
              "      <td>11824</td>\n",
              "      <td>22603</td>\n",
              "      <td>90659.85</td>\n",
              "      <td>4.01</td>\n",
              "      <td>1.91</td>\n",
              "    </tr>\n",
              "    <tr>\n",
              "      <th>2</th>\n",
              "      <td>MIDAGE SINGLES/COUPLES</td>\n",
              "      <td>Premium</td>\n",
              "      <td>8158</td>\n",
              "      <td>15418</td>\n",
              "      <td>58270.65</td>\n",
              "      <td>3.78</td>\n",
              "      <td>1.89</td>\n",
              "    </tr>\n",
              "    <tr>\n",
              "      <th>3</th>\n",
              "      <td>NEW FAMILIES</td>\n",
              "      <td>Budget</td>\n",
              "      <td>2997</td>\n",
              "      <td>5558</td>\n",
              "      <td>21908.95</td>\n",
              "      <td>3.94</td>\n",
              "      <td>1.85</td>\n",
              "    </tr>\n",
              "    <tr>\n",
              "      <th>4</th>\n",
              "      <td>NEW FAMILIES</td>\n",
              "      <td>Mainstream</td>\n",
              "      <td>2319</td>\n",
              "      <td>4308</td>\n",
              "      <td>16997.40</td>\n",
              "      <td>3.95</td>\n",
              "      <td>1.86</td>\n",
              "    </tr>\n",
              "  </tbody>\n",
              "</table>\n",
              "</div>"
            ],
            "text/plain": [
              "                LIFESTAGE PREMIUM_CUSTOMER  TXN_ID_COUNT  PROD_QTY  TOT_SALES  \\\n",
              "0  MIDAGE SINGLES/COUPLES           Budget          4991      9446   35439.80   \n",
              "1  MIDAGE SINGLES/COUPLES       Mainstream         11824     22603   90659.85   \n",
              "2  MIDAGE SINGLES/COUPLES          Premium          8158     15418   58270.65   \n",
              "3            NEW FAMILIES           Budget          2997      5558   21908.95   \n",
              "4            NEW FAMILIES       Mainstream          2319      4308   16997.40   \n",
              "\n",
              "   average_sales  average_unit  \n",
              "0           3.75          1.89  \n",
              "1           4.01          1.91  \n",
              "2           3.78          1.89  \n",
              "3           3.94          1.85  \n",
              "4           3.95          1.86  "
            ]
          },
          "execution_count": 79,
          "metadata": {},
          "output_type": "execute_result"
        }
      ],
      "source": [
        "df3.head()"
      ]
    },
    {
      "cell_type": "code",
      "execution_count": null,
      "id": "daf25cda",
      "metadata": {
        "id": "daf25cda",
        "outputId": "e0a1b25b-ac14-4eb0-9e8e-25e03409fde9"
      },
      "outputs": [
        {
          "data": {
            "text/html": [
              "<div>\n",
              "<style scoped>\n",
              "    .dataframe tbody tr th:only-of-type {\n",
              "        vertical-align: middle;\n",
              "    }\n",
              "\n",
              "    .dataframe tbody tr th {\n",
              "        vertical-align: top;\n",
              "    }\n",
              "\n",
              "    .dataframe thead th {\n",
              "        text-align: right;\n",
              "    }\n",
              "</style>\n",
              "<table border=\"1\" class=\"dataframe\">\n",
              "  <thead>\n",
              "    <tr style=\"text-align: right;\">\n",
              "      <th></th>\n",
              "      <th>LIFESTAGE</th>\n",
              "      <th>PREMIUM_CUSTOMER</th>\n",
              "      <th>TXN_ID_COUNT</th>\n",
              "      <th>PROD_QTY</th>\n",
              "      <th>TOT_SALES</th>\n",
              "      <th>average_sales</th>\n",
              "      <th>average_unit</th>\n",
              "    </tr>\n",
              "  </thead>\n",
              "  <tbody>\n",
              "    <tr>\n",
              "      <th>19</th>\n",
              "      <td>YOUNG SINGLES/COUPLES</td>\n",
              "      <td>Mainstream</td>\n",
              "      <td>20807</td>\n",
              "      <td>38547</td>\n",
              "      <td>157494.10</td>\n",
              "      <td>4.09</td>\n",
              "      <td>1.85</td>\n",
              "    </tr>\n",
              "    <tr>\n",
              "      <th>1</th>\n",
              "      <td>MIDAGE SINGLES/COUPLES</td>\n",
              "      <td>Mainstream</td>\n",
              "      <td>11824</td>\n",
              "      <td>22603</td>\n",
              "      <td>90659.85</td>\n",
              "      <td>4.01</td>\n",
              "      <td>1.91</td>\n",
              "    </tr>\n",
              "    <tr>\n",
              "      <th>4</th>\n",
              "      <td>NEW FAMILIES</td>\n",
              "      <td>Mainstream</td>\n",
              "      <td>2319</td>\n",
              "      <td>4308</td>\n",
              "      <td>16997.40</td>\n",
              "      <td>3.95</td>\n",
              "      <td>1.86</td>\n",
              "    </tr>\n",
              "    <tr>\n",
              "      <th>14</th>\n",
              "      <td>RETIREES</td>\n",
              "      <td>Premium</td>\n",
              "      <td>13029</td>\n",
              "      <td>24754</td>\n",
              "      <td>97451.05</td>\n",
              "      <td>3.94</td>\n",
              "      <td>1.90</td>\n",
              "    </tr>\n",
              "    <tr>\n",
              "      <th>3</th>\n",
              "      <td>NEW FAMILIES</td>\n",
              "      <td>Budget</td>\n",
              "      <td>2997</td>\n",
              "      <td>5558</td>\n",
              "      <td>21908.95</td>\n",
              "      <td>3.94</td>\n",
              "      <td>1.85</td>\n",
              "    </tr>\n",
              "  </tbody>\n",
              "</table>\n",
              "</div>"
            ],
            "text/plain": [
              "                 LIFESTAGE PREMIUM_CUSTOMER  TXN_ID_COUNT  PROD_QTY  \\\n",
              "19   YOUNG SINGLES/COUPLES       Mainstream         20807     38547   \n",
              "1   MIDAGE SINGLES/COUPLES       Mainstream         11824     22603   \n",
              "4             NEW FAMILIES       Mainstream          2319      4308   \n",
              "14                RETIREES          Premium         13029     24754   \n",
              "3             NEW FAMILIES           Budget          2997      5558   \n",
              "\n",
              "    TOT_SALES  average_sales  average_unit  \n",
              "19  157494.10           4.09          1.85  \n",
              "1    90659.85           4.01          1.91  \n",
              "4    16997.40           3.95          1.86  \n",
              "14   97451.05           3.94          1.90  \n",
              "3    21908.95           3.94          1.85  "
            ]
          },
          "execution_count": 80,
          "metadata": {},
          "output_type": "execute_result"
        }
      ],
      "source": [
        "df3.sort_values(by=\"average_sales\",ascending=False)[:5]"
      ]
    },
    {
      "cell_type": "code",
      "execution_count": null,
      "id": "b6810ea8",
      "metadata": {
        "id": "b6810ea8",
        "outputId": "d357ba40-b00d-477c-d854-11a2d0e36cdf"
      },
      "outputs": [
        {
          "data": {
            "text/html": [
              "<div>\n",
              "<style scoped>\n",
              "    .dataframe tbody tr th:only-of-type {\n",
              "        vertical-align: middle;\n",
              "    }\n",
              "\n",
              "    .dataframe tbody tr th {\n",
              "        vertical-align: top;\n",
              "    }\n",
              "\n",
              "    .dataframe thead th {\n",
              "        text-align: right;\n",
              "    }\n",
              "</style>\n",
              "<table border=\"1\" class=\"dataframe\">\n",
              "  <thead>\n",
              "    <tr style=\"text-align: right;\">\n",
              "      <th></th>\n",
              "      <th>LIFESTAGE</th>\n",
              "      <th>PREMIUM_CUSTOMER</th>\n",
              "      <th>TXN_ID_COUNT</th>\n",
              "      <th>PROD_QTY</th>\n",
              "      <th>TOT_SALES</th>\n",
              "      <th>average_sales</th>\n",
              "      <th>average_unit</th>\n",
              "    </tr>\n",
              "  </thead>\n",
              "  <tbody>\n",
              "    <tr>\n",
              "      <th>6</th>\n",
              "      <td>OLDER FAMILIES</td>\n",
              "      <td>Budget</td>\n",
              "      <td>23015</td>\n",
              "      <td>44782</td>\n",
              "      <td>167938.75</td>\n",
              "      <td>3.75</td>\n",
              "      <td>1.95</td>\n",
              "    </tr>\n",
              "    <tr>\n",
              "      <th>7</th>\n",
              "      <td>OLDER FAMILIES</td>\n",
              "      <td>Mainstream</td>\n",
              "      <td>14155</td>\n",
              "      <td>27585</td>\n",
              "      <td>103189.05</td>\n",
              "      <td>3.74</td>\n",
              "      <td>1.95</td>\n",
              "    </tr>\n",
              "    <tr>\n",
              "      <th>8</th>\n",
              "      <td>OLDER FAMILIES</td>\n",
              "      <td>Premium</td>\n",
              "      <td>11123</td>\n",
              "      <td>21648</td>\n",
              "      <td>80473.90</td>\n",
              "      <td>3.72</td>\n",
              "      <td>1.95</td>\n",
              "    </tr>\n",
              "    <tr>\n",
              "      <th>17</th>\n",
              "      <td>YOUNG FAMILIES</td>\n",
              "      <td>Premium</td>\n",
              "      <td>11499</td>\n",
              "      <td>22278</td>\n",
              "      <td>83833.50</td>\n",
              "      <td>3.76</td>\n",
              "      <td>1.94</td>\n",
              "    </tr>\n",
              "    <tr>\n",
              "      <th>16</th>\n",
              "      <td>YOUNG FAMILIES</td>\n",
              "      <td>Mainstream</td>\n",
              "      <td>12815</td>\n",
              "      <td>24866</td>\n",
              "      <td>92521.75</td>\n",
              "      <td>3.72</td>\n",
              "      <td>1.94</td>\n",
              "    </tr>\n",
              "    <tr>\n",
              "      <th>15</th>\n",
              "      <td>YOUNG FAMILIES</td>\n",
              "      <td>Budget</td>\n",
              "      <td>19011</td>\n",
              "      <td>36894</td>\n",
              "      <td>139020.35</td>\n",
              "      <td>3.77</td>\n",
              "      <td>1.94</td>\n",
              "    </tr>\n",
              "  </tbody>\n",
              "</table>\n",
              "</div>"
            ],
            "text/plain": [
              "         LIFESTAGE PREMIUM_CUSTOMER  TXN_ID_COUNT  PROD_QTY  TOT_SALES  \\\n",
              "6   OLDER FAMILIES           Budget         23015     44782  167938.75   \n",
              "7   OLDER FAMILIES       Mainstream         14155     27585  103189.05   \n",
              "8   OLDER FAMILIES          Premium         11123     21648   80473.90   \n",
              "17  YOUNG FAMILIES          Premium         11499     22278   83833.50   \n",
              "16  YOUNG FAMILIES       Mainstream         12815     24866   92521.75   \n",
              "15  YOUNG FAMILIES           Budget         19011     36894  139020.35   \n",
              "\n",
              "    average_sales  average_unit  \n",
              "6            3.75          1.95  \n",
              "7            3.74          1.95  \n",
              "8            3.72          1.95  \n",
              "17           3.76          1.94  \n",
              "16           3.72          1.94  \n",
              "15           3.77          1.94  "
            ]
          },
          "execution_count": 81,
          "metadata": {},
          "output_type": "execute_result"
        }
      ],
      "source": [
        "df3.sort_values(by=\"average_unit\",ascending=False)[:6]"
      ]
    },
    {
      "cell_type": "code",
      "execution_count": null,
      "id": "1b98553b",
      "metadata": {
        "id": "1b98553b",
        "outputId": "18d72c21-7eae-44c4-806b-bf62efbc8704"
      },
      "outputs": [
        {
          "data": {
            "image/png": "[encoded data removed]",
            "text/plain": [
              "<Figure size 720x360 with 1 Axes>"
            ]
          },
          "metadata": {
            "needs_background": "light"
          },
          "output_type": "display_data"
        }
      ],
      "source": [
        "plt.figure(figsize=[10,5])\n",
        "plt.title(\"Average no. of chips per family\",fontsize=20)\n",
        "sns.lineplot(x=\"LIFESTAGE\",y=\"average_unit\",data=df3)\n",
        "plt.xticks(rotation=300)\n",
        "plt.grid()\n"
      ]
    },
    {
      "cell_type": "markdown",
      "id": "58d5ef7b",
      "metadata": {
        "id": "58d5ef7b"
      },
      "source": [
        "### From Above we can Say OLDER FAMILIES & \tYOUNG FAMILIES\t buys more chips"
      ]
    },
    {
      "cell_type": "markdown",
      "id": "4fbadf31",
      "metadata": {
        "id": "4fbadf31"
      },
      "source": [
        "# "
      ]
    },
    {
      "cell_type": "code",
      "execution_count": null,
      "id": "601c255c",
      "metadata": {
        "id": "601c255c",
        "outputId": "e5f8a5dd-3920-4aab-c985-0745dc0afa70"
      },
      "outputs": [
        {
          "data": {
            "image/png": "[encoded data removed]",
            "text/plain": [
              "<Figure size 720x360 with 1 Axes>"
            ]
          },
          "metadata": {
            "needs_background": "light"
          },
          "output_type": "display_data"
        }
      ],
      "source": [
        "plt.figure(figsize=[10,5])\n",
        "sns.lineplot(x=\"PREMIUM_CUSTOMER\",y=\"average_unit\",data=df3)\n",
        "plt.grid()"
      ]
    },
    {
      "cell_type": "code",
      "execution_count": null,
      "id": "add569ea",
      "metadata": {
        "id": "add569ea",
        "outputId": "4d662a3d-ff15-4e5e-b90b-28af75bf6bf7"
      },
      "outputs": [
        {
          "data": {
            "image/png": "[encoded data removed]",
            "text/plain": [
              "<Figure size 864x360 with 1 Axes>"
            ]
          },
          "metadata": {
            "needs_background": "light"
          },
          "output_type": "display_data"
        }
      ],
      "source": [
        "plt.figure(figsize=[12,5])\n",
        "plt.title(\"Average sales\",fontsize=15)\n",
        "sns.lineplot(x=\"LIFESTAGE\",y=\"average_sales\",data=df3,hue=\"PREMIUM_CUSTOMER\",palette=\"CMRmap_r\")\n",
        "plt.xticks(rotation=300)\n",
        "\n",
        "plt.grid()\n"
      ]
    },
    {
      "cell_type": "markdown",
      "id": "4e5ae9e1",
      "metadata": {
        "id": "4e5ae9e1"
      },
      "source": [
        "## Mainstream midage and young singles and couples are more willing to pay more per packet of chips compared to their budget and premium counterparts."
      ]
    },
    {
      "cell_type": "markdown",
      "id": "2239376e",
      "metadata": {
        "id": "2239376e"
      },
      "source": [
        "# "
      ]
    },
    {
      "cell_type": "code",
      "execution_count": null,
      "id": "1b11bd5c",
      "metadata": {
        "scrolled": false,
        "id": "1b11bd5c",
        "outputId": "19fe7ba7-f3b3-462a-8cc1-e4512c902c94"
      },
      "outputs": [
        {
          "data": {
            "text/html": [
              "<div>\n",
              "<style scoped>\n",
              "    .dataframe tbody tr th:only-of-type {\n",
              "        vertical-align: middle;\n",
              "    }\n",
              "\n",
              "    .dataframe tbody tr th {\n",
              "        vertical-align: top;\n",
              "    }\n",
              "\n",
              "    .dataframe thead th {\n",
              "        text-align: right;\n",
              "    }\n",
              "</style>\n",
              "<table border=\"1\" class=\"dataframe\">\n",
              "  <thead>\n",
              "    <tr style=\"text-align: right;\">\n",
              "      <th></th>\n",
              "      <th>LIFESTAGE</th>\n",
              "      <th>PREMIUM_CUSTOMER</th>\n",
              "      <th>TXN_ID_COUNT</th>\n",
              "      <th>PROD_QTY</th>\n",
              "      <th>TOT_SALES</th>\n",
              "      <th>average_sales</th>\n",
              "      <th>average_unit</th>\n",
              "    </tr>\n",
              "  </thead>\n",
              "  <tbody>\n",
              "    <tr>\n",
              "      <th>20</th>\n",
              "      <td>YOUNG SINGLES/COUPLES</td>\n",
              "      <td>Premium</td>\n",
              "      <td>6232</td>\n",
              "      <td>11246</td>\n",
              "      <td>41514.60</td>\n",
              "      <td>3.69</td>\n",
              "      <td>1.80</td>\n",
              "    </tr>\n",
              "    <tr>\n",
              "      <th>19</th>\n",
              "      <td>YOUNG SINGLES/COUPLES</td>\n",
              "      <td>Mainstream</td>\n",
              "      <td>20807</td>\n",
              "      <td>38547</td>\n",
              "      <td>157494.10</td>\n",
              "      <td>4.09</td>\n",
              "      <td>1.85</td>\n",
              "    </tr>\n",
              "    <tr>\n",
              "      <th>18</th>\n",
              "      <td>YOUNG SINGLES/COUPLES</td>\n",
              "      <td>Budget</td>\n",
              "      <td>9171</td>\n",
              "      <td>16551</td>\n",
              "      <td>60961.60</td>\n",
              "      <td>3.68</td>\n",
              "      <td>1.80</td>\n",
              "    </tr>\n",
              "    <tr>\n",
              "      <th>17</th>\n",
              "      <td>YOUNG FAMILIES</td>\n",
              "      <td>Premium</td>\n",
              "      <td>11499</td>\n",
              "      <td>22278</td>\n",
              "      <td>83833.50</td>\n",
              "      <td>3.76</td>\n",
              "      <td>1.94</td>\n",
              "    </tr>\n",
              "    <tr>\n",
              "      <th>16</th>\n",
              "      <td>YOUNG FAMILIES</td>\n",
              "      <td>Mainstream</td>\n",
              "      <td>12815</td>\n",
              "      <td>24866</td>\n",
              "      <td>92521.75</td>\n",
              "      <td>3.72</td>\n",
              "      <td>1.94</td>\n",
              "    </tr>\n",
              "    <tr>\n",
              "      <th>15</th>\n",
              "      <td>YOUNG FAMILIES</td>\n",
              "      <td>Budget</td>\n",
              "      <td>19011</td>\n",
              "      <td>36894</td>\n",
              "      <td>139020.35</td>\n",
              "      <td>3.77</td>\n",
              "      <td>1.94</td>\n",
              "    </tr>\n",
              "    <tr>\n",
              "      <th>14</th>\n",
              "      <td>RETIREES</td>\n",
              "      <td>Premium</td>\n",
              "      <td>13029</td>\n",
              "      <td>24754</td>\n",
              "      <td>97451.05</td>\n",
              "      <td>3.94</td>\n",
              "      <td>1.90</td>\n",
              "    </tr>\n",
              "    <tr>\n",
              "      <th>13</th>\n",
              "      <td>RETIREES</td>\n",
              "      <td>Mainstream</td>\n",
              "      <td>21328</td>\n",
              "      <td>40262</td>\n",
              "      <td>155293.05</td>\n",
              "      <td>3.86</td>\n",
              "      <td>1.89</td>\n",
              "    </tr>\n",
              "    <tr>\n",
              "      <th>12</th>\n",
              "      <td>RETIREES</td>\n",
              "      <td>Budget</td>\n",
              "      <td>15140</td>\n",
              "      <td>28651</td>\n",
              "      <td>112978.30</td>\n",
              "      <td>3.94</td>\n",
              "      <td>1.89</td>\n",
              "    </tr>\n",
              "    <tr>\n",
              "      <th>11</th>\n",
              "      <td>OLDER SINGLES/COUPLES</td>\n",
              "      <td>Premium</td>\n",
              "      <td>17671</td>\n",
              "      <td>33827</td>\n",
              "      <td>132021.65</td>\n",
              "      <td>3.90</td>\n",
              "      <td>1.91</td>\n",
              "    </tr>\n",
              "    <tr>\n",
              "      <th>10</th>\n",
              "      <td>OLDER SINGLES/COUPLES</td>\n",
              "      <td>Mainstream</td>\n",
              "      <td>18223</td>\n",
              "      <td>34812</td>\n",
              "      <td>133116.30</td>\n",
              "      <td>3.82</td>\n",
              "      <td>1.91</td>\n",
              "    </tr>\n",
              "    <tr>\n",
              "      <th>9</th>\n",
              "      <td>OLDER SINGLES/COUPLES</td>\n",
              "      <td>Budget</td>\n",
              "      <td>18312</td>\n",
              "      <td>35040</td>\n",
              "      <td>136499.80</td>\n",
              "      <td>3.90</td>\n",
              "      <td>1.91</td>\n",
              "    </tr>\n",
              "    <tr>\n",
              "      <th>8</th>\n",
              "      <td>OLDER FAMILIES</td>\n",
              "      <td>Premium</td>\n",
              "      <td>11123</td>\n",
              "      <td>21648</td>\n",
              "      <td>80473.90</td>\n",
              "      <td>3.72</td>\n",
              "      <td>1.95</td>\n",
              "    </tr>\n",
              "    <tr>\n",
              "      <th>7</th>\n",
              "      <td>OLDER FAMILIES</td>\n",
              "      <td>Mainstream</td>\n",
              "      <td>14155</td>\n",
              "      <td>27585</td>\n",
              "      <td>103189.05</td>\n",
              "      <td>3.74</td>\n",
              "      <td>1.95</td>\n",
              "    </tr>\n",
              "    <tr>\n",
              "      <th>6</th>\n",
              "      <td>OLDER FAMILIES</td>\n",
              "      <td>Budget</td>\n",
              "      <td>23015</td>\n",
              "      <td>44782</td>\n",
              "      <td>167938.75</td>\n",
              "      <td>3.75</td>\n",
              "      <td>1.95</td>\n",
              "    </tr>\n",
              "    <tr>\n",
              "      <th>5</th>\n",
              "      <td>NEW FAMILIES</td>\n",
              "      <td>Premium</td>\n",
              "      <td>1583</td>\n",
              "      <td>2946</td>\n",
              "      <td>11474.60</td>\n",
              "      <td>3.89</td>\n",
              "      <td>1.86</td>\n",
              "    </tr>\n",
              "    <tr>\n",
              "      <th>4</th>\n",
              "      <td>NEW FAMILIES</td>\n",
              "      <td>Mainstream</td>\n",
              "      <td>2319</td>\n",
              "      <td>4308</td>\n",
              "      <td>16997.40</td>\n",
              "      <td>3.95</td>\n",
              "      <td>1.86</td>\n",
              "    </tr>\n",
              "    <tr>\n",
              "      <th>3</th>\n",
              "      <td>NEW FAMILIES</td>\n",
              "      <td>Budget</td>\n",
              "      <td>2997</td>\n",
              "      <td>5558</td>\n",
              "      <td>21908.95</td>\n",
              "      <td>3.94</td>\n",
              "      <td>1.85</td>\n",
              "    </tr>\n",
              "    <tr>\n",
              "      <th>1</th>\n",
              "      <td>MIDAGE SINGLES/COUPLES</td>\n",
              "      <td>Mainstream</td>\n",
              "      <td>11824</td>\n",
              "      <td>22603</td>\n",
              "      <td>90659.85</td>\n",
              "      <td>4.01</td>\n",
              "      <td>1.91</td>\n",
              "    </tr>\n",
              "    <tr>\n",
              "      <th>2</th>\n",
              "      <td>MIDAGE SINGLES/COUPLES</td>\n",
              "      <td>Premium</td>\n",
              "      <td>8158</td>\n",
              "      <td>15418</td>\n",
              "      <td>58270.65</td>\n",
              "      <td>3.78</td>\n",
              "      <td>1.89</td>\n",
              "    </tr>\n",
              "    <tr>\n",
              "      <th>0</th>\n",
              "      <td>MIDAGE SINGLES/COUPLES</td>\n",
              "      <td>Budget</td>\n",
              "      <td>4991</td>\n",
              "      <td>9446</td>\n",
              "      <td>35439.80</td>\n",
              "      <td>3.75</td>\n",
              "      <td>1.89</td>\n",
              "    </tr>\n",
              "  </tbody>\n",
              "</table>\n",
              "</div>"
            ],
            "text/plain": [
              "                 LIFESTAGE PREMIUM_CUSTOMER  TXN_ID_COUNT  PROD_QTY  \\\n",
              "20   YOUNG SINGLES/COUPLES          Premium          6232     11246   \n",
              "19   YOUNG SINGLES/COUPLES       Mainstream         20807     38547   \n",
              "18   YOUNG SINGLES/COUPLES           Budget          9171     16551   \n",
              "17          YOUNG FAMILIES          Premium         11499     22278   \n",
              "16          YOUNG FAMILIES       Mainstream         12815     24866   \n",
              "15          YOUNG FAMILIES           Budget         19011     36894   \n",
              "14                RETIREES          Premium         13029     24754   \n",
              "13                RETIREES       Mainstream         21328     40262   \n",
              "12                RETIREES           Budget         15140     28651   \n",
              "11   OLDER SINGLES/COUPLES          Premium         17671     33827   \n",
              "10   OLDER SINGLES/COUPLES       Mainstream         18223     34812   \n",
              "9    OLDER SINGLES/COUPLES           Budget         18312     35040   \n",
              "8           OLDER FAMILIES          Premium         11123     21648   \n",
              "7           OLDER FAMILIES       Mainstream         14155     27585   \n",
              "6           OLDER FAMILIES           Budget         23015     44782   \n",
              "5             NEW FAMILIES          Premium          1583      2946   \n",
              "4             NEW FAMILIES       Mainstream          2319      4308   \n",
              "3             NEW FAMILIES           Budget          2997      5558   \n",
              "1   MIDAGE SINGLES/COUPLES       Mainstream         11824     22603   \n",
              "2   MIDAGE SINGLES/COUPLES          Premium          8158     15418   \n",
              "0   MIDAGE SINGLES/COUPLES           Budget          4991      9446   \n",
              "\n",
              "    TOT_SALES  average_sales  average_unit  \n",
              "20   41514.60           3.69          1.80  \n",
              "19  157494.10           4.09          1.85  \n",
              "18   60961.60           3.68          1.80  \n",
              "17   83833.50           3.76          1.94  \n",
              "16   92521.75           3.72          1.94  \n",
              "15  139020.35           3.77          1.94  \n",
              "14   97451.05           3.94          1.90  \n",
              "13  155293.05           3.86          1.89  \n",
              "12  112978.30           3.94          1.89  \n",
              "11  132021.65           3.90          1.91  \n",
              "10  133116.30           3.82          1.91  \n",
              "9   136499.80           3.90          1.91  \n",
              "8    80473.90           3.72          1.95  \n",
              "7   103189.05           3.74          1.95  \n",
              "6   167938.75           3.75          1.95  \n",
              "5    11474.60           3.89          1.86  \n",
              "4    16997.40           3.95          1.86  \n",
              "3    21908.95           3.94          1.85  \n",
              "1    90659.85           4.01          1.91  \n",
              "2    58270.65           3.78          1.89  \n",
              "0    35439.80           3.75          1.89  "
            ]
          },
          "execution_count": 85,
          "metadata": {},
          "output_type": "execute_result"
        }
      ],
      "source": [
        "df3.sort_values(by=\"LIFESTAGE\",ascending=False)"
      ]
    },
    {
      "cell_type": "code",
      "execution_count": null,
      "id": "8e5e5ee9",
      "metadata": {
        "id": "8e5e5ee9"
      },
      "outputs": [],
      "source": []
    },
    {
      "cell_type": "code",
      "execution_count": null,
      "id": "cb5f8ef7",
      "metadata": {
        "id": "cb5f8ef7"
      },
      "outputs": [],
      "source": [
        "valuable=merge[(merge.PREMIUM_CUSTOMER==\"Mainstream\") & (merge.LIFESTAGE==\"YOUNG SINGLES/COUPLES\")]"
      ]
    },
    {
      "cell_type": "code",
      "execution_count": null,
      "id": "d467bc8e",
      "metadata": {
        "id": "d467bc8e",
        "outputId": "ece685bb-2e49-43aa-805a-c411b756499e"
      },
      "outputs": [
        {
          "data": {
            "text/plain": [
              "Kettle      3844\n",
              "Pringles    2315\n",
              "Doritos     2238\n",
              "Smiths      1857\n",
              "Thins       1166\n",
              "Name: Brand, dtype: int64"
            ]
          },
          "execution_count": 103,
          "metadata": {},
          "output_type": "execute_result"
        }
      ],
      "source": [
        "valuable.Brand.value_counts()[:5]"
      ]
    },
    {
      "cell_type": "code",
      "execution_count": null,
      "id": "e9245468",
      "metadata": {
        "id": "e9245468",
        "outputId": "5e06ea70-650a-4c6c-ccb0-adb6986bd59c"
      },
      "outputs": [
        {
          "data": {
            "text/plain": [
              "175    4997\n",
              "150    3241\n",
              "134    2315\n",
              "110    2051\n",
              "170    1575\n",
              "Name: Quantity_gm, dtype: int64"
            ]
          },
          "execution_count": 102,
          "metadata": {},
          "output_type": "execute_result"
        }
      ],
      "source": [
        "valuable.Quantity_gm.value_counts()[:5]"
      ]
    },
    {
      "cell_type": "markdown",
      "id": "9c25eb53",
      "metadata": {
        "id": "9c25eb53"
      },
      "source": [
        "## They are our  target customer segments that contribute the most to sales."
      ]
    },
    {
      "cell_type": "markdown",
      "id": "9f22b449",
      "metadata": {
        "id": "9f22b449"
      },
      "source": [
        "# From Above Mainstream  YOUNG SINGLES/COUPLES tends to buy Kettle brands more and Pack size of 175 is most selling among all of them"
      ]
    },
    {
      "cell_type": "markdown",
      "id": "aabff76b",
      "metadata": {
        "id": "aabff76b"
      },
      "source": [
        "# "
      ]
    },
    {
      "cell_type": "code",
      "execution_count": null,
      "id": "ce9bac2b",
      "metadata": {
        "id": "ce9bac2b"
      },
      "outputs": [],
      "source": [
        "valuable1=merge[(merge.PREMIUM_CUSTOMER==\"Mainstream\") & (merge.LIFESTAGE==\"MIDAGE SINGLES/COUPLES\")]"
      ]
    },
    {
      "cell_type": "code",
      "execution_count": null,
      "id": "f4940c6f",
      "metadata": {
        "id": "f4940c6f",
        "outputId": "54e36148-f635-4f85-e6e1-ecad0c423ad0"
      },
      "outputs": [
        {
          "data": {
            "text/plain": [
              "Kettle      2136\n",
              "Smiths      1237\n",
              "Pringles    1159\n",
              "Doritos     1153\n",
              "Red          655\n",
              "Name: Brand, dtype: int64"
            ]
          },
          "execution_count": 101,
          "metadata": {},
          "output_type": "execute_result"
        }
      ],
      "source": [
        "valuable1.Brand.value_counts()[:5]"
      ]
    },
    {
      "cell_type": "code",
      "execution_count": null,
      "id": "947e237a",
      "metadata": {
        "id": "947e237a",
        "outputId": "ce192155-f73b-4fc5-a2fd-65df72d64b7c"
      },
      "outputs": [
        {
          "data": {
            "text/plain": [
              "175    2975\n",
              "150    1882\n",
              "134    1159\n",
              "110    1124\n",
              "170     882\n",
              "Name: Quantity_gm, dtype: int64"
            ]
          },
          "execution_count": 100,
          "metadata": {},
          "output_type": "execute_result"
        }
      ],
      "source": [
        "valuable1.Quantity_gm.value_counts()[:5]"
      ]
    },
    {
      "cell_type": "markdown",
      "id": "911dc246",
      "metadata": {
        "id": "911dc246"
      },
      "source": [
        "# From Above Mainstream  MIDAGE SINGLES/COUPLES tends to buy Kettle brands more and Pack size of 175 is most selling among all of them"
      ]
    },
    {
      "cell_type": "code",
      "execution_count": null,
      "id": "fefd4f1e",
      "metadata": {
        "id": "fefd4f1e"
      },
      "outputs": [],
      "source": []
    }
  ],
  "metadata": {
    "kernelspec": {
      "display_name": "Python 3 (ipykernel)",
      "language": "python",
      "name": "python3"
    },
    "language_info": {
      "codemirror_mode": {
        "name": "ipython",
        "version": 3
      },
      "file_extension": ".py",
      "mimetype": "text/x-python",
      "name": "python",
      "nbconvert_exporter": "python",
      "pygments_lexer": "ipython3",
      "version": "3.9.12"
    },
    "colab": {
      "provenance": [],
      "include_colab_link": true
    }
  },
  "nbformat": 4,
  "nbformat_minor": 5
}